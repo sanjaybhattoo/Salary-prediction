{
 "cells": [
  {
   "cell_type": "code",
   "execution_count": 1,
   "metadata": {
    "id": "FCGDd09-chqx"
   },
   "outputs": [],
   "source": [
    "import pandas as pd\n",
    "\n",
    "import warnings\n",
    "warnings.filterwarnings('ignore')"
   ]
  },
  {
   "cell_type": "code",
   "execution_count": 2,
   "metadata": {
    "id": "GtsNkCYkchqz"
   },
   "outputs": [],
   "source": [
    "df = pd.read_csv('data_salary.csv')"
   ]
  },
  {
   "cell_type": "code",
   "execution_count": 3,
   "metadata": {
    "colab": {
     "base_uri": "https://localhost:8080/",
     "height": 565
    },
    "id": "PlVJnjOVchq0",
    "outputId": "7c4208c8-6adb-4194-9767-aca260ca3e0c"
   },
   "outputs": [
    {
     "data": {
      "text/html": [
       "<div>\n",
       "<style scoped>\n",
       "    .dataframe tbody tr th:only-of-type {\n",
       "        vertical-align: middle;\n",
       "    }\n",
       "\n",
       "    .dataframe tbody tr th {\n",
       "        vertical-align: top;\n",
       "    }\n",
       "\n",
       "    .dataframe thead th {\n",
       "        text-align: right;\n",
       "    }\n",
       "</style>\n",
       "<table border=\"1\" class=\"dataframe\">\n",
       "  <thead>\n",
       "    <tr style=\"text-align: right;\">\n",
       "      <th></th>\n",
       "      <th>Unnamed: 0</th>\n",
       "      <th>Job Title</th>\n",
       "      <th>Salary Estimate</th>\n",
       "      <th>Job Description</th>\n",
       "      <th>Rating</th>\n",
       "      <th>Company Name</th>\n",
       "      <th>Location</th>\n",
       "      <th>Headquarters</th>\n",
       "      <th>Size</th>\n",
       "      <th>Founded</th>\n",
       "      <th>Type of ownership</th>\n",
       "      <th>Industry</th>\n",
       "      <th>Sector</th>\n",
       "      <th>Revenue</th>\n",
       "      <th>Competitors</th>\n",
       "    </tr>\n",
       "  </thead>\n",
       "  <tbody>\n",
       "    <tr>\n",
       "      <th>0</th>\n",
       "      <td>0</td>\n",
       "      <td>Data Scientist</td>\n",
       "      <td>$53K-$91K (Glassdoor est.)</td>\n",
       "      <td>Data Scientist\\nLocation: Albuquerque, NM\\nEdu...</td>\n",
       "      <td>3.8</td>\n",
       "      <td>Tecolote Research\\n3.8</td>\n",
       "      <td>Albuquerque, NM</td>\n",
       "      <td>Goleta, CA</td>\n",
       "      <td>501 to 1000 employees</td>\n",
       "      <td>1973</td>\n",
       "      <td>Company - Private</td>\n",
       "      <td>Aerospace &amp; Defense</td>\n",
       "      <td>Aerospace &amp; Defense</td>\n",
       "      <td>$50 to $100 million (USD)</td>\n",
       "      <td>-1</td>\n",
       "    </tr>\n",
       "    <tr>\n",
       "      <th>1</th>\n",
       "      <td>1</td>\n",
       "      <td>Healthcare Data Scientist</td>\n",
       "      <td>$63K-$112K (Glassdoor est.)</td>\n",
       "      <td>What You Will Do:\\n\\nI. General Summary\\n\\nThe...</td>\n",
       "      <td>3.4</td>\n",
       "      <td>University of Maryland Medical System\\n3.4</td>\n",
       "      <td>Linthicum, MD</td>\n",
       "      <td>Baltimore, MD</td>\n",
       "      <td>10000+ employees</td>\n",
       "      <td>1984</td>\n",
       "      <td>Other Organization</td>\n",
       "      <td>Health Care Services &amp; Hospitals</td>\n",
       "      <td>Health Care</td>\n",
       "      <td>$2 to $5 billion (USD)</td>\n",
       "      <td>-1</td>\n",
       "    </tr>\n",
       "    <tr>\n",
       "      <th>2</th>\n",
       "      <td>2</td>\n",
       "      <td>Data Scientist</td>\n",
       "      <td>$80K-$90K (Glassdoor est.)</td>\n",
       "      <td>KnowBe4, Inc. is a high growth information sec...</td>\n",
       "      <td>4.8</td>\n",
       "      <td>KnowBe4\\n4.8</td>\n",
       "      <td>Clearwater, FL</td>\n",
       "      <td>Clearwater, FL</td>\n",
       "      <td>501 to 1000 employees</td>\n",
       "      <td>2010</td>\n",
       "      <td>Company - Private</td>\n",
       "      <td>Security Services</td>\n",
       "      <td>Business Services</td>\n",
       "      <td>$100 to $500 million (USD)</td>\n",
       "      <td>-1</td>\n",
       "    </tr>\n",
       "    <tr>\n",
       "      <th>3</th>\n",
       "      <td>3</td>\n",
       "      <td>Data Scientist</td>\n",
       "      <td>$56K-$97K (Glassdoor est.)</td>\n",
       "      <td>*Organization and Job ID**\\nJob ID: 310709\\n\\n...</td>\n",
       "      <td>3.8</td>\n",
       "      <td>PNNL\\n3.8</td>\n",
       "      <td>Richland, WA</td>\n",
       "      <td>Richland, WA</td>\n",
       "      <td>1001 to 5000 employees</td>\n",
       "      <td>1965</td>\n",
       "      <td>Government</td>\n",
       "      <td>Energy</td>\n",
       "      <td>Oil, Gas, Energy &amp; Utilities</td>\n",
       "      <td>$500 million to $1 billion (USD)</td>\n",
       "      <td>Oak Ridge National Laboratory, National Renewa...</td>\n",
       "    </tr>\n",
       "    <tr>\n",
       "      <th>4</th>\n",
       "      <td>4</td>\n",
       "      <td>Data Scientist</td>\n",
       "      <td>$86K-$143K (Glassdoor est.)</td>\n",
       "      <td>Data Scientist\\nAffinity Solutions / Marketing...</td>\n",
       "      <td>2.9</td>\n",
       "      <td>Affinity Solutions\\n2.9</td>\n",
       "      <td>New York, NY</td>\n",
       "      <td>New York, NY</td>\n",
       "      <td>51 to 200 employees</td>\n",
       "      <td>1998</td>\n",
       "      <td>Company - Private</td>\n",
       "      <td>Advertising &amp; Marketing</td>\n",
       "      <td>Business Services</td>\n",
       "      <td>Unknown / Non-Applicable</td>\n",
       "      <td>Commerce Signals, Cardlytics, Yodlee</td>\n",
       "    </tr>\n",
       "  </tbody>\n",
       "</table>\n",
       "</div>"
      ],
      "text/plain": [
       "   Unnamed: 0                  Job Title              Salary Estimate  \\\n",
       "0           0             Data Scientist   $53K-$91K (Glassdoor est.)   \n",
       "1           1  Healthcare Data Scientist  $63K-$112K (Glassdoor est.)   \n",
       "2           2             Data Scientist   $80K-$90K (Glassdoor est.)   \n",
       "3           3             Data Scientist   $56K-$97K (Glassdoor est.)   \n",
       "4           4             Data Scientist  $86K-$143K (Glassdoor est.)   \n",
       "\n",
       "                                     Job Description  Rating  \\\n",
       "0  Data Scientist\\nLocation: Albuquerque, NM\\nEdu...     3.8   \n",
       "1  What You Will Do:\\n\\nI. General Summary\\n\\nThe...     3.4   \n",
       "2  KnowBe4, Inc. is a high growth information sec...     4.8   \n",
       "3  *Organization and Job ID**\\nJob ID: 310709\\n\\n...     3.8   \n",
       "4  Data Scientist\\nAffinity Solutions / Marketing...     2.9   \n",
       "\n",
       "                                 Company Name         Location  \\\n",
       "0                      Tecolote Research\\n3.8  Albuquerque, NM   \n",
       "1  University of Maryland Medical System\\n3.4    Linthicum, MD   \n",
       "2                                KnowBe4\\n4.8   Clearwater, FL   \n",
       "3                                   PNNL\\n3.8     Richland, WA   \n",
       "4                     Affinity Solutions\\n2.9     New York, NY   \n",
       "\n",
       "     Headquarters                    Size  Founded   Type of ownership  \\\n",
       "0      Goleta, CA   501 to 1000 employees     1973   Company - Private   \n",
       "1   Baltimore, MD        10000+ employees     1984  Other Organization   \n",
       "2  Clearwater, FL   501 to 1000 employees     2010   Company - Private   \n",
       "3    Richland, WA  1001 to 5000 employees     1965          Government   \n",
       "4    New York, NY     51 to 200 employees     1998   Company - Private   \n",
       "\n",
       "                           Industry                        Sector  \\\n",
       "0               Aerospace & Defense           Aerospace & Defense   \n",
       "1  Health Care Services & Hospitals                   Health Care   \n",
       "2                 Security Services             Business Services   \n",
       "3                            Energy  Oil, Gas, Energy & Utilities   \n",
       "4           Advertising & Marketing             Business Services   \n",
       "\n",
       "                            Revenue  \\\n",
       "0         $50 to $100 million (USD)   \n",
       "1            $2 to $5 billion (USD)   \n",
       "2        $100 to $500 million (USD)   \n",
       "3  $500 million to $1 billion (USD)   \n",
       "4          Unknown / Non-Applicable   \n",
       "\n",
       "                                         Competitors  \n",
       "0                                                 -1  \n",
       "1                                                 -1  \n",
       "2                                                 -1  \n",
       "3  Oak Ridge National Laboratory, National Renewa...  \n",
       "4               Commerce Signals, Cardlytics, Yodlee  "
      ]
     },
     "execution_count": 3,
     "metadata": {},
     "output_type": "execute_result"
    }
   ],
   "source": [
    "df.head()\n"
   ]
  },
  {
   "cell_type": "code",
   "execution_count": 4,
   "metadata": {
    "colab": {
     "base_uri": "https://localhost:8080/"
    },
    "id": "6-N3MTxpchq2",
    "outputId": "0ba91c26-f965-47a2-a1e2-c123de9171f6"
   },
   "outputs": [
    {
     "data": {
      "text/plain": [
       "(956, 15)"
      ]
     },
     "execution_count": 4,
     "metadata": {},
     "output_type": "execute_result"
    }
   ],
   "source": [
    "df.shape"
   ]
  },
  {
   "cell_type": "code",
   "execution_count": 5,
   "metadata": {
    "colab": {
     "base_uri": "https://localhost:8080/"
    },
    "id": "4ktcdTwl35_w",
    "outputId": "c74ed04c-4a5d-46e8-ae9c-5d842e9e7406"
   },
   "outputs": [
    {
     "data": {
      "text/plain": [
       "Index(['Unnamed: 0', 'Job Title', 'Salary Estimate', 'Job Description',\n",
       "       'Rating', 'Company Name', 'Location', 'Headquarters', 'Size', 'Founded',\n",
       "       'Type of ownership', 'Industry', 'Sector', 'Revenue', 'Competitors'],\n",
       "      dtype='object')"
      ]
     },
     "execution_count": 5,
     "metadata": {},
     "output_type": "execute_result"
    }
   ],
   "source": [
    "df.columns"
   ]
  },
  {
   "cell_type": "code",
   "execution_count": 6,
   "metadata": {
    "colab": {
     "base_uri": "https://localhost:8080/"
    },
    "id": "CZ4A3JWb3-Fq",
    "outputId": "fd353a75-0336-41a1-b843-675da55f6021"
   },
   "outputs": [
    {
     "data": {
      "text/plain": [
       "Unnamed: 0           0\n",
       "Job Title            0\n",
       "Salary Estimate      0\n",
       "Job Description      0\n",
       "Rating               0\n",
       "Company Name         0\n",
       "Location             0\n",
       "Headquarters         0\n",
       "Size                 0\n",
       "Founded              0\n",
       "Type of ownership    0\n",
       "Industry             0\n",
       "Sector               0\n",
       "Revenue              0\n",
       "Competitors          0\n",
       "dtype: int64"
      ]
     },
     "execution_count": 6,
     "metadata": {},
     "output_type": "execute_result"
    }
   ],
   "source": [
    "df.isna().sum()"
   ]
  },
  {
   "cell_type": "code",
   "execution_count": 7,
   "metadata": {
    "colab": {
     "base_uri": "https://localhost:8080/"
    },
    "id": "DEi8WGLb3-HY",
    "outputId": "ba30fc37-c809-438b-a8fb-e3ef0a5c9e34"
   },
   "outputs": [
    {
     "data": {
      "text/plain": [
       "0       $53K-$91K (Glassdoor est.)\n",
       "1      $63K-$112K (Glassdoor est.)\n",
       "2       $80K-$90K (Glassdoor est.)\n",
       "3       $56K-$97K (Glassdoor est.)\n",
       "4      $86K-$143K (Glassdoor est.)\n",
       "                  ...             \n",
       "951    $72K-$133K (Glassdoor est.)\n",
       "952     $56K-$91K (Glassdoor est.)\n",
       "953    $95K-$160K (Glassdoor est.)\n",
       "954                             -1\n",
       "955    $61K-$126K (Glassdoor est.)\n",
       "Name: Salary Estimate, Length: 956, dtype: object"
      ]
     },
     "execution_count": 7,
     "metadata": {},
     "output_type": "execute_result"
    }
   ],
   "source": [
    "df[\"Salary Estimate\"]"
   ]
  },
  {
   "cell_type": "code",
   "execution_count": null,
   "metadata": {
    "id": "bmu4NEYh3-K7"
   },
   "outputs": [],
   "source": []
  },
  {
   "cell_type": "code",
   "execution_count": 8,
   "metadata": {
    "id": "WivS6yIichq2"
   },
   "outputs": [],
   "source": [
    "df['hourly'] = df['Salary Estimate'].apply(lambda x: 1 if 'per hour' in x.lower() else 0)\n",
    "df['employer_provided'] = df['Salary Estimate'].apply(lambda x: 1 if 'employer provided salary:' in x.lower() else 0)\n"
   ]
  },
  {
   "cell_type": "code",
   "execution_count": 9,
   "metadata": {
    "colab": {
     "base_uri": "https://localhost:8080/"
    },
    "id": "qBKYpoOV6Zj4",
    "outputId": "3097c42a-6194-4fd4-d227-6b8bfcba28e4"
   },
   "outputs": [
    {
     "data": {
      "text/plain": [
       "Index(['Unnamed: 0', 'Job Title', 'Salary Estimate', 'Job Description',\n",
       "       'Rating', 'Company Name', 'Location', 'Headquarters', 'Size', 'Founded',\n",
       "       'Type of ownership', 'Industry', 'Sector', 'Revenue', 'Competitors',\n",
       "       'hourly', 'employer_provided'],\n",
       "      dtype='object')"
      ]
     },
     "execution_count": 9,
     "metadata": {},
     "output_type": "execute_result"
    }
   ],
   "source": [
    "df.columns"
   ]
  },
  {
   "cell_type": "code",
   "execution_count": 10,
   "metadata": {
    "colab": {
     "base_uri": "https://localhost:8080/"
    },
    "id": "Ip250Cv36Zmv",
    "outputId": "f68c6eda-99d2-4f07-dbaf-a4019a4324f5"
   },
   "outputs": [
    {
     "data": {
      "text/plain": [
       "array([0, 1], dtype=int64)"
      ]
     },
     "execution_count": 10,
     "metadata": {},
     "output_type": "execute_result"
    }
   ],
   "source": [
    "df[\"hourly\"].unique()"
   ]
  },
  {
   "cell_type": "code",
   "execution_count": null,
   "metadata": {
    "id": "-khJ130C7OA1"
   },
   "outputs": [],
   "source": []
  },
  {
   "cell_type": "code",
   "execution_count": 11,
   "metadata": {
    "id": "BofYIEdcchq3"
   },
   "outputs": [],
   "source": [
    "df = df[df['Salary Estimate'] != '-1']\n",
    "salary = df['Salary Estimate'].apply(lambda x: x.split('(')[0])\n",
    "minus_Kd = salary.apply(lambda x: x.replace('K','').replace('$',''))"
   ]
  },
  {
   "cell_type": "code",
   "execution_count": 12,
   "metadata": {
    "id": "Eo8S8v8Mchq4"
   },
   "outputs": [],
   "source": [
    "min_hr = minus_Kd.apply(lambda x: x.lower().replace('per hour','').replace('employer provided salary:',''))\n"
   ]
  },
  {
   "cell_type": "code",
   "execution_count": 13,
   "metadata": {
    "id": "kUw21PqBchq5"
   },
   "outputs": [],
   "source": [
    "df['min_salary'] = min_hr.apply(lambda x: int(x.split('-')[0]))\n",
    "df['max_salary'] = min_hr.apply(lambda x: int(x.split('-')[1]))\n",
    "df['avg_salary'] = (df.min_salary+df.max_salary)/2"
   ]
  },
  {
   "cell_type": "code",
   "execution_count": 14,
   "metadata": {
    "colab": {
     "base_uri": "https://localhost:8080/"
    },
    "id": "cly2xuBjUuAF",
    "outputId": "f6f47d6b-23d3-4a10-fe71-f124bc372a40"
   },
   "outputs": [
    {
     "data": {
      "text/plain": [
       "0                        Tecolote Research\\n3.8\n",
       "1    University of Maryland Medical System\\n3.4\n",
       "2                                  KnowBe4\\n4.8\n",
       "3                                     PNNL\\n3.8\n",
       "4                       Affinity Solutions\\n2.9\n",
       "Name: Company Name, dtype: object"
      ]
     },
     "execution_count": 14,
     "metadata": {},
     "output_type": "execute_result"
    }
   ],
   "source": [
    "df[\"Company Name\"].head(5)"
   ]
  },
  {
   "cell_type": "code",
   "execution_count": 15,
   "metadata": {
    "id": "xVfdv6Pqchq6"
   },
   "outputs": [],
   "source": [
    "df['company_txt'] = df.apply(lambda x: x['Company Name'] if x['Rating'] <0 else x['Company Name'][:-3], axis = 1)"
   ]
  },
  {
   "cell_type": "code",
   "execution_count": 16,
   "metadata": {
    "colab": {
     "base_uri": "https://localhost:8080/"
    },
    "id": "potBNttJ7Vuc",
    "outputId": "d2c4defa-2719-4771-af88-32fa87ba4793"
   },
   "outputs": [
    {
     "data": {
      "text/plain": [
       "200"
      ]
     },
     "execution_count": 16,
     "metadata": {},
     "output_type": "execute_result"
    }
   ],
   "source": [
    "df[\"Location\"].nunique()"
   ]
  },
  {
   "cell_type": "code",
   "execution_count": 17,
   "metadata": {
    "colab": {
     "base_uri": "https://localhost:8080/"
    },
    "id": "Zd1NVu4VMLrS",
    "outputId": "0e1cc07c-48d3-4611-a830-ae210dcbec6a"
   },
   "outputs": [
    {
     "data": {
      "text/plain": [
       "0    Albuquerque, NM\n",
       "1      Linthicum, MD\n",
       "2     Clearwater, FL\n",
       "3       Richland, WA\n",
       "4       New York, NY\n",
       "Name: Location, dtype: object"
      ]
     },
     "execution_count": 17,
     "metadata": {},
     "output_type": "execute_result"
    }
   ],
   "source": [
    "df[\"Location\"].head(5)"
   ]
  },
  {
   "cell_type": "code",
   "execution_count": null,
   "metadata": {
    "id": "KXnrT_PTMLu3"
   },
   "outputs": [],
   "source": []
  },
  {
   "cell_type": "code",
   "execution_count": 18,
   "metadata": {
    "colab": {
     "base_uri": "https://localhost:8080/"
    },
    "id": "4a2CZPvwchq6",
    "outputId": "c8719cda-4a3b-4576-a9fb-a544e76a55d0"
   },
   "outputs": [
    {
     "data": {
      "text/plain": [
       " CA             151\n",
       " MA             103\n",
       " NY              72\n",
       " VA              41\n",
       " IL              40\n",
       " MD              35\n",
       " PA              33\n",
       " TX              28\n",
       " WA              21\n",
       " NC              21\n",
       " NJ              17\n",
       " FL              16\n",
       " OH              14\n",
       " TN              13\n",
       " DC              11\n",
       " CO              11\n",
       " WI              10\n",
       " IN              10\n",
       " UT              10\n",
       " AZ               9\n",
       " MO               9\n",
       " AL               8\n",
       " GA               6\n",
       " KY               6\n",
       " DE               6\n",
       " MI               6\n",
       " CT               5\n",
       " IA               5\n",
       " LA               4\n",
       " OR               4\n",
       " NE               4\n",
       " NM               3\n",
       " KS               3\n",
       " ID               2\n",
       " MN               2\n",
       " Los Angeles      1\n",
       " RI               1\n",
       " SC               1\n",
       "Name: job_state, dtype: int64"
      ]
     },
     "execution_count": 18,
     "metadata": {},
     "output_type": "execute_result"
    }
   ],
   "source": [
    "df['job_state'] = df['Location'].apply(lambda x: x.split(',')[1])\n",
    "df.job_state.value_counts()"
   ]
  },
  {
   "cell_type": "code",
   "execution_count": 19,
   "metadata": {
    "colab": {
     "base_uri": "https://localhost:8080/"
    },
    "id": "3mm5do6d7q-k",
    "outputId": "7ba30c85-ad08-41bc-d47c-c508a2a2e232"
   },
   "outputs": [
    {
     "data": {
      "text/plain": [
       "38"
      ]
     },
     "execution_count": 19,
     "metadata": {},
     "output_type": "execute_result"
    }
   ],
   "source": [
    "df[\"job_state\"].nunique()"
   ]
  },
  {
   "cell_type": "code",
   "execution_count": null,
   "metadata": {
    "id": "u39Bd8J37rBr"
   },
   "outputs": [],
   "source": []
  },
  {
   "cell_type": "code",
   "execution_count": 20,
   "metadata": {
    "id": "OlCIWA8Pchq8"
   },
   "outputs": [],
   "source": [
    "df['same_state'] = df.apply(lambda x: 1 if x.Location == x.Headquarters else 0, axis = 1)"
   ]
  },
  {
   "cell_type": "code",
   "execution_count": 21,
   "metadata": {
    "id": "z8H-HLM6chq8"
   },
   "outputs": [],
   "source": [
    "df['age'] = df.Founded.apply(lambda x: x if x <1 else 2020 - x)"
   ]
  },
  {
   "cell_type": "code",
   "execution_count": 22,
   "metadata": {
    "id": "Q49KRPZvchq9"
   },
   "outputs": [],
   "source": [
    "df['python_yn'] = df['Job Description'].apply(lambda x: 1 if 'python' in x.lower() else 0)"
   ]
  },
  {
   "cell_type": "code",
   "execution_count": 23,
   "metadata": {
    "colab": {
     "base_uri": "https://localhost:8080/"
    },
    "id": "BpUT0P34chq-",
    "outputId": "7cebc0b5-4976-411b-f160-3077c8d4e44d"
   },
   "outputs": [
    {
     "data": {
      "text/plain": [
       "0    740\n",
       "1      2\n",
       "Name: R_yn, dtype: int64"
      ]
     },
     "execution_count": 23,
     "metadata": {},
     "output_type": "execute_result"
    }
   ],
   "source": [
    "df['R_yn'] = df['Job Description'].apply(lambda x: 1 if 'r studio' in x.lower() or 'r-studio' in x.lower() else 0)\n",
    "df.R_yn.value_counts()\n"
   ]
  },
  {
   "cell_type": "code",
   "execution_count": 24,
   "metadata": {
    "colab": {
     "base_uri": "https://localhost:8080/"
    },
    "id": "myarGKuqchq-",
    "outputId": "e16c7ba2-8906-41c2-af60-5704dde15497"
   },
   "outputs": [
    {
     "data": {
      "text/plain": [
       "0    575\n",
       "1    167\n",
       "Name: spark, dtype: int64"
      ]
     },
     "execution_count": 24,
     "metadata": {},
     "output_type": "execute_result"
    }
   ],
   "source": [
    "df['spark'] = df['Job Description'].apply(lambda x: 1 if 'spark' in x.lower() else 0)\n",
    "df.spark.value_counts()\n"
   ]
  },
  {
   "cell_type": "code",
   "execution_count": 25,
   "metadata": {
    "colab": {
     "base_uri": "https://localhost:8080/"
    },
    "id": "49c4tAS6chq_",
    "outputId": "ed36c8ff-b2cd-4c35-8f43-883900b968a0"
   },
   "outputs": [
    {
     "data": {
      "text/plain": [
       "0    566\n",
       "1    176\n",
       "Name: aws, dtype: int64"
      ]
     },
     "execution_count": 25,
     "metadata": {},
     "output_type": "execute_result"
    }
   ],
   "source": [
    "df['aws'] = df['Job Description'].apply(lambda x: 1 if 'aws' in x.lower() else 0)\n",
    "df.aws.value_counts()"
   ]
  },
  {
   "cell_type": "code",
   "execution_count": 26,
   "metadata": {
    "colab": {
     "base_uri": "https://localhost:8080/"
    },
    "id": "C_hTt01NchrA",
    "outputId": "5bc16fa9-a1c7-4752-9ede-9d1d36f4c5a4"
   },
   "outputs": [
    {
     "data": {
      "text/plain": [
       "1    388\n",
       "0    354\n",
       "Name: excel, dtype: int64"
      ]
     },
     "execution_count": 26,
     "metadata": {},
     "output_type": "execute_result"
    }
   ],
   "source": [
    "df['excel'] = df['Job Description'].apply(lambda x: 1 if 'excel' in x.lower() else 0)\n",
    "df.excel.value_counts()"
   ]
  },
  {
   "cell_type": "code",
   "execution_count": 27,
   "metadata": {
    "colab": {
     "base_uri": "https://localhost:8080/"
    },
    "id": "RSKzSi-6chrA",
    "outputId": "de5c9d71-2815-4b5c-d80b-663efdab0e1e"
   },
   "outputs": [
    {
     "data": {
      "text/plain": [
       "Index(['Unnamed: 0', 'Job Title', 'Salary Estimate', 'Job Description',\n",
       "       'Rating', 'Company Name', 'Location', 'Headquarters', 'Size', 'Founded',\n",
       "       'Type of ownership', 'Industry', 'Sector', 'Revenue', 'Competitors',\n",
       "       'hourly', 'employer_provided', 'min_salary', 'max_salary', 'avg_salary',\n",
       "       'company_txt', 'job_state', 'same_state', 'age', 'python_yn', 'R_yn',\n",
       "       'spark', 'aws', 'excel'],\n",
       "      dtype='object')"
      ]
     },
     "execution_count": 27,
     "metadata": {},
     "output_type": "execute_result"
    }
   ],
   "source": [
    "df.columns\n"
   ]
  },
  {
   "cell_type": "code",
   "execution_count": 28,
   "metadata": {
    "id": "TKTvHxSbchrB"
   },
   "outputs": [],
   "source": [
    "df_out = df.drop(['Unnamed: 0'], axis =1)\n"
   ]
  },
  {
   "cell_type": "code",
   "execution_count": 29,
   "metadata": {
    "id": "tU5Ms5ugchrB"
   },
   "outputs": [],
   "source": [
    "df_out.to_csv('data_cleaned.csv',index = False)\n"
   ]
  },
  {
   "cell_type": "markdown",
   "metadata": {
    "id": "GLsLCpdbUMl4"
   },
   "source": []
  },
  {
   "cell_type": "code",
   "execution_count": 30,
   "metadata": {
    "id": "uVW4d0ZTchrD"
   },
   "outputs": [],
   "source": [
    "import matplotlib.pyplot as plt \n",
    "import seaborn as sns "
   ]
  },
  {
   "cell_type": "code",
   "execution_count": 31,
   "metadata": {
    "id": "-SbJm4SqchrD"
   },
   "outputs": [],
   "source": [
    "df = pd.read_csv(\"data_cleaned.csv\")"
   ]
  },
  {
   "cell_type": "code",
   "execution_count": 32,
   "metadata": {
    "colab": {
     "base_uri": "https://localhost:8080/",
     "height": 542
    },
    "id": "1JfgC03schrE",
    "outputId": "f9b033e8-7bdb-4ce1-eb02-7c0de42385a5"
   },
   "outputs": [
    {
     "data": {
      "text/html": [
       "<div>\n",
       "<style scoped>\n",
       "    .dataframe tbody tr th:only-of-type {\n",
       "        vertical-align: middle;\n",
       "    }\n",
       "\n",
       "    .dataframe tbody tr th {\n",
       "        vertical-align: top;\n",
       "    }\n",
       "\n",
       "    .dataframe thead th {\n",
       "        text-align: right;\n",
       "    }\n",
       "</style>\n",
       "<table border=\"1\" class=\"dataframe\">\n",
       "  <thead>\n",
       "    <tr style=\"text-align: right;\">\n",
       "      <th></th>\n",
       "      <th>Job Title</th>\n",
       "      <th>Salary Estimate</th>\n",
       "      <th>Job Description</th>\n",
       "      <th>Rating</th>\n",
       "      <th>Company Name</th>\n",
       "      <th>Location</th>\n",
       "      <th>Headquarters</th>\n",
       "      <th>Size</th>\n",
       "      <th>Founded</th>\n",
       "      <th>Type of ownership</th>\n",
       "      <th>...</th>\n",
       "      <th>avg_salary</th>\n",
       "      <th>company_txt</th>\n",
       "      <th>job_state</th>\n",
       "      <th>same_state</th>\n",
       "      <th>age</th>\n",
       "      <th>python_yn</th>\n",
       "      <th>R_yn</th>\n",
       "      <th>spark</th>\n",
       "      <th>aws</th>\n",
       "      <th>excel</th>\n",
       "    </tr>\n",
       "  </thead>\n",
       "  <tbody>\n",
       "    <tr>\n",
       "      <th>0</th>\n",
       "      <td>Data Scientist</td>\n",
       "      <td>$53K-$91K (Glassdoor est.)</td>\n",
       "      <td>Data Scientist\\nLocation: Albuquerque, NM\\nEdu...</td>\n",
       "      <td>3.8</td>\n",
       "      <td>Tecolote Research\\n3.8</td>\n",
       "      <td>Albuquerque, NM</td>\n",
       "      <td>Goleta, CA</td>\n",
       "      <td>501 to 1000 employees</td>\n",
       "      <td>1973</td>\n",
       "      <td>Company - Private</td>\n",
       "      <td>...</td>\n",
       "      <td>72.0</td>\n",
       "      <td>Tecolote Research\\n</td>\n",
       "      <td>NM</td>\n",
       "      <td>0</td>\n",
       "      <td>47</td>\n",
       "      <td>1</td>\n",
       "      <td>0</td>\n",
       "      <td>0</td>\n",
       "      <td>0</td>\n",
       "      <td>1</td>\n",
       "    </tr>\n",
       "    <tr>\n",
       "      <th>1</th>\n",
       "      <td>Healthcare Data Scientist</td>\n",
       "      <td>$63K-$112K (Glassdoor est.)</td>\n",
       "      <td>What You Will Do:\\n\\nI. General Summary\\n\\nThe...</td>\n",
       "      <td>3.4</td>\n",
       "      <td>University of Maryland Medical System\\n3.4</td>\n",
       "      <td>Linthicum, MD</td>\n",
       "      <td>Baltimore, MD</td>\n",
       "      <td>10000+ employees</td>\n",
       "      <td>1984</td>\n",
       "      <td>Other Organization</td>\n",
       "      <td>...</td>\n",
       "      <td>87.5</td>\n",
       "      <td>University of Maryland Medical System\\n</td>\n",
       "      <td>MD</td>\n",
       "      <td>0</td>\n",
       "      <td>36</td>\n",
       "      <td>1</td>\n",
       "      <td>0</td>\n",
       "      <td>0</td>\n",
       "      <td>0</td>\n",
       "      <td>0</td>\n",
       "    </tr>\n",
       "    <tr>\n",
       "      <th>2</th>\n",
       "      <td>Data Scientist</td>\n",
       "      <td>$80K-$90K (Glassdoor est.)</td>\n",
       "      <td>KnowBe4, Inc. is a high growth information sec...</td>\n",
       "      <td>4.8</td>\n",
       "      <td>KnowBe4\\n4.8</td>\n",
       "      <td>Clearwater, FL</td>\n",
       "      <td>Clearwater, FL</td>\n",
       "      <td>501 to 1000 employees</td>\n",
       "      <td>2010</td>\n",
       "      <td>Company - Private</td>\n",
       "      <td>...</td>\n",
       "      <td>85.0</td>\n",
       "      <td>KnowBe4\\n</td>\n",
       "      <td>FL</td>\n",
       "      <td>1</td>\n",
       "      <td>10</td>\n",
       "      <td>1</td>\n",
       "      <td>0</td>\n",
       "      <td>1</td>\n",
       "      <td>0</td>\n",
       "      <td>1</td>\n",
       "    </tr>\n",
       "    <tr>\n",
       "      <th>3</th>\n",
       "      <td>Data Scientist</td>\n",
       "      <td>$56K-$97K (Glassdoor est.)</td>\n",
       "      <td>*Organization and Job ID**\\nJob ID: 310709\\n\\n...</td>\n",
       "      <td>3.8</td>\n",
       "      <td>PNNL\\n3.8</td>\n",
       "      <td>Richland, WA</td>\n",
       "      <td>Richland, WA</td>\n",
       "      <td>1001 to 5000 employees</td>\n",
       "      <td>1965</td>\n",
       "      <td>Government</td>\n",
       "      <td>...</td>\n",
       "      <td>76.5</td>\n",
       "      <td>PNNL\\n</td>\n",
       "      <td>WA</td>\n",
       "      <td>1</td>\n",
       "      <td>55</td>\n",
       "      <td>1</td>\n",
       "      <td>0</td>\n",
       "      <td>0</td>\n",
       "      <td>0</td>\n",
       "      <td>0</td>\n",
       "    </tr>\n",
       "    <tr>\n",
       "      <th>4</th>\n",
       "      <td>Data Scientist</td>\n",
       "      <td>$86K-$143K (Glassdoor est.)</td>\n",
       "      <td>Data Scientist\\nAffinity Solutions / Marketing...</td>\n",
       "      <td>2.9</td>\n",
       "      <td>Affinity Solutions\\n2.9</td>\n",
       "      <td>New York, NY</td>\n",
       "      <td>New York, NY</td>\n",
       "      <td>51 to 200 employees</td>\n",
       "      <td>1998</td>\n",
       "      <td>Company - Private</td>\n",
       "      <td>...</td>\n",
       "      <td>114.5</td>\n",
       "      <td>Affinity Solutions\\n</td>\n",
       "      <td>NY</td>\n",
       "      <td>1</td>\n",
       "      <td>22</td>\n",
       "      <td>1</td>\n",
       "      <td>0</td>\n",
       "      <td>0</td>\n",
       "      <td>0</td>\n",
       "      <td>1</td>\n",
       "    </tr>\n",
       "  </tbody>\n",
       "</table>\n",
       "<p>5 rows × 28 columns</p>\n",
       "</div>"
      ],
      "text/plain": [
       "                   Job Title              Salary Estimate  \\\n",
       "0             Data Scientist   $53K-$91K (Glassdoor est.)   \n",
       "1  Healthcare Data Scientist  $63K-$112K (Glassdoor est.)   \n",
       "2             Data Scientist   $80K-$90K (Glassdoor est.)   \n",
       "3             Data Scientist   $56K-$97K (Glassdoor est.)   \n",
       "4             Data Scientist  $86K-$143K (Glassdoor est.)   \n",
       "\n",
       "                                     Job Description  Rating  \\\n",
       "0  Data Scientist\\nLocation: Albuquerque, NM\\nEdu...     3.8   \n",
       "1  What You Will Do:\\n\\nI. General Summary\\n\\nThe...     3.4   \n",
       "2  KnowBe4, Inc. is a high growth information sec...     4.8   \n",
       "3  *Organization and Job ID**\\nJob ID: 310709\\n\\n...     3.8   \n",
       "4  Data Scientist\\nAffinity Solutions / Marketing...     2.9   \n",
       "\n",
       "                                 Company Name         Location  \\\n",
       "0                      Tecolote Research\\n3.8  Albuquerque, NM   \n",
       "1  University of Maryland Medical System\\n3.4    Linthicum, MD   \n",
       "2                                KnowBe4\\n4.8   Clearwater, FL   \n",
       "3                                   PNNL\\n3.8     Richland, WA   \n",
       "4                     Affinity Solutions\\n2.9     New York, NY   \n",
       "\n",
       "     Headquarters                    Size  Founded   Type of ownership  ...  \\\n",
       "0      Goleta, CA   501 to 1000 employees     1973   Company - Private  ...   \n",
       "1   Baltimore, MD        10000+ employees     1984  Other Organization  ...   \n",
       "2  Clearwater, FL   501 to 1000 employees     2010   Company - Private  ...   \n",
       "3    Richland, WA  1001 to 5000 employees     1965          Government  ...   \n",
       "4    New York, NY     51 to 200 employees     1998   Company - Private  ...   \n",
       "\n",
       "  avg_salary                              company_txt job_state same_state  \\\n",
       "0       72.0                      Tecolote Research\\n        NM          0   \n",
       "1       87.5  University of Maryland Medical System\\n        MD          0   \n",
       "2       85.0                                KnowBe4\\n        FL          1   \n",
       "3       76.5                                   PNNL\\n        WA          1   \n",
       "4      114.5                     Affinity Solutions\\n        NY          1   \n",
       "\n",
       "   age  python_yn  R_yn  spark  aws excel  \n",
       "0   47          1     0      0    0     1  \n",
       "1   36          1     0      0    0     0  \n",
       "2   10          1     0      1    0     1  \n",
       "3   55          1     0      0    0     0  \n",
       "4   22          1     0      0    0     1  \n",
       "\n",
       "[5 rows x 28 columns]"
      ]
     },
     "execution_count": 32,
     "metadata": {},
     "output_type": "execute_result"
    }
   ],
   "source": [
    "df.head()"
   ]
  },
  {
   "cell_type": "code",
   "execution_count": 33,
   "metadata": {
    "colab": {
     "base_uri": "https://localhost:8080/"
    },
    "id": "tRsq3qTkchrE",
    "outputId": "170b5388-f4f9-4cb5-fb3f-8a96135f4fcd",
    "scrolled": true
   },
   "outputs": [
    {
     "data": {
      "text/plain": [
       "Index(['Job Title', 'Salary Estimate', 'Job Description', 'Rating',\n",
       "       'Company Name', 'Location', 'Headquarters', 'Size', 'Founded',\n",
       "       'Type of ownership', 'Industry', 'Sector', 'Revenue', 'Competitors',\n",
       "       'hourly', 'employer_provided', 'min_salary', 'max_salary', 'avg_salary',\n",
       "       'company_txt', 'job_state', 'same_state', 'age', 'python_yn', 'R_yn',\n",
       "       'spark', 'aws', 'excel'],\n",
       "      dtype='object')"
      ]
     },
     "execution_count": 33,
     "metadata": {},
     "output_type": "execute_result"
    }
   ],
   "source": [
    "df.columns"
   ]
  },
  {
   "cell_type": "code",
   "execution_count": 34,
   "metadata": {
    "id": "jBWdfw54chrF"
   },
   "outputs": [],
   "source": [
    "def job_simple(title):\n",
    "    if 'data scientist' in title.lower():\n",
    "        return 'data scientist'\n",
    "    elif 'data engineer' in title.lower():\n",
    "        return 'data engineer'\n",
    "    elif 'analyst' in title.lower():\n",
    "        return 'analyst'\n",
    "    elif 'machine learning' in title.lower():\n",
    "        return 'mle'\n",
    "    elif 'manager' in title.lower():\n",
    "        return 'manager'\n",
    "    elif 'director' in title.lower():\n",
    "        return 'director'\n",
    "    else:\n",
    "        return 'na'"
   ]
  },
  {
   "cell_type": "code",
   "execution_count": 35,
   "metadata": {
    "id": "yAYipZIOchrG"
   },
   "outputs": [],
   "source": [
    "def seniority(title):\n",
    "    if 'sr' in title.lower() or 'senior' in title.lower() or 'sr.' in title.lower() or 'lead' in title.lower() or 'principal' in title.lower():\n",
    "        return 'senior'\n",
    "    elif 'jr' in title.lower() or 'jr.' in title.lower():\n",
    "        return 'jr'\n",
    "    else:\n",
    "        return 'na'"
   ]
  },
  {
   "cell_type": "code",
   "execution_count": 36,
   "metadata": {
    "id": "U36ZmAILchrG"
   },
   "outputs": [],
   "source": [
    "df['job'] = df['Job Title'].apply(job_simple)\n",
    "df['seniority'] = df['Job Title'].apply(seniority)"
   ]
  },
  {
   "cell_type": "code",
   "execution_count": 37,
   "metadata": {
    "colab": {
     "base_uri": "https://localhost:8080/"
    },
    "id": "ZrfABgXZchrH",
    "outputId": "2bbb2b7f-ef74-44af-fa16-c415ba758957"
   },
   "outputs": [
    {
     "data": {
      "text/plain": [
       "data scientist    279\n",
       "na                184\n",
       "data engineer     119\n",
       "analyst           102\n",
       "manager            22\n",
       "mle                22\n",
       "director           14\n",
       "Name: job, dtype: int64"
      ]
     },
     "execution_count": 37,
     "metadata": {},
     "output_type": "execute_result"
    }
   ],
   "source": [
    "df.job.value_counts()"
   ]
  },
  {
   "cell_type": "code",
   "execution_count": 38,
   "metadata": {
    "colab": {
     "base_uri": "https://localhost:8080/"
    },
    "id": "IcKS2_jFchrH",
    "outputId": "277726cc-1e15-4e9b-c064-d39f286c3156"
   },
   "outputs": [
    {
     "data": {
      "text/plain": [
       "na        520\n",
       "senior    220\n",
       "jr          2\n",
       "Name: seniority, dtype: int64"
      ]
     },
     "execution_count": 38,
     "metadata": {},
     "output_type": "execute_result"
    }
   ],
   "source": [
    "df.seniority.value_counts()"
   ]
  },
  {
   "cell_type": "code",
   "execution_count": 39,
   "metadata": {
    "colab": {
     "base_uri": "https://localhost:8080/"
    },
    "id": "oYrb454QchrH",
    "outputId": "267f41c6-c562-4687-ac72-8bb08749c8a8"
   },
   "outputs": [
    {
     "data": {
      "text/plain": [
       "CA    152\n",
       "MA    103\n",
       "NY     72\n",
       "VA     41\n",
       "IL     40\n",
       "MD     35\n",
       "PA     33\n",
       "TX     28\n",
       "NC     21\n",
       "WA     21\n",
       "NJ     17\n",
       "FL     16\n",
       "OH     14\n",
       "TN     13\n",
       "DC     11\n",
       "CO     11\n",
       "WI     10\n",
       "UT     10\n",
       "IN     10\n",
       "AZ      9\n",
       "MO      9\n",
       "AL      8\n",
       "GA      6\n",
       "DE      6\n",
       "KY      6\n",
       "MI      6\n",
       "CT      5\n",
       "IA      5\n",
       "LA      4\n",
       "OR      4\n",
       "NE      4\n",
       "NM      3\n",
       "KS      3\n",
       "ID      2\n",
       "MN      2\n",
       "RI      1\n",
       "SC      1\n",
       "Name: job_state, dtype: int64"
      ]
     },
     "execution_count": 39,
     "metadata": {},
     "output_type": "execute_result"
    }
   ],
   "source": [
    "df['job_state']= df.job_state.apply(lambda x: x.strip() if x.strip().lower() != 'los angeles' else 'CA')\n",
    "df.job_state.value_counts()\n"
   ]
  },
  {
   "cell_type": "code",
   "execution_count": 40,
   "metadata": {
    "colab": {
     "base_uri": "https://localhost:8080/"
    },
    "id": "WZLM_C_achrI",
    "outputId": "fe97624a-e4db-477d-aab1-4cebf9c97130"
   },
   "outputs": [
    {
     "data": {
      "text/plain": [
       "0      2536\n",
       "1      4783\n",
       "2      3461\n",
       "3      3883\n",
       "4      2728\n",
       "       ... \n",
       "737    6162\n",
       "738    6130\n",
       "739    3078\n",
       "740    1642\n",
       "741    3673\n",
       "Name: desc_len, Length: 742, dtype: int64"
      ]
     },
     "execution_count": 40,
     "metadata": {},
     "output_type": "execute_result"
    }
   ],
   "source": [
    "df['desc_len'] = df['Job Description'].apply(lambda x: len(x))\n",
    "df['desc_len']"
   ]
  },
  {
   "cell_type": "code",
   "execution_count": 41,
   "metadata": {
    "id": "E5EyHe_FchrI"
   },
   "outputs": [],
   "source": [
    "df['num_comp'] = df['Competitors'].apply(lambda x: len(x.split(',')) if x != '-1' else 0)"
   ]
  },
  {
   "cell_type": "code",
   "execution_count": 42,
   "metadata": {
    "colab": {
     "base_uri": "https://localhost:8080/"
    },
    "id": "yNrds31IchrJ",
    "outputId": "d7db6ead-0d1f-4ad8-b968-6628442c1813"
   },
   "outputs": [
    {
     "data": {
      "text/plain": [
       "0                                                     -1\n",
       "1                                                     -1\n",
       "2                                                     -1\n",
       "3      Oak Ridge National Laboratory, National Renewa...\n",
       "4                   Commerce Signals, Cardlytics, Yodlee\n",
       "                             ...                        \n",
       "737                           Pfizer, AstraZeneca, Merck\n",
       "738                      See Tickets, TicketWeb, Vendini\n",
       "739                                                   -1\n",
       "740                                                   -1\n",
       "741                                                   -1\n",
       "Name: Competitors, Length: 742, dtype: object"
      ]
     },
     "execution_count": 42,
     "metadata": {},
     "output_type": "execute_result"
    }
   ],
   "source": [
    "df['Competitors']"
   ]
  },
  {
   "cell_type": "code",
   "execution_count": 43,
   "metadata": {
    "colab": {
     "base_uri": "https://localhost:8080/"
    },
    "id": "ejgLPY-XPrc2",
    "outputId": "7a6c33cd-bfff-48ac-aed9-cb3fa9883c93"
   },
   "outputs": [
    {
     "data": {
      "text/plain": [
       "0    0\n",
       "1    0\n",
       "2    0\n",
       "3    3\n",
       "4    3\n",
       "Name: num_comp, dtype: int64"
      ]
     },
     "execution_count": 43,
     "metadata": {},
     "output_type": "execute_result"
    }
   ],
   "source": [
    "df[\"num_comp\"].head(5)"
   ]
  },
  {
   "cell_type": "code",
   "execution_count": 44,
   "metadata": {
    "colab": {
     "base_uri": "https://localhost:8080/"
    },
    "id": "0NZ12LdRQCGt",
    "outputId": "62ed97aa-3a08-43d0-b71f-3e8e02dbeffa"
   },
   "outputs": [
    {
     "data": {
      "text/plain": [
       "0     53\n",
       "1     63\n",
       "2     80\n",
       "3     56\n",
       "4     86\n",
       "5     71\n",
       "6     54\n",
       "7     86\n",
       "8     38\n",
       "9    120\n",
       "Name: min_salary, dtype: int64"
      ]
     },
     "execution_count": 44,
     "metadata": {},
     "output_type": "execute_result"
    }
   ],
   "source": [
    "df[\"min_salary\"].head(10)"
   ]
  },
  {
   "cell_type": "code",
   "execution_count": 45,
   "metadata": {
    "id": "HxgBoJeachrJ"
   },
   "outputs": [],
   "source": [
    "df['min_salary'] = df.apply(lambda x: x.min_salary*2 if x.hourly ==1 else x.min_salary, axis =1)\n",
    "df['max_salary'] = df.apply(lambda x: x.max_salary*2 if x.hourly ==1 else x.max_salary, axis =1)"
   ]
  },
  {
   "cell_type": "code",
   "execution_count": 46,
   "metadata": {
    "colab": {
     "base_uri": "https://localhost:8080/",
     "height": 802
    },
    "id": "GKCd20GFchrJ",
    "outputId": "bb276560-b366-47e9-ea39-10565741e0d9"
   },
   "outputs": [
    {
     "data": {
      "text/html": [
       "<div>\n",
       "<style scoped>\n",
       "    .dataframe tbody tr th:only-of-type {\n",
       "        vertical-align: middle;\n",
       "    }\n",
       "\n",
       "    .dataframe tbody tr th {\n",
       "        vertical-align: top;\n",
       "    }\n",
       "\n",
       "    .dataframe thead th {\n",
       "        text-align: right;\n",
       "    }\n",
       "</style>\n",
       "<table border=\"1\" class=\"dataframe\">\n",
       "  <thead>\n",
       "    <tr style=\"text-align: right;\">\n",
       "      <th></th>\n",
       "      <th>hourly</th>\n",
       "      <th>min_salary</th>\n",
       "      <th>max_salary</th>\n",
       "    </tr>\n",
       "  </thead>\n",
       "  <tbody>\n",
       "    <tr>\n",
       "      <th>165</th>\n",
       "      <td>1</td>\n",
       "      <td>34</td>\n",
       "      <td>48</td>\n",
       "    </tr>\n",
       "    <tr>\n",
       "      <th>177</th>\n",
       "      <td>1</td>\n",
       "      <td>42</td>\n",
       "      <td>68</td>\n",
       "    </tr>\n",
       "    <tr>\n",
       "      <th>197</th>\n",
       "      <td>1</td>\n",
       "      <td>36</td>\n",
       "      <td>50</td>\n",
       "    </tr>\n",
       "    <tr>\n",
       "      <th>202</th>\n",
       "      <td>1</td>\n",
       "      <td>42</td>\n",
       "      <td>68</td>\n",
       "    </tr>\n",
       "    <tr>\n",
       "      <th>210</th>\n",
       "      <td>1</td>\n",
       "      <td>30</td>\n",
       "      <td>50</td>\n",
       "    </tr>\n",
       "    <tr>\n",
       "      <th>246</th>\n",
       "      <td>1</td>\n",
       "      <td>34</td>\n",
       "      <td>48</td>\n",
       "    </tr>\n",
       "    <tr>\n",
       "      <th>271</th>\n",
       "      <td>1</td>\n",
       "      <td>42</td>\n",
       "      <td>68</td>\n",
       "    </tr>\n",
       "    <tr>\n",
       "      <th>337</th>\n",
       "      <td>1</td>\n",
       "      <td>36</td>\n",
       "      <td>50</td>\n",
       "    </tr>\n",
       "    <tr>\n",
       "      <th>345</th>\n",
       "      <td>1</td>\n",
       "      <td>48</td>\n",
       "      <td>78</td>\n",
       "    </tr>\n",
       "    <tr>\n",
       "      <th>357</th>\n",
       "      <td>1</td>\n",
       "      <td>42</td>\n",
       "      <td>68</td>\n",
       "    </tr>\n",
       "    <tr>\n",
       "      <th>363</th>\n",
       "      <td>1</td>\n",
       "      <td>50</td>\n",
       "      <td>56</td>\n",
       "    </tr>\n",
       "    <tr>\n",
       "      <th>408</th>\n",
       "      <td>1</td>\n",
       "      <td>42</td>\n",
       "      <td>58</td>\n",
       "    </tr>\n",
       "    <tr>\n",
       "      <th>409</th>\n",
       "      <td>1</td>\n",
       "      <td>20</td>\n",
       "      <td>34</td>\n",
       "    </tr>\n",
       "    <tr>\n",
       "      <th>492</th>\n",
       "      <td>1</td>\n",
       "      <td>36</td>\n",
       "      <td>50</td>\n",
       "    </tr>\n",
       "    <tr>\n",
       "      <th>509</th>\n",
       "      <td>1</td>\n",
       "      <td>48</td>\n",
       "      <td>78</td>\n",
       "    </tr>\n",
       "    <tr>\n",
       "      <th>533</th>\n",
       "      <td>1</td>\n",
       "      <td>42</td>\n",
       "      <td>68</td>\n",
       "    </tr>\n",
       "    <tr>\n",
       "      <th>542</th>\n",
       "      <td>1</td>\n",
       "      <td>50</td>\n",
       "      <td>56</td>\n",
       "    </tr>\n",
       "    <tr>\n",
       "      <th>617</th>\n",
       "      <td>1</td>\n",
       "      <td>42</td>\n",
       "      <td>58</td>\n",
       "    </tr>\n",
       "    <tr>\n",
       "      <th>618</th>\n",
       "      <td>1</td>\n",
       "      <td>20</td>\n",
       "      <td>34</td>\n",
       "    </tr>\n",
       "    <tr>\n",
       "      <th>645</th>\n",
       "      <td>1</td>\n",
       "      <td>54</td>\n",
       "      <td>94</td>\n",
       "    </tr>\n",
       "    <tr>\n",
       "      <th>666</th>\n",
       "      <td>1</td>\n",
       "      <td>36</td>\n",
       "      <td>50</td>\n",
       "    </tr>\n",
       "    <tr>\n",
       "      <th>682</th>\n",
       "      <td>1</td>\n",
       "      <td>48</td>\n",
       "      <td>78</td>\n",
       "    </tr>\n",
       "    <tr>\n",
       "      <th>711</th>\n",
       "      <td>1</td>\n",
       "      <td>42</td>\n",
       "      <td>68</td>\n",
       "    </tr>\n",
       "    <tr>\n",
       "      <th>724</th>\n",
       "      <td>1</td>\n",
       "      <td>50</td>\n",
       "      <td>56</td>\n",
       "    </tr>\n",
       "  </tbody>\n",
       "</table>\n",
       "</div>"
      ],
      "text/plain": [
       "     hourly  min_salary  max_salary\n",
       "165       1          34          48\n",
       "177       1          42          68\n",
       "197       1          36          50\n",
       "202       1          42          68\n",
       "210       1          30          50\n",
       "246       1          34          48\n",
       "271       1          42          68\n",
       "337       1          36          50\n",
       "345       1          48          78\n",
       "357       1          42          68\n",
       "363       1          50          56\n",
       "408       1          42          58\n",
       "409       1          20          34\n",
       "492       1          36          50\n",
       "509       1          48          78\n",
       "533       1          42          68\n",
       "542       1          50          56\n",
       "617       1          42          58\n",
       "618       1          20          34\n",
       "645       1          54          94\n",
       "666       1          36          50\n",
       "682       1          48          78\n",
       "711       1          42          68\n",
       "724       1          50          56"
      ]
     },
     "execution_count": 46,
     "metadata": {},
     "output_type": "execute_result"
    }
   ],
   "source": [
    "df[df.hourly ==1][['hourly','min_salary','max_salary']]"
   ]
  },
  {
   "cell_type": "code",
   "execution_count": 47,
   "metadata": {
    "id": "y_i3e3SrchrK"
   },
   "outputs": [],
   "source": [
    "df['company_txt'] = df.company_txt.apply(lambda x: x.replace('\\n', ''))"
   ]
  },
  {
   "cell_type": "code",
   "execution_count": 48,
   "metadata": {
    "colab": {
     "base_uri": "https://localhost:8080/"
    },
    "id": "ZUEvknuwchrK",
    "outputId": "fe89c7c3-3936-400d-b7f2-e240f182a7e5"
   },
   "outputs": [
    {
     "data": {
      "text/plain": [
       "0                          Tecolote Research\n",
       "1      University of Maryland Medical System\n",
       "2                                    KnowBe4\n",
       "3                                       PNNL\n",
       "4                         Affinity Solutions\n",
       "                       ...                  \n",
       "737                                      GSK\n",
       "738                               Eventbrite\n",
       "739           Software Engineering Institute\n",
       "740                             Numeric, LLC\n",
       "741             Riverside Research Institute\n",
       "Name: company_txt, Length: 742, dtype: object"
      ]
     },
     "execution_count": 48,
     "metadata": {},
     "output_type": "execute_result"
    }
   ],
   "source": [
    "df['company_txt']"
   ]
  },
  {
   "cell_type": "code",
   "execution_count": 49,
   "metadata": {
    "colab": {
     "base_uri": "https://localhost:8080/",
     "height": 364
    },
    "id": "hpagfU_lchrK",
    "outputId": "d623225e-5b61-426d-e43f-0e9669f655a2"
   },
   "outputs": [
    {
     "data": {
      "text/html": [
       "<div>\n",
       "<style scoped>\n",
       "    .dataframe tbody tr th:only-of-type {\n",
       "        vertical-align: middle;\n",
       "    }\n",
       "\n",
       "    .dataframe tbody tr th {\n",
       "        vertical-align: top;\n",
       "    }\n",
       "\n",
       "    .dataframe thead th {\n",
       "        text-align: right;\n",
       "    }\n",
       "</style>\n",
       "<table border=\"1\" class=\"dataframe\">\n",
       "  <thead>\n",
       "    <tr style=\"text-align: right;\">\n",
       "      <th></th>\n",
       "      <th>Rating</th>\n",
       "      <th>Founded</th>\n",
       "      <th>hourly</th>\n",
       "      <th>employer_provided</th>\n",
       "      <th>min_salary</th>\n",
       "      <th>max_salary</th>\n",
       "      <th>avg_salary</th>\n",
       "      <th>same_state</th>\n",
       "      <th>age</th>\n",
       "      <th>python_yn</th>\n",
       "      <th>R_yn</th>\n",
       "      <th>spark</th>\n",
       "      <th>aws</th>\n",
       "      <th>excel</th>\n",
       "      <th>desc_len</th>\n",
       "      <th>num_comp</th>\n",
       "    </tr>\n",
       "  </thead>\n",
       "  <tbody>\n",
       "    <tr>\n",
       "      <th>count</th>\n",
       "      <td>742.000000</td>\n",
       "      <td>742.000000</td>\n",
       "      <td>742.000000</td>\n",
       "      <td>742.000000</td>\n",
       "      <td>742.000000</td>\n",
       "      <td>742.000000</td>\n",
       "      <td>742.000000</td>\n",
       "      <td>742.000000</td>\n",
       "      <td>742.000000</td>\n",
       "      <td>742.000000</td>\n",
       "      <td>742.000000</td>\n",
       "      <td>742.000000</td>\n",
       "      <td>742.000000</td>\n",
       "      <td>742.000000</td>\n",
       "      <td>742.000000</td>\n",
       "      <td>742.000000</td>\n",
       "    </tr>\n",
       "    <tr>\n",
       "      <th>mean</th>\n",
       "      <td>3.618868</td>\n",
       "      <td>1837.154987</td>\n",
       "      <td>0.032345</td>\n",
       "      <td>0.022911</td>\n",
       "      <td>74.719677</td>\n",
       "      <td>128.149596</td>\n",
       "      <td>100.626011</td>\n",
       "      <td>0.557951</td>\n",
       "      <td>46.591644</td>\n",
       "      <td>0.528302</td>\n",
       "      <td>0.002695</td>\n",
       "      <td>0.225067</td>\n",
       "      <td>0.237197</td>\n",
       "      <td>0.522911</td>\n",
       "      <td>3869.545822</td>\n",
       "      <td>1.053908</td>\n",
       "    </tr>\n",
       "    <tr>\n",
       "      <th>std</th>\n",
       "      <td>0.801210</td>\n",
       "      <td>497.183763</td>\n",
       "      <td>0.177034</td>\n",
       "      <td>0.149721</td>\n",
       "      <td>30.980593</td>\n",
       "      <td>45.220324</td>\n",
       "      <td>38.855948</td>\n",
       "      <td>0.496965</td>\n",
       "      <td>53.778815</td>\n",
       "      <td>0.499535</td>\n",
       "      <td>0.051882</td>\n",
       "      <td>0.417908</td>\n",
       "      <td>0.425651</td>\n",
       "      <td>0.499812</td>\n",
       "      <td>1521.495868</td>\n",
       "      <td>1.384239</td>\n",
       "    </tr>\n",
       "    <tr>\n",
       "      <th>min</th>\n",
       "      <td>-1.000000</td>\n",
       "      <td>-1.000000</td>\n",
       "      <td>0.000000</td>\n",
       "      <td>0.000000</td>\n",
       "      <td>15.000000</td>\n",
       "      <td>16.000000</td>\n",
       "      <td>13.500000</td>\n",
       "      <td>0.000000</td>\n",
       "      <td>-1.000000</td>\n",
       "      <td>0.000000</td>\n",
       "      <td>0.000000</td>\n",
       "      <td>0.000000</td>\n",
       "      <td>0.000000</td>\n",
       "      <td>0.000000</td>\n",
       "      <td>407.000000</td>\n",
       "      <td>0.000000</td>\n",
       "    </tr>\n",
       "    <tr>\n",
       "      <th>25%</th>\n",
       "      <td>3.300000</td>\n",
       "      <td>1939.000000</td>\n",
       "      <td>0.000000</td>\n",
       "      <td>0.000000</td>\n",
       "      <td>52.000000</td>\n",
       "      <td>96.000000</td>\n",
       "      <td>73.500000</td>\n",
       "      <td>0.000000</td>\n",
       "      <td>11.000000</td>\n",
       "      <td>0.000000</td>\n",
       "      <td>0.000000</td>\n",
       "      <td>0.000000</td>\n",
       "      <td>0.000000</td>\n",
       "      <td>0.000000</td>\n",
       "      <td>2801.000000</td>\n",
       "      <td>0.000000</td>\n",
       "    </tr>\n",
       "    <tr>\n",
       "      <th>50%</th>\n",
       "      <td>3.700000</td>\n",
       "      <td>1988.000000</td>\n",
       "      <td>0.000000</td>\n",
       "      <td>0.000000</td>\n",
       "      <td>69.500000</td>\n",
       "      <td>124.000000</td>\n",
       "      <td>97.500000</td>\n",
       "      <td>1.000000</td>\n",
       "      <td>24.000000</td>\n",
       "      <td>1.000000</td>\n",
       "      <td>0.000000</td>\n",
       "      <td>0.000000</td>\n",
       "      <td>0.000000</td>\n",
       "      <td>1.000000</td>\n",
       "      <td>3731.000000</td>\n",
       "      <td>0.000000</td>\n",
       "    </tr>\n",
       "    <tr>\n",
       "      <th>75%</th>\n",
       "      <td>4.000000</td>\n",
       "      <td>2007.000000</td>\n",
       "      <td>0.000000</td>\n",
       "      <td>0.000000</td>\n",
       "      <td>91.000000</td>\n",
       "      <td>155.000000</td>\n",
       "      <td>122.500000</td>\n",
       "      <td>1.000000</td>\n",
       "      <td>59.000000</td>\n",
       "      <td>1.000000</td>\n",
       "      <td>0.000000</td>\n",
       "      <td>0.000000</td>\n",
       "      <td>0.000000</td>\n",
       "      <td>1.000000</td>\n",
       "      <td>4740.000000</td>\n",
       "      <td>3.000000</td>\n",
       "    </tr>\n",
       "    <tr>\n",
       "      <th>max</th>\n",
       "      <td>5.000000</td>\n",
       "      <td>2019.000000</td>\n",
       "      <td>1.000000</td>\n",
       "      <td>1.000000</td>\n",
       "      <td>202.000000</td>\n",
       "      <td>306.000000</td>\n",
       "      <td>254.000000</td>\n",
       "      <td>1.000000</td>\n",
       "      <td>276.000000</td>\n",
       "      <td>1.000000</td>\n",
       "      <td>1.000000</td>\n",
       "      <td>1.000000</td>\n",
       "      <td>1.000000</td>\n",
       "      <td>1.000000</td>\n",
       "      <td>10051.000000</td>\n",
       "      <td>4.000000</td>\n",
       "    </tr>\n",
       "  </tbody>\n",
       "</table>\n",
       "</div>"
      ],
      "text/plain": [
       "           Rating      Founded      hourly  employer_provided  min_salary  \\\n",
       "count  742.000000   742.000000  742.000000         742.000000  742.000000   \n",
       "mean     3.618868  1837.154987    0.032345           0.022911   74.719677   \n",
       "std      0.801210   497.183763    0.177034           0.149721   30.980593   \n",
       "min     -1.000000    -1.000000    0.000000           0.000000   15.000000   \n",
       "25%      3.300000  1939.000000    0.000000           0.000000   52.000000   \n",
       "50%      3.700000  1988.000000    0.000000           0.000000   69.500000   \n",
       "75%      4.000000  2007.000000    0.000000           0.000000   91.000000   \n",
       "max      5.000000  2019.000000    1.000000           1.000000  202.000000   \n",
       "\n",
       "       max_salary  avg_salary  same_state         age   python_yn        R_yn  \\\n",
       "count  742.000000  742.000000  742.000000  742.000000  742.000000  742.000000   \n",
       "mean   128.149596  100.626011    0.557951   46.591644    0.528302    0.002695   \n",
       "std     45.220324   38.855948    0.496965   53.778815    0.499535    0.051882   \n",
       "min     16.000000   13.500000    0.000000   -1.000000    0.000000    0.000000   \n",
       "25%     96.000000   73.500000    0.000000   11.000000    0.000000    0.000000   \n",
       "50%    124.000000   97.500000    1.000000   24.000000    1.000000    0.000000   \n",
       "75%    155.000000  122.500000    1.000000   59.000000    1.000000    0.000000   \n",
       "max    306.000000  254.000000    1.000000  276.000000    1.000000    1.000000   \n",
       "\n",
       "            spark         aws       excel      desc_len    num_comp  \n",
       "count  742.000000  742.000000  742.000000    742.000000  742.000000  \n",
       "mean     0.225067    0.237197    0.522911   3869.545822    1.053908  \n",
       "std      0.417908    0.425651    0.499812   1521.495868    1.384239  \n",
       "min      0.000000    0.000000    0.000000    407.000000    0.000000  \n",
       "25%      0.000000    0.000000    0.000000   2801.000000    0.000000  \n",
       "50%      0.000000    0.000000    1.000000   3731.000000    0.000000  \n",
       "75%      0.000000    0.000000    1.000000   4740.000000    3.000000  \n",
       "max      1.000000    1.000000    1.000000  10051.000000    4.000000  "
      ]
     },
     "execution_count": 49,
     "metadata": {},
     "output_type": "execute_result"
    }
   ],
   "source": [
    "df.describe()"
   ]
  },
  {
   "cell_type": "code",
   "execution_count": 50,
   "metadata": {
    "colab": {
     "base_uri": "https://localhost:8080/"
    },
    "id": "Du3EpdN6chrK",
    "outputId": "4218dff1-65fd-4fec-9fdd-2635b41cb883"
   },
   "outputs": [
    {
     "data": {
      "text/plain": [
       "Index(['Job Title', 'Salary Estimate', 'Job Description', 'Rating',\n",
       "       'Company Name', 'Location', 'Headquarters', 'Size', 'Founded',\n",
       "       'Type of ownership', 'Industry', 'Sector', 'Revenue', 'Competitors',\n",
       "       'hourly', 'employer_provided', 'min_salary', 'max_salary', 'avg_salary',\n",
       "       'company_txt', 'job_state', 'same_state', 'age', 'python_yn', 'R_yn',\n",
       "       'spark', 'aws', 'excel', 'job', 'seniority', 'desc_len', 'num_comp'],\n",
       "      dtype='object')"
      ]
     },
     "execution_count": 50,
     "metadata": {},
     "output_type": "execute_result"
    }
   ],
   "source": [
    "df.columns"
   ]
  },
  {
   "cell_type": "markdown",
   "metadata": {
    "id": "qE4gqzPnchrK"
   },
   "source": [
    "# Plots\n",
    "\n",
    "* Histograms for various fields that might contribute to the salary predictions.\n",
    "* Correlation between these fields plotted using diverging palette\n",
    "* Bar plots of different location and company textas and Headquarters"
   ]
  },
  {
   "cell_type": "code",
   "execution_count": 51,
   "metadata": {
    "colab": {
     "base_uri": "https://localhost:8080/"
    },
    "id": "GlF5M6w8chrL",
    "outputId": "440302dc-472a-4df7-d13c-381249a102ac"
   },
   "outputs": [
    {
     "data": {
      "text/plain": [
       "<AxesSubplot:>"
      ]
     },
     "execution_count": 51,
     "metadata": {},
     "output_type": "execute_result"
    },
    {
     "data": {
      "image/png": "[encoded data removed]",
      "text/plain": [
       "<Figure size 432x288 with 1 Axes>"
      ]
     },
     "metadata": {
      "needs_background": "light"
     },
     "output_type": "display_data"
    }
   ],
   "source": [
    "df.Rating.hist()"
   ]
  },
  {
   "cell_type": "code",
   "execution_count": 52,
   "metadata": {
    "colab": {
     "base_uri": "https://localhost:8080/"
    },
    "id": "rxpfzArEchrL",
    "outputId": "6e9984d4-f44d-4bd7-ed23-04521dcd08ec"
   },
   "outputs": [
    {
     "data": {
      "text/plain": [
       "<AxesSubplot:>"
      ]
     },
     "execution_count": 52,
     "metadata": {},
     "output_type": "execute_result"
    },
    {
     "data": {
      "image/png": "[encoded data removed]",
      "text/plain": [
       "<Figure size 432x288 with 1 Axes>"
      ]
     },
     "metadata": {
      "needs_background": "light"
     },
     "output_type": "display_data"
    }
   ],
   "source": [
    "df.avg_salary.hist()"
   ]
  },
  {
   "cell_type": "code",
   "execution_count": 53,
   "metadata": {
    "colab": {
     "base_uri": "https://localhost:8080/"
    },
    "id": "oX3dxApuchrL",
    "outputId": "2118f338-7d2b-4670-9c67-78622100ce65"
   },
   "outputs": [
    {
     "data": {
      "text/plain": [
       "<AxesSubplot:>"
      ]
     },
     "execution_count": 53,
     "metadata": {},
     "output_type": "execute_result"
    },
    {
     "data": {
      "image/png": "[encoded data removed]",
      "text/plain": [
       "<Figure size 432x288 with 1 Axes>"
      ]
     },
     "metadata": {
      "needs_background": "light"
     },
     "output_type": "display_data"
    }
   ],
   "source": [
    "df.age.hist()"
   ]
  },
  {
   "cell_type": "code",
   "execution_count": 54,
   "metadata": {
    "colab": {
     "base_uri": "https://localhost:8080/"
    },
    "id": "zwYya6OMchrL",
    "outputId": "25babebb-2a62-4e2a-98e3-a60fd77d5270"
   },
   "outputs": [
    {
     "data": {
      "text/plain": [
       "<AxesSubplot:>"
      ]
     },
     "execution_count": 54,
     "metadata": {},
     "output_type": "execute_result"
    },
    {
     "data": {
      "image/png": "[encoded data removed]",
      "text/plain": [
       "<Figure size 432x288 with 1 Axes>"
      ]
     },
     "metadata": {
      "needs_background": "light"
     },
     "output_type": "display_data"
    }
   ],
   "source": [
    "df.desc_len.hist()"
   ]
  },
  {
   "cell_type": "code",
   "execution_count": 55,
   "metadata": {
    "colab": {
     "base_uri": "https://localhost:8080/"
    },
    "id": "tUBktkugchrM",
    "outputId": "e2249ef3-82f2-4f6a-e644-6607035fb393"
   },
   "outputs": [
    {
     "data": {
      "text/html": [
       "<div>\n",
       "<style scoped>\n",
       "    .dataframe tbody tr th:only-of-type {\n",
       "        vertical-align: middle;\n",
       "    }\n",
       "\n",
       "    .dataframe tbody tr th {\n",
       "        vertical-align: top;\n",
       "    }\n",
       "\n",
       "    .dataframe thead th {\n",
       "        text-align: right;\n",
       "    }\n",
       "</style>\n",
       "<table border=\"1\" class=\"dataframe\">\n",
       "  <thead>\n",
       "    <tr style=\"text-align: right;\">\n",
       "      <th></th>\n",
       "      <th>age</th>\n",
       "      <th>avg_salary</th>\n",
       "      <th>Rating</th>\n",
       "      <th>desc_len</th>\n",
       "    </tr>\n",
       "  </thead>\n",
       "  <tbody>\n",
       "    <tr>\n",
       "      <th>age</th>\n",
       "      <td>1.000000</td>\n",
       "      <td>0.019655</td>\n",
       "      <td>0.021655</td>\n",
       "      <td>0.163911</td>\n",
       "    </tr>\n",
       "    <tr>\n",
       "      <th>avg_salary</th>\n",
       "      <td>0.019655</td>\n",
       "      <td>1.000000</td>\n",
       "      <td>0.013492</td>\n",
       "      <td>0.078808</td>\n",
       "    </tr>\n",
       "    <tr>\n",
       "      <th>Rating</th>\n",
       "      <td>0.021655</td>\n",
       "      <td>0.013492</td>\n",
       "      <td>1.000000</td>\n",
       "      <td>-0.012281</td>\n",
       "    </tr>\n",
       "    <tr>\n",
       "      <th>desc_len</th>\n",
       "      <td>0.163911</td>\n",
       "      <td>0.078808</td>\n",
       "      <td>-0.012281</td>\n",
       "      <td>1.000000</td>\n",
       "    </tr>\n",
       "  </tbody>\n",
       "</table>\n",
       "</div>"
      ],
      "text/plain": [
       "                 age  avg_salary    Rating  desc_len\n",
       "age         1.000000    0.019655  0.021655  0.163911\n",
       "avg_salary  0.019655    1.000000  0.013492  0.078808\n",
       "Rating      0.021655    0.013492  1.000000 -0.012281\n",
       "desc_len    0.163911    0.078808 -0.012281  1.000000"
      ]
     },
     "execution_count": 55,
     "metadata": {},
     "output_type": "execute_result"
    }
   ],
   "source": [
    "df[['age','avg_salary','Rating','desc_len']].corr()"
   ]
  },
  {
   "cell_type": "code",
   "execution_count": 56,
   "metadata": {
    "colab": {
     "base_uri": "https://localhost:8080/"
    },
    "id": "p0GoCxLochrM",
    "outputId": "e89bbdb7-e72a-4260-d0b6-81ec5f0c1e88"
   },
   "outputs": [
    {
     "data": {
      "text/plain": [
       "<AxesSubplot:>"
      ]
     },
     "execution_count": 56,
     "metadata": {},
     "output_type": "execute_result"
    },
    {
     "data": {
      "image/png": "[encoded data removed]",
      "text/plain": [
       "<Figure size 432x288 with 2 Axes>"
      ]
     },
     "metadata": {
      "needs_background": "light"
     },
     "output_type": "display_data"
    }
   ],
   "source": [
    "cmap = sns.diverging_palette(220, 10, as_cmap=True)\n",
    "sns.heatmap(df[['age','avg_salary','Rating','desc_len','num_comp']].corr(),vmax=.3, center=0, cmap=cmap,\n",
    "            square=True, linewidths=.5, cbar_kws={\"shrink\": .5})"
   ]
  },
  {
   "cell_type": "code",
   "execution_count": 57,
   "metadata": {
    "id": "Tiu0kBAuchrM"
   },
   "outputs": [],
   "source": [
    "df_cat = df[['Location', 'Headquarters', 'Size','Type of ownership', 'Industry', 'Sector', 'Revenue', 'company_txt', 'job_state','same_state', 'python_yn', 'R_yn',\n",
    "       'spark', 'aws', 'excel', 'job', 'seniority']]"
   ]
  },
  {
   "cell_type": "code",
   "execution_count": 58,
   "metadata": {
    "colab": {
     "base_uri": "https://localhost:8080/"
    },
    "id": "bM8UqF22chrM",
    "outputId": "4bdef346-4a36-41a2-f83f-40d34ddd6f39"
   },
   "outputs": [
    {
     "name": "stdout",
     "output_type": "stream",
     "text": [
      "graph for Location: total = 20\n"
     ]
    },
    {
     "data": {
      "image/png": "[encoded data removed]",
      "text/plain": [
       "<Figure size 432x288 with 1 Axes>"
      ]
     },
     "metadata": {
      "needs_background": "light"
     },
     "output_type": "display_data"
    },
    {
     "name": "stdout",
     "output_type": "stream",
     "text": [
      "graph for Headquarters: total = 20\n"
     ]
    },
    {
     "data": {
      "image/png": "[encoded data removed]",
      "text/plain": [
       "<Figure size 432x288 with 1 Axes>"
      ]
     },
     "metadata": {
      "needs_background": "light"
     },
     "output_type": "display_data"
    },
    {
     "name": "stdout",
     "output_type": "stream",
     "text": [
      "graph for company_txt: total = 20\n"
     ]
    },
    {
     "data": {
      "image/png": "[encoded data removed]",
      "text/plain": [
       "<Figure size 432x288 with 1 Axes>"
      ]
     },
     "metadata": {
      "needs_background": "light"
     },
     "output_type": "display_data"
    }
   ],
   "source": [
    "for i in df_cat[['Location','Headquarters','company_txt']].columns:\n",
    "    cat_num = df_cat[i].value_counts()[:20]\n",
    "    print(\"graph for %s: total = %d\" % (i, len(cat_num)))\n",
    "    chart = sns.barplot(x=cat_num.index, y=cat_num)\n",
    "    chart.set_xticklabels(chart.get_xticklabels(), rotation=90)\n",
    "    plt.show()"
   ]
  },
  {
   "cell_type": "code",
   "execution_count": 59,
   "metadata": {
    "colab": {
     "base_uri": "https://localhost:8080/"
    },
    "id": "OeRNnyXcchrM",
    "outputId": "b71a9e60-2a47-4078-bc94-56708c527e57"
   },
   "outputs": [
    {
     "data": {
      "text/plain": [
       "Index(['Job Title', 'Salary Estimate', 'Job Description', 'Rating',\n",
       "       'Company Name', 'Location', 'Headquarters', 'Size', 'Founded',\n",
       "       'Type of ownership', 'Industry', 'Sector', 'Revenue', 'Competitors',\n",
       "       'hourly', 'employer_provided', 'min_salary', 'max_salary', 'avg_salary',\n",
       "       'company_txt', 'job_state', 'same_state', 'age', 'python_yn', 'R_yn',\n",
       "       'spark', 'aws', 'excel', 'job', 'seniority', 'desc_len', 'num_comp'],\n",
       "      dtype='object')"
      ]
     },
     "execution_count": 59,
     "metadata": {},
     "output_type": "execute_result"
    }
   ],
   "source": [
    "df.columns"
   ]
  },
  {
   "cell_type": "code",
   "execution_count": 60,
   "metadata": {
    "colab": {
     "base_uri": "https://localhost:8080/"
    },
    "id": "H1l0DVMpchrN",
    "outputId": "79838fcd-18e5-4c0d-c8f2-c9f42049ecf0"
   },
   "outputs": [
    {
     "data": {
      "text/html": [
       "<div>\n",
       "<style scoped>\n",
       "    .dataframe tbody tr th:only-of-type {\n",
       "        vertical-align: middle;\n",
       "    }\n",
       "\n",
       "    .dataframe tbody tr th {\n",
       "        vertical-align: top;\n",
       "    }\n",
       "\n",
       "    .dataframe thead th {\n",
       "        text-align: right;\n",
       "    }\n",
       "</style>\n",
       "<table border=\"1\" class=\"dataframe\">\n",
       "  <thead>\n",
       "    <tr style=\"text-align: right;\">\n",
       "      <th></th>\n",
       "      <th>avg_salary</th>\n",
       "    </tr>\n",
       "    <tr>\n",
       "      <th>job</th>\n",
       "      <th></th>\n",
       "    </tr>\n",
       "  </thead>\n",
       "  <tbody>\n",
       "    <tr>\n",
       "      <th>analyst</th>\n",
       "      <td>65.857843</td>\n",
       "    </tr>\n",
       "    <tr>\n",
       "      <th>data engineer</th>\n",
       "      <td>105.403361</td>\n",
       "    </tr>\n",
       "    <tr>\n",
       "      <th>data scientist</th>\n",
       "      <td>117.564516</td>\n",
       "    </tr>\n",
       "    <tr>\n",
       "      <th>director</th>\n",
       "      <td>168.607143</td>\n",
       "    </tr>\n",
       "    <tr>\n",
       "      <th>manager</th>\n",
       "      <td>84.022727</td>\n",
       "    </tr>\n",
       "    <tr>\n",
       "      <th>mle</th>\n",
       "      <td>126.431818</td>\n",
       "    </tr>\n",
       "    <tr>\n",
       "      <th>na</th>\n",
       "      <td>84.853261</td>\n",
       "    </tr>\n",
       "  </tbody>\n",
       "</table>\n",
       "</div>"
      ],
      "text/plain": [
       "                avg_salary\n",
       "job                       \n",
       "analyst          65.857843\n",
       "data engineer   105.403361\n",
       "data scientist  117.564516\n",
       "director        168.607143\n",
       "manager          84.022727\n",
       "mle             126.431818\n",
       "na               84.853261"
      ]
     },
     "execution_count": 60,
     "metadata": {},
     "output_type": "execute_result"
    }
   ],
   "source": [
    "pd.pivot_table(df, index = 'job', values = 'avg_salary')"
   ]
  },
  {
   "cell_type": "code",
   "execution_count": 61,
   "metadata": {
    "colab": {
     "base_uri": "https://localhost:8080/"
    },
    "id": "irxFoxdGchrN",
    "outputId": "878fa3a1-a820-418f-e81d-c04263ff3771"
   },
   "outputs": [
    {
     "data": {
      "text/html": [
       "<div>\n",
       "<style scoped>\n",
       "    .dataframe tbody tr th:only-of-type {\n",
       "        vertical-align: middle;\n",
       "    }\n",
       "\n",
       "    .dataframe tbody tr th {\n",
       "        vertical-align: top;\n",
       "    }\n",
       "\n",
       "    .dataframe thead th {\n",
       "        text-align: right;\n",
       "    }\n",
       "</style>\n",
       "<table border=\"1\" class=\"dataframe\">\n",
       "  <thead>\n",
       "    <tr style=\"text-align: right;\">\n",
       "      <th></th>\n",
       "      <th></th>\n",
       "      <th>avg_salary</th>\n",
       "    </tr>\n",
       "    <tr>\n",
       "      <th>job</th>\n",
       "      <th>seniority</th>\n",
       "      <th></th>\n",
       "    </tr>\n",
       "  </thead>\n",
       "  <tbody>\n",
       "    <tr>\n",
       "      <th rowspan=\"3\" valign=\"top\">analyst</th>\n",
       "      <th>jr</th>\n",
       "      <td>56.500000</td>\n",
       "    </tr>\n",
       "    <tr>\n",
       "      <th>na</th>\n",
       "      <td>61.155405</td>\n",
       "    </tr>\n",
       "    <tr>\n",
       "      <th>senior</th>\n",
       "      <td>79.092593</td>\n",
       "    </tr>\n",
       "    <tr>\n",
       "      <th rowspan=\"2\" valign=\"top\">data engineer</th>\n",
       "      <th>na</th>\n",
       "      <td>96.701220</td>\n",
       "    </tr>\n",
       "    <tr>\n",
       "      <th>senior</th>\n",
       "      <td>124.689189</td>\n",
       "    </tr>\n",
       "    <tr>\n",
       "      <th rowspan=\"3\" valign=\"top\">data scientist</th>\n",
       "      <th>jr</th>\n",
       "      <td>106.500000</td>\n",
       "    </tr>\n",
       "    <tr>\n",
       "      <th>na</th>\n",
       "      <td>107.043011</td>\n",
       "    </tr>\n",
       "    <tr>\n",
       "      <th>senior</th>\n",
       "      <td>138.956522</td>\n",
       "    </tr>\n",
       "    <tr>\n",
       "      <th>director</th>\n",
       "      <th>na</th>\n",
       "      <td>168.607143</td>\n",
       "    </tr>\n",
       "    <tr>\n",
       "      <th>manager</th>\n",
       "      <th>na</th>\n",
       "      <td>84.022727</td>\n",
       "    </tr>\n",
       "    <tr>\n",
       "      <th rowspan=\"2\" valign=\"top\">mle</th>\n",
       "      <th>na</th>\n",
       "      <td>119.133333</td>\n",
       "    </tr>\n",
       "    <tr>\n",
       "      <th>senior</th>\n",
       "      <td>142.071429</td>\n",
       "    </tr>\n",
       "    <tr>\n",
       "      <th rowspan=\"2\" valign=\"top\">na</th>\n",
       "      <th>na</th>\n",
       "      <td>73.988189</td>\n",
       "    </tr>\n",
       "    <tr>\n",
       "      <th>senior</th>\n",
       "      <td>109.061404</td>\n",
       "    </tr>\n",
       "  </tbody>\n",
       "</table>\n",
       "</div>"
      ],
      "text/plain": [
       "                          avg_salary\n",
       "job            seniority            \n",
       "analyst        jr          56.500000\n",
       "               na          61.155405\n",
       "               senior      79.092593\n",
       "data engineer  na          96.701220\n",
       "               senior     124.689189\n",
       "data scientist jr         106.500000\n",
       "               na         107.043011\n",
       "               senior     138.956522\n",
       "director       na         168.607143\n",
       "manager        na          84.022727\n",
       "mle            na         119.133333\n",
       "               senior     142.071429\n",
       "na             na          73.988189\n",
       "               senior     109.061404"
      ]
     },
     "execution_count": 61,
     "metadata": {},
     "output_type": "execute_result"
    }
   ],
   "source": [
    "pd.pivot_table(df, index = ['job','seniority'], values = 'avg_salary')"
   ]
  },
  {
   "cell_type": "code",
   "execution_count": 62,
   "metadata": {
    "colab": {
     "base_uri": "https://localhost:8080/"
    },
    "id": "QdKxxqAhchrN",
    "outputId": "3848d4bd-214e-4fa8-8f7c-1a25e4051562"
   },
   "outputs": [
    {
     "data": {
      "text/html": [
       "<div>\n",
       "<style scoped>\n",
       "    .dataframe tbody tr th:only-of-type {\n",
       "        vertical-align: middle;\n",
       "    }\n",
       "\n",
       "    .dataframe tbody tr th {\n",
       "        vertical-align: top;\n",
       "    }\n",
       "\n",
       "    .dataframe thead th {\n",
       "        text-align: right;\n",
       "    }\n",
       "</style>\n",
       "<table border=\"1\" class=\"dataframe\">\n",
       "  <thead>\n",
       "    <tr style=\"text-align: right;\">\n",
       "      <th></th>\n",
       "      <th></th>\n",
       "      <th>avg_salary</th>\n",
       "    </tr>\n",
       "    <tr>\n",
       "      <th>job_state</th>\n",
       "      <th>job</th>\n",
       "      <th></th>\n",
       "    </tr>\n",
       "  </thead>\n",
       "  <tbody>\n",
       "    <tr>\n",
       "      <th rowspan=\"3\" valign=\"top\">WI</th>\n",
       "      <th>na</th>\n",
       "      <td>54.000000</td>\n",
       "    </tr>\n",
       "    <tr>\n",
       "      <th>data scientist</th>\n",
       "      <td>113.500000</td>\n",
       "    </tr>\n",
       "    <tr>\n",
       "      <th>analyst</th>\n",
       "      <td>58.833333</td>\n",
       "    </tr>\n",
       "    <tr>\n",
       "      <th rowspan=\"2\" valign=\"top\">WA</th>\n",
       "      <th>na</th>\n",
       "      <td>97.500000</td>\n",
       "    </tr>\n",
       "    <tr>\n",
       "      <th>data scientist</th>\n",
       "      <td>99.764706</td>\n",
       "    </tr>\n",
       "    <tr>\n",
       "      <th>...</th>\n",
       "      <th>...</th>\n",
       "      <td>...</td>\n",
       "    </tr>\n",
       "    <tr>\n",
       "      <th rowspan=\"2\" valign=\"top\">AZ</th>\n",
       "      <th>analyst</th>\n",
       "      <td>55.000000</td>\n",
       "    </tr>\n",
       "    <tr>\n",
       "      <th>na</th>\n",
       "      <td>124.500000</td>\n",
       "    </tr>\n",
       "    <tr>\n",
       "      <th rowspan=\"3\" valign=\"top\">AL</th>\n",
       "      <th>na</th>\n",
       "      <td>43.750000</td>\n",
       "    </tr>\n",
       "    <tr>\n",
       "      <th>data engineer</th>\n",
       "      <td>65.000000</td>\n",
       "    </tr>\n",
       "    <tr>\n",
       "      <th>analyst</th>\n",
       "      <td>62.200000</td>\n",
       "    </tr>\n",
       "  </tbody>\n",
       "</table>\n",
       "<p>114 rows × 1 columns</p>\n",
       "</div>"
      ],
      "text/plain": [
       "                          avg_salary\n",
       "job_state job                       \n",
       "WI        na               54.000000\n",
       "          data scientist  113.500000\n",
       "          analyst          58.833333\n",
       "WA        na               97.500000\n",
       "          data scientist   99.764706\n",
       "...                              ...\n",
       "AZ        analyst          55.000000\n",
       "          na              124.500000\n",
       "AL        na               43.750000\n",
       "          data engineer    65.000000\n",
       "          analyst          62.200000\n",
       "\n",
       "[114 rows x 1 columns]"
      ]
     },
     "execution_count": 62,
     "metadata": {},
     "output_type": "execute_result"
    }
   ],
   "source": [
    "pd.pivot_table(df, index = ['job_state','job'], values = 'avg_salary').sort_values('job_state', ascending = False)"
   ]
  },
  {
   "cell_type": "code",
   "execution_count": 63,
   "metadata": {
    "id": "OoyDXN6ichrN"
   },
   "outputs": [],
   "source": [
    "pd.options.display.max_rows\n",
    "pd.set_option('display.max_rows', None)"
   ]
  },
  {
   "cell_type": "code",
   "execution_count": 64,
   "metadata": {
    "colab": {
     "base_uri": "https://localhost:8080/"
    },
    "id": "DauIN6xKchrN",
    "outputId": "1012ea7a-c58f-4b9d-ce6c-fe0d618a666f"
   },
   "outputs": [
    {
     "data": {
      "text/html": [
       "<div>\n",
       "<style scoped>\n",
       "    .dataframe tbody tr th:only-of-type {\n",
       "        vertical-align: middle;\n",
       "    }\n",
       "\n",
       "    .dataframe tbody tr th {\n",
       "        vertical-align: top;\n",
       "    }\n",
       "\n",
       "    .dataframe thead th {\n",
       "        text-align: right;\n",
       "    }\n",
       "</style>\n",
       "<table border=\"1\" class=\"dataframe\">\n",
       "  <thead>\n",
       "    <tr style=\"text-align: right;\">\n",
       "      <th></th>\n",
       "      <th></th>\n",
       "      <th>avg_salary</th>\n",
       "    </tr>\n",
       "    <tr>\n",
       "      <th>job_state</th>\n",
       "      <th>job</th>\n",
       "      <th></th>\n",
       "    </tr>\n",
       "  </thead>\n",
       "  <tbody>\n",
       "    <tr>\n",
       "      <th rowspan=\"3\" valign=\"top\">WI</th>\n",
       "      <th>na</th>\n",
       "      <td>4</td>\n",
       "    </tr>\n",
       "    <tr>\n",
       "      <th>data scientist</th>\n",
       "      <td>3</td>\n",
       "    </tr>\n",
       "    <tr>\n",
       "      <th>analyst</th>\n",
       "      <td>3</td>\n",
       "    </tr>\n",
       "    <tr>\n",
       "      <th rowspan=\"3\" valign=\"top\">WA</th>\n",
       "      <th>na</th>\n",
       "      <td>1</td>\n",
       "    </tr>\n",
       "    <tr>\n",
       "      <th>data scientist</th>\n",
       "      <td>17</td>\n",
       "    </tr>\n",
       "    <tr>\n",
       "      <th>analyst</th>\n",
       "      <td>3</td>\n",
       "    </tr>\n",
       "    <tr>\n",
       "      <th rowspan=\"5\" valign=\"top\">VA</th>\n",
       "      <th>na</th>\n",
       "      <td>5</td>\n",
       "    </tr>\n",
       "    <tr>\n",
       "      <th>mle</th>\n",
       "      <td>2</td>\n",
       "    </tr>\n",
       "    <tr>\n",
       "      <th>data scientist</th>\n",
       "      <td>18</td>\n",
       "    </tr>\n",
       "    <tr>\n",
       "      <th>data engineer</th>\n",
       "      <td>10</td>\n",
       "    </tr>\n",
       "    <tr>\n",
       "      <th>analyst</th>\n",
       "      <td>6</td>\n",
       "    </tr>\n",
       "    <tr>\n",
       "      <th rowspan=\"3\" valign=\"top\">UT</th>\n",
       "      <th>data engineer</th>\n",
       "      <td>3</td>\n",
       "    </tr>\n",
       "    <tr>\n",
       "      <th>analyst</th>\n",
       "      <td>4</td>\n",
       "    </tr>\n",
       "    <tr>\n",
       "      <th>data scientist</th>\n",
       "      <td>3</td>\n",
       "    </tr>\n",
       "    <tr>\n",
       "      <th rowspan=\"3\" valign=\"top\">TX</th>\n",
       "      <th>na</th>\n",
       "      <td>7</td>\n",
       "    </tr>\n",
       "    <tr>\n",
       "      <th>data scientist</th>\n",
       "      <td>13</td>\n",
       "    </tr>\n",
       "    <tr>\n",
       "      <th>data engineer</th>\n",
       "      <td>8</td>\n",
       "    </tr>\n",
       "    <tr>\n",
       "      <th rowspan=\"3\" valign=\"top\">TN</th>\n",
       "      <th>data scientist</th>\n",
       "      <td>1</td>\n",
       "    </tr>\n",
       "    <tr>\n",
       "      <th>data engineer</th>\n",
       "      <td>10</td>\n",
       "    </tr>\n",
       "    <tr>\n",
       "      <th>analyst</th>\n",
       "      <td>2</td>\n",
       "    </tr>\n",
       "    <tr>\n",
       "      <th>SC</th>\n",
       "      <th>na</th>\n",
       "      <td>1</td>\n",
       "    </tr>\n",
       "    <tr>\n",
       "      <th>RI</th>\n",
       "      <th>analyst</th>\n",
       "      <td>1</td>\n",
       "    </tr>\n",
       "    <tr>\n",
       "      <th rowspan=\"6\" valign=\"top\">PA</th>\n",
       "      <th>manager</th>\n",
       "      <td>3</td>\n",
       "    </tr>\n",
       "    <tr>\n",
       "      <th>data engineer</th>\n",
       "      <td>1</td>\n",
       "    </tr>\n",
       "    <tr>\n",
       "      <th>data scientist</th>\n",
       "      <td>6</td>\n",
       "    </tr>\n",
       "    <tr>\n",
       "      <th>analyst</th>\n",
       "      <td>8</td>\n",
       "    </tr>\n",
       "    <tr>\n",
       "      <th>mle</th>\n",
       "      <td>7</td>\n",
       "    </tr>\n",
       "    <tr>\n",
       "      <th>na</th>\n",
       "      <td>8</td>\n",
       "    </tr>\n",
       "    <tr>\n",
       "      <th rowspan=\"2\" valign=\"top\">OR</th>\n",
       "      <th>data scientist</th>\n",
       "      <td>3</td>\n",
       "    </tr>\n",
       "    <tr>\n",
       "      <th>data engineer</th>\n",
       "      <td>1</td>\n",
       "    </tr>\n",
       "    <tr>\n",
       "      <th rowspan=\"3\" valign=\"top\">OH</th>\n",
       "      <th>na</th>\n",
       "      <td>3</td>\n",
       "    </tr>\n",
       "    <tr>\n",
       "      <th>data scientist</th>\n",
       "      <td>7</td>\n",
       "    </tr>\n",
       "    <tr>\n",
       "      <th>analyst</th>\n",
       "      <td>4</td>\n",
       "    </tr>\n",
       "    <tr>\n",
       "      <th rowspan=\"5\" valign=\"top\">NY</th>\n",
       "      <th>na</th>\n",
       "      <td>12</td>\n",
       "    </tr>\n",
       "    <tr>\n",
       "      <th>mle</th>\n",
       "      <td>2</td>\n",
       "    </tr>\n",
       "    <tr>\n",
       "      <th>data scientist</th>\n",
       "      <td>40</td>\n",
       "    </tr>\n",
       "    <tr>\n",
       "      <th>data engineer</th>\n",
       "      <td>4</td>\n",
       "    </tr>\n",
       "    <tr>\n",
       "      <th>analyst</th>\n",
       "      <td>14</td>\n",
       "    </tr>\n",
       "    <tr>\n",
       "      <th>NM</th>\n",
       "      <th>data scientist</th>\n",
       "      <td>3</td>\n",
       "    </tr>\n",
       "    <tr>\n",
       "      <th rowspan=\"6\" valign=\"top\">NJ</th>\n",
       "      <th>data scientist</th>\n",
       "      <td>4</td>\n",
       "    </tr>\n",
       "    <tr>\n",
       "      <th>analyst</th>\n",
       "      <td>6</td>\n",
       "    </tr>\n",
       "    <tr>\n",
       "      <th>data engineer</th>\n",
       "      <td>2</td>\n",
       "    </tr>\n",
       "    <tr>\n",
       "      <th>manager</th>\n",
       "      <td>2</td>\n",
       "    </tr>\n",
       "    <tr>\n",
       "      <th>director</th>\n",
       "      <td>2</td>\n",
       "    </tr>\n",
       "    <tr>\n",
       "      <th>na</th>\n",
       "      <td>1</td>\n",
       "    </tr>\n",
       "    <tr>\n",
       "      <th>NE</th>\n",
       "      <th>na</th>\n",
       "      <td>4</td>\n",
       "    </tr>\n",
       "    <tr>\n",
       "      <th rowspan=\"3\" valign=\"top\">NC</th>\n",
       "      <th>na</th>\n",
       "      <td>12</td>\n",
       "    </tr>\n",
       "    <tr>\n",
       "      <th>data scientist</th>\n",
       "      <td>3</td>\n",
       "    </tr>\n",
       "    <tr>\n",
       "      <th>data engineer</th>\n",
       "      <td>6</td>\n",
       "    </tr>\n",
       "    <tr>\n",
       "      <th rowspan=\"4\" valign=\"top\">MO</th>\n",
       "      <th>na</th>\n",
       "      <td>3</td>\n",
       "    </tr>\n",
       "    <tr>\n",
       "      <th>manager</th>\n",
       "      <td>1</td>\n",
       "    </tr>\n",
       "    <tr>\n",
       "      <th>data scientist</th>\n",
       "      <td>3</td>\n",
       "    </tr>\n",
       "    <tr>\n",
       "      <th>analyst</th>\n",
       "      <td>2</td>\n",
       "    </tr>\n",
       "    <tr>\n",
       "      <th rowspan=\"2\" valign=\"top\">MN</th>\n",
       "      <th>data engineer</th>\n",
       "      <td>1</td>\n",
       "    </tr>\n",
       "    <tr>\n",
       "      <th>analyst</th>\n",
       "      <td>1</td>\n",
       "    </tr>\n",
       "    <tr>\n",
       "      <th rowspan=\"2\" valign=\"top\">MI</th>\n",
       "      <th>manager</th>\n",
       "      <td>2</td>\n",
       "    </tr>\n",
       "    <tr>\n",
       "      <th>data scientist</th>\n",
       "      <td>4</td>\n",
       "    </tr>\n",
       "    <tr>\n",
       "      <th rowspan=\"4\" valign=\"top\">MD</th>\n",
       "      <th>na</th>\n",
       "      <td>16</td>\n",
       "    </tr>\n",
       "    <tr>\n",
       "      <th>data scientist</th>\n",
       "      <td>13</td>\n",
       "    </tr>\n",
       "    <tr>\n",
       "      <th>data engineer</th>\n",
       "      <td>3</td>\n",
       "    </tr>\n",
       "    <tr>\n",
       "      <th>analyst</th>\n",
       "      <td>3</td>\n",
       "    </tr>\n",
       "    <tr>\n",
       "      <th rowspan=\"6\" valign=\"top\">MA</th>\n",
       "      <th>na</th>\n",
       "      <td>46</td>\n",
       "    </tr>\n",
       "    <tr>\n",
       "      <th>manager</th>\n",
       "      <td>5</td>\n",
       "    </tr>\n",
       "    <tr>\n",
       "      <th>director</th>\n",
       "      <td>6</td>\n",
       "    </tr>\n",
       "    <tr>\n",
       "      <th>data scientist</th>\n",
       "      <td>30</td>\n",
       "    </tr>\n",
       "    <tr>\n",
       "      <th>data engineer</th>\n",
       "      <td>12</td>\n",
       "    </tr>\n",
       "    <tr>\n",
       "      <th>analyst</th>\n",
       "      <td>4</td>\n",
       "    </tr>\n",
       "    <tr>\n",
       "      <th rowspan=\"3\" valign=\"top\">LA</th>\n",
       "      <th>analyst</th>\n",
       "      <td>1</td>\n",
       "    </tr>\n",
       "    <tr>\n",
       "      <th>data engineer</th>\n",
       "      <td>2</td>\n",
       "    </tr>\n",
       "    <tr>\n",
       "      <th>na</th>\n",
       "      <td>1</td>\n",
       "    </tr>\n",
       "    <tr>\n",
       "      <th rowspan=\"2\" valign=\"top\">KY</th>\n",
       "      <th>na</th>\n",
       "      <td>4</td>\n",
       "    </tr>\n",
       "    <tr>\n",
       "      <th>data scientist</th>\n",
       "      <td>2</td>\n",
       "    </tr>\n",
       "    <tr>\n",
       "      <th>KS</th>\n",
       "      <th>mle</th>\n",
       "      <td>3</td>\n",
       "    </tr>\n",
       "    <tr>\n",
       "      <th rowspan=\"3\" valign=\"top\">IN</th>\n",
       "      <th>na</th>\n",
       "      <td>4</td>\n",
       "    </tr>\n",
       "    <tr>\n",
       "      <th>data scientist</th>\n",
       "      <td>2</td>\n",
       "    </tr>\n",
       "    <tr>\n",
       "      <th>data engineer</th>\n",
       "      <td>4</td>\n",
       "    </tr>\n",
       "    <tr>\n",
       "      <th rowspan=\"6\" valign=\"top\">IL</th>\n",
       "      <th>analyst</th>\n",
       "      <td>3</td>\n",
       "    </tr>\n",
       "    <tr>\n",
       "      <th>na</th>\n",
       "      <td>6</td>\n",
       "    </tr>\n",
       "    <tr>\n",
       "      <th>mle</th>\n",
       "      <td>2</td>\n",
       "    </tr>\n",
       "    <tr>\n",
       "      <th>director</th>\n",
       "      <td>6</td>\n",
       "    </tr>\n",
       "    <tr>\n",
       "      <th>data scientist</th>\n",
       "      <td>15</td>\n",
       "    </tr>\n",
       "    <tr>\n",
       "      <th>data engineer</th>\n",
       "      <td>8</td>\n",
       "    </tr>\n",
       "    <tr>\n",
       "      <th>ID</th>\n",
       "      <th>analyst</th>\n",
       "      <td>2</td>\n",
       "    </tr>\n",
       "    <tr>\n",
       "      <th rowspan=\"2\" valign=\"top\">IA</th>\n",
       "      <th>analyst</th>\n",
       "      <td>2</td>\n",
       "    </tr>\n",
       "    <tr>\n",
       "      <th>data engineer</th>\n",
       "      <td>3</td>\n",
       "    </tr>\n",
       "    <tr>\n",
       "      <th rowspan=\"2\" valign=\"top\">GA</th>\n",
       "      <th>data scientist</th>\n",
       "      <td>3</td>\n",
       "    </tr>\n",
       "    <tr>\n",
       "      <th>na</th>\n",
       "      <td>3</td>\n",
       "    </tr>\n",
       "    <tr>\n",
       "      <th rowspan=\"3\" valign=\"top\">FL</th>\n",
       "      <th>data scientist</th>\n",
       "      <td>7</td>\n",
       "    </tr>\n",
       "    <tr>\n",
       "      <th>data engineer</th>\n",
       "      <td>3</td>\n",
       "    </tr>\n",
       "    <tr>\n",
       "      <th>analyst</th>\n",
       "      <td>6</td>\n",
       "    </tr>\n",
       "    <tr>\n",
       "      <th>DE</th>\n",
       "      <th>na</th>\n",
       "      <td>6</td>\n",
       "    </tr>\n",
       "    <tr>\n",
       "      <th rowspan=\"3\" valign=\"top\">DC</th>\n",
       "      <th>data scientist</th>\n",
       "      <td>5</td>\n",
       "    </tr>\n",
       "    <tr>\n",
       "      <th>data engineer</th>\n",
       "      <td>4</td>\n",
       "    </tr>\n",
       "    <tr>\n",
       "      <th>analyst</th>\n",
       "      <td>2</td>\n",
       "    </tr>\n",
       "    <tr>\n",
       "      <th rowspan=\"2\" valign=\"top\">CT</th>\n",
       "      <th>na</th>\n",
       "      <td>3</td>\n",
       "    </tr>\n",
       "    <tr>\n",
       "      <th>data scientist</th>\n",
       "      <td>2</td>\n",
       "    </tr>\n",
       "    <tr>\n",
       "      <th rowspan=\"5\" valign=\"top\">CO</th>\n",
       "      <th>mle</th>\n",
       "      <td>1</td>\n",
       "    </tr>\n",
       "    <tr>\n",
       "      <th>data engineer</th>\n",
       "      <td>3</td>\n",
       "    </tr>\n",
       "    <tr>\n",
       "      <th>analyst</th>\n",
       "      <td>1</td>\n",
       "    </tr>\n",
       "    <tr>\n",
       "      <th>na</th>\n",
       "      <td>3</td>\n",
       "    </tr>\n",
       "    <tr>\n",
       "      <th>data scientist</th>\n",
       "      <td>3</td>\n",
       "    </tr>\n",
       "    <tr>\n",
       "      <th rowspan=\"6\" valign=\"top\">CA</th>\n",
       "      <th>na</th>\n",
       "      <td>27</td>\n",
       "    </tr>\n",
       "    <tr>\n",
       "      <th>mle</th>\n",
       "      <td>5</td>\n",
       "    </tr>\n",
       "    <tr>\n",
       "      <th>manager</th>\n",
       "      <td>9</td>\n",
       "    </tr>\n",
       "    <tr>\n",
       "      <th>data scientist</th>\n",
       "      <td>68</td>\n",
       "    </tr>\n",
       "    <tr>\n",
       "      <th>data engineer</th>\n",
       "      <td>25</td>\n",
       "    </tr>\n",
       "    <tr>\n",
       "      <th>analyst</th>\n",
       "      <td>18</td>\n",
       "    </tr>\n",
       "    <tr>\n",
       "      <th rowspan=\"4\" valign=\"top\">AZ</th>\n",
       "      <th>data scientist</th>\n",
       "      <td>1</td>\n",
       "    </tr>\n",
       "    <tr>\n",
       "      <th>data engineer</th>\n",
       "      <td>5</td>\n",
       "    </tr>\n",
       "    <tr>\n",
       "      <th>analyst</th>\n",
       "      <td>1</td>\n",
       "    </tr>\n",
       "    <tr>\n",
       "      <th>na</th>\n",
       "      <td>2</td>\n",
       "    </tr>\n",
       "    <tr>\n",
       "      <th rowspan=\"3\" valign=\"top\">AL</th>\n",
       "      <th>na</th>\n",
       "      <td>2</td>\n",
       "    </tr>\n",
       "    <tr>\n",
       "      <th>data engineer</th>\n",
       "      <td>1</td>\n",
       "    </tr>\n",
       "    <tr>\n",
       "      <th>analyst</th>\n",
       "      <td>5</td>\n",
       "    </tr>\n",
       "  </tbody>\n",
       "</table>\n",
       "</div>"
      ],
      "text/plain": [
       "                          avg_salary\n",
       "job_state job                       \n",
       "WI        na                       4\n",
       "          data scientist           3\n",
       "          analyst                  3\n",
       "WA        na                       1\n",
       "          data scientist          17\n",
       "          analyst                  3\n",
       "VA        na                       5\n",
       "          mle                      2\n",
       "          data scientist          18\n",
       "          data engineer           10\n",
       "          analyst                  6\n",
       "UT        data engineer            3\n",
       "          analyst                  4\n",
       "          data scientist           3\n",
       "TX        na                       7\n",
       "          data scientist          13\n",
       "          data engineer            8\n",
       "TN        data scientist           1\n",
       "          data engineer           10\n",
       "          analyst                  2\n",
       "SC        na                       1\n",
       "RI        analyst                  1\n",
       "PA        manager                  3\n",
       "          data engineer            1\n",
       "          data scientist           6\n",
       "          analyst                  8\n",
       "          mle                      7\n",
       "          na                       8\n",
       "OR        data scientist           3\n",
       "          data engineer            1\n",
       "OH        na                       3\n",
       "          data scientist           7\n",
       "          analyst                  4\n",
       "NY        na                      12\n",
       "          mle                      2\n",
       "          data scientist          40\n",
       "          data engineer            4\n",
       "          analyst                 14\n",
       "NM        data scientist           3\n",
       "NJ        data scientist           4\n",
       "          analyst                  6\n",
       "          data engineer            2\n",
       "          manager                  2\n",
       "          director                 2\n",
       "          na                       1\n",
       "NE        na                       4\n",
       "NC        na                      12\n",
       "          data scientist           3\n",
       "          data engineer            6\n",
       "MO        na                       3\n",
       "          manager                  1\n",
       "          data scientist           3\n",
       "          analyst                  2\n",
       "MN        data engineer            1\n",
       "          analyst                  1\n",
       "MI        manager                  2\n",
       "          data scientist           4\n",
       "MD        na                      16\n",
       "          data scientist          13\n",
       "          data engineer            3\n",
       "          analyst                  3\n",
       "MA        na                      46\n",
       "          manager                  5\n",
       "          director                 6\n",
       "          data scientist          30\n",
       "          data engineer           12\n",
       "          analyst                  4\n",
       "LA        analyst                  1\n",
       "          data engineer            2\n",
       "          na                       1\n",
       "KY        na                       4\n",
       "          data scientist           2\n",
       "KS        mle                      3\n",
       "IN        na                       4\n",
       "          data scientist           2\n",
       "          data engineer            4\n",
       "IL        analyst                  3\n",
       "          na                       6\n",
       "          mle                      2\n",
       "          director                 6\n",
       "          data scientist          15\n",
       "          data engineer            8\n",
       "ID        analyst                  2\n",
       "IA        analyst                  2\n",
       "          data engineer            3\n",
       "GA        data scientist           3\n",
       "          na                       3\n",
       "FL        data scientist           7\n",
       "          data engineer            3\n",
       "          analyst                  6\n",
       "DE        na                       6\n",
       "DC        data scientist           5\n",
       "          data engineer            4\n",
       "          analyst                  2\n",
       "CT        na                       3\n",
       "          data scientist           2\n",
       "CO        mle                      1\n",
       "          data engineer            3\n",
       "          analyst                  1\n",
       "          na                       3\n",
       "          data scientist           3\n",
       "CA        na                      27\n",
       "          mle                      5\n",
       "          manager                  9\n",
       "          data scientist          68\n",
       "          data engineer           25\n",
       "          analyst                 18\n",
       "AZ        data scientist           1\n",
       "          data engineer            5\n",
       "          analyst                  1\n",
       "          na                       2\n",
       "AL        na                       2\n",
       "          data engineer            1\n",
       "          analyst                  5"
      ]
     },
     "execution_count": 64,
     "metadata": {},
     "output_type": "execute_result"
    }
   ],
   "source": [
    "pd.pivot_table(df, index = ['job_state','job'], values = 'avg_salary', aggfunc = 'count').sort_values('job_state', ascending = False)"
   ]
  },
  {
   "cell_type": "code",
   "execution_count": 65,
   "metadata": {
    "colab": {
     "base_uri": "https://localhost:8080/"
    },
    "id": "2VupKkakchrO",
    "outputId": "611bd117-c285-4c86-ac97-ee9ceff84413"
   },
   "outputs": [
    {
     "data": {
      "text/html": [
       "<div>\n",
       "<style scoped>\n",
       "    .dataframe tbody tr th:only-of-type {\n",
       "        vertical-align: middle;\n",
       "    }\n",
       "\n",
       "    .dataframe tbody tr th {\n",
       "        vertical-align: top;\n",
       "    }\n",
       "\n",
       "    .dataframe thead th {\n",
       "        text-align: right;\n",
       "    }\n",
       "</style>\n",
       "<table border=\"1\" class=\"dataframe\">\n",
       "  <thead>\n",
       "    <tr style=\"text-align: right;\">\n",
       "      <th></th>\n",
       "      <th>avg_salary</th>\n",
       "    </tr>\n",
       "    <tr>\n",
       "      <th>job_state</th>\n",
       "      <th></th>\n",
       "    </tr>\n",
       "  </thead>\n",
       "  <tbody>\n",
       "    <tr>\n",
       "      <th>DC</th>\n",
       "      <td>149.000000</td>\n",
       "    </tr>\n",
       "    <tr>\n",
       "      <th>CA</th>\n",
       "      <td>142.522059</td>\n",
       "    </tr>\n",
       "    <tr>\n",
       "      <th>UT</th>\n",
       "      <td>140.500000</td>\n",
       "    </tr>\n",
       "    <tr>\n",
       "      <th>MO</th>\n",
       "      <td>127.666667</td>\n",
       "    </tr>\n",
       "    <tr>\n",
       "      <th>IL</th>\n",
       "      <td>117.233333</td>\n",
       "    </tr>\n",
       "    <tr>\n",
       "      <th>NC</th>\n",
       "      <td>117.000000</td>\n",
       "    </tr>\n",
       "    <tr>\n",
       "      <th>NY</th>\n",
       "      <td>115.250000</td>\n",
       "    </tr>\n",
       "    <tr>\n",
       "      <th>MA</th>\n",
       "      <td>113.750000</td>\n",
       "    </tr>\n",
       "    <tr>\n",
       "      <th>WI</th>\n",
       "      <td>113.500000</td>\n",
       "    </tr>\n",
       "    <tr>\n",
       "      <th>PA</th>\n",
       "      <td>113.333333</td>\n",
       "    </tr>\n",
       "    <tr>\n",
       "      <th>MD</th>\n",
       "      <td>109.115385</td>\n",
       "    </tr>\n",
       "    <tr>\n",
       "      <th>CO</th>\n",
       "      <td>108.666667</td>\n",
       "    </tr>\n",
       "    <tr>\n",
       "      <th>VA</th>\n",
       "      <td>108.416667</td>\n",
       "    </tr>\n",
       "    <tr>\n",
       "      <th>NJ</th>\n",
       "      <td>106.875000</td>\n",
       "    </tr>\n",
       "    <tr>\n",
       "      <th>MI</th>\n",
       "      <td>106.625000</td>\n",
       "    </tr>\n",
       "    <tr>\n",
       "      <th>OH</th>\n",
       "      <td>105.285714</td>\n",
       "    </tr>\n",
       "    <tr>\n",
       "      <th>TX</th>\n",
       "      <td>100.730769</td>\n",
       "    </tr>\n",
       "    <tr>\n",
       "      <th>WA</th>\n",
       "      <td>99.764706</td>\n",
       "    </tr>\n",
       "    <tr>\n",
       "      <th>OR</th>\n",
       "      <td>98.500000</td>\n",
       "    </tr>\n",
       "    <tr>\n",
       "      <th>FL</th>\n",
       "      <td>97.357143</td>\n",
       "    </tr>\n",
       "    <tr>\n",
       "      <th>TN</th>\n",
       "      <td>96.000000</td>\n",
       "    </tr>\n",
       "    <tr>\n",
       "      <th>IN</th>\n",
       "      <td>84.500000</td>\n",
       "    </tr>\n",
       "    <tr>\n",
       "      <th>KY</th>\n",
       "      <td>84.000000</td>\n",
       "    </tr>\n",
       "    <tr>\n",
       "      <th>CT</th>\n",
       "      <td>84.000000</td>\n",
       "    </tr>\n",
       "    <tr>\n",
       "      <th>GA</th>\n",
       "      <td>81.333333</td>\n",
       "    </tr>\n",
       "    <tr>\n",
       "      <th>NM</th>\n",
       "      <td>74.333333</td>\n",
       "    </tr>\n",
       "    <tr>\n",
       "      <th>AZ</th>\n",
       "      <td>69.500000</td>\n",
       "    </tr>\n",
       "  </tbody>\n",
       "</table>\n",
       "</div>"
      ],
      "text/plain": [
       "           avg_salary\n",
       "job_state            \n",
       "DC         149.000000\n",
       "CA         142.522059\n",
       "UT         140.500000\n",
       "MO         127.666667\n",
       "IL         117.233333\n",
       "NC         117.000000\n",
       "NY         115.250000\n",
       "MA         113.750000\n",
       "WI         113.500000\n",
       "PA         113.333333\n",
       "MD         109.115385\n",
       "CO         108.666667\n",
       "VA         108.416667\n",
       "NJ         106.875000\n",
       "MI         106.625000\n",
       "OH         105.285714\n",
       "TX         100.730769\n",
       "WA          99.764706\n",
       "OR          98.500000\n",
       "FL          97.357143\n",
       "TN          96.000000\n",
       "IN          84.500000\n",
       "KY          84.000000\n",
       "CT          84.000000\n",
       "GA          81.333333\n",
       "NM          74.333333\n",
       "AZ          69.500000"
      ]
     },
     "execution_count": 65,
     "metadata": {},
     "output_type": "execute_result"
    }
   ],
   "source": [
    "pd.pivot_table(df[df.job == 'data scientist'], index = 'job_state', values = 'avg_salary').sort_values('avg_salary', ascending = False)"
   ]
  },
  {
   "cell_type": "code",
   "execution_count": 66,
   "metadata": {
    "id": "-wmRAalcchrO"
   },
   "outputs": [],
   "source": [
    "df_pivots = df[['Rating', 'Industry', 'Sector', 'Revenue', 'num_comp', 'hourly', 'employer_provided', 'python_yn', 'R_yn', 'spark', 'aws', 'excel', 'Type of ownership','avg_salary']]"
   ]
  },
  {
   "cell_type": "code",
   "execution_count": 67,
   "metadata": {
    "colab": {
     "base_uri": "https://localhost:8080/"
    },
    "id": "0kEfPteUchrO",
    "outputId": "5f132593-de6b-4d65-8847-dc7f0e803973"
   },
   "outputs": [
    {
     "data": {
      "text/html": [
       "<div>\n",
       "<style scoped>\n",
       "    .dataframe tbody tr th:only-of-type {\n",
       "        vertical-align: middle;\n",
       "    }\n",
       "\n",
       "    .dataframe tbody tr th {\n",
       "        vertical-align: top;\n",
       "    }\n",
       "\n",
       "    .dataframe thead th {\n",
       "        text-align: right;\n",
       "    }\n",
       "</style>\n",
       "<table border=\"1\" class=\"dataframe\">\n",
       "  <thead>\n",
       "    <tr style=\"text-align: right;\">\n",
       "      <th>python_yn</th>\n",
       "      <th>0</th>\n",
       "      <th>1</th>\n",
       "    </tr>\n",
       "    <tr>\n",
       "      <th>Revenue</th>\n",
       "      <th></th>\n",
       "      <th></th>\n",
       "    </tr>\n",
       "  </thead>\n",
       "  <tbody>\n",
       "    <tr>\n",
       "      <th>$1 to $2 billion (USD)</th>\n",
       "      <td>16.0</td>\n",
       "      <td>44.0</td>\n",
       "    </tr>\n",
       "    <tr>\n",
       "      <th>$1 to $5 million (USD)</th>\n",
       "      <td>1.0</td>\n",
       "      <td>7.0</td>\n",
       "    </tr>\n",
       "    <tr>\n",
       "      <th>$10 to $25 million (USD)</th>\n",
       "      <td>16.0</td>\n",
       "      <td>16.0</td>\n",
       "    </tr>\n",
       "    <tr>\n",
       "      <th>$10+ billion (USD)</th>\n",
       "      <td>66.0</td>\n",
       "      <td>58.0</td>\n",
       "    </tr>\n",
       "    <tr>\n",
       "      <th>$100 to $500 million (USD)</th>\n",
       "      <td>47.0</td>\n",
       "      <td>44.0</td>\n",
       "    </tr>\n",
       "    <tr>\n",
       "      <th>$2 to $5 billion (USD)</th>\n",
       "      <td>17.0</td>\n",
       "      <td>22.0</td>\n",
       "    </tr>\n",
       "    <tr>\n",
       "      <th>$25 to $50 million (USD)</th>\n",
       "      <td>24.0</td>\n",
       "      <td>16.0</td>\n",
       "    </tr>\n",
       "    <tr>\n",
       "      <th>$5 to $10 billion (USD)</th>\n",
       "      <td>9.0</td>\n",
       "      <td>10.0</td>\n",
       "    </tr>\n",
       "    <tr>\n",
       "      <th>$5 to $10 million (USD)</th>\n",
       "      <td>9.0</td>\n",
       "      <td>9.0</td>\n",
       "    </tr>\n",
       "    <tr>\n",
       "      <th>$50 to $100 million (USD)</th>\n",
       "      <td>21.0</td>\n",
       "      <td>25.0</td>\n",
       "    </tr>\n",
       "    <tr>\n",
       "      <th>$500 million to $1 billion (USD)</th>\n",
       "      <td>29.0</td>\n",
       "      <td>28.0</td>\n",
       "    </tr>\n",
       "    <tr>\n",
       "      <th>-1</th>\n",
       "      <td>1.0</td>\n",
       "      <td>NaN</td>\n",
       "    </tr>\n",
       "    <tr>\n",
       "      <th>Less than $1 million (USD)</th>\n",
       "      <td>1.0</td>\n",
       "      <td>3.0</td>\n",
       "    </tr>\n",
       "    <tr>\n",
       "      <th>Unknown / Non-Applicable</th>\n",
       "      <td>93.0</td>\n",
       "      <td>110.0</td>\n",
       "    </tr>\n",
       "  </tbody>\n",
       "</table>\n",
       "</div>"
      ],
      "text/plain": [
       "python_yn                            0      1\n",
       "Revenue                                      \n",
       "$1 to $2 billion (USD)            16.0   44.0\n",
       "$1 to $5 million (USD)             1.0    7.0\n",
       "$10 to $25 million (USD)          16.0   16.0\n",
       "$10+ billion (USD)                66.0   58.0\n",
       "$100 to $500 million (USD)        47.0   44.0\n",
       "$2 to $5 billion (USD)            17.0   22.0\n",
       "$25 to $50 million (USD)          24.0   16.0\n",
       "$5 to $10 billion (USD)            9.0   10.0\n",
       "$5 to $10 million (USD)            9.0    9.0\n",
       "$50 to $100 million (USD)         21.0   25.0\n",
       "$500 million to $1 billion (USD)  29.0   28.0\n",
       "-1                                 1.0    NaN\n",
       "Less than $1 million (USD)         1.0    3.0\n",
       "Unknown / Non-Applicable          93.0  110.0"
      ]
     },
     "execution_count": 67,
     "metadata": {},
     "output_type": "execute_result"
    }
   ],
   "source": [
    "pd.pivot_table(df_pivots, index = 'Revenue', columns = 'python_yn', values = 'avg_salary', aggfunc = 'count')"
   ]
  },
  {
   "cell_type": "markdown",
   "metadata": {
    "id": "8DgWA3kRchrO"
   },
   "source": [
    "# Model Fitting\n",
    "\n",
    "\n",
    "### Models to be Used \n",
    "* Multiple Linear Regression\n",
    "* Lasso Regression \n",
    "* Random Forest\n"
   ]
  },
  {
   "cell_type": "code",
   "execution_count": 68,
   "metadata": {
    "id": "IFYZfNCechrP"
   },
   "outputs": [],
   "source": [
    "import pandas as pd \n",
    "import matplotlib.pyplot as plt \n",
    "import numpy as np "
   ]
  },
  {
   "cell_type": "code",
   "execution_count": 69,
   "metadata": {},
   "outputs": [
    {
     "data": {
      "text/plain": [
       "Index(['Job Title', 'Salary Estimate', 'Job Description', 'Rating',\n",
       "       'Company Name', 'Location', 'Headquarters', 'Size', 'Founded',\n",
       "       'Type of ownership', 'Industry', 'Sector', 'Revenue', 'Competitors',\n",
       "       'hourly', 'employer_provided', 'min_salary', 'max_salary', 'avg_salary',\n",
       "       'company_txt', 'job_state', 'same_state', 'age', 'python_yn', 'R_yn',\n",
       "       'spark', 'aws', 'excel', 'job', 'seniority', 'desc_len', 'num_comp'],\n",
       "      dtype='object')"
      ]
     },
     "execution_count": 69,
     "metadata": {},
     "output_type": "execute_result"
    }
   ],
   "source": [
    "df.columns"
   ]
  },
  {
   "cell_type": "code",
   "execution_count": 70,
   "metadata": {},
   "outputs": [],
   "source": [
    "df = pd.read_csv('data_cleaned.csv')\n",
    "\n",
    "# choose relevant columns \n",
    "df.columns\n",
    "\n",
    "df_model = df[['avg_salary','Rating','Size','Type of ownership','Industry','Sector','Revenue','hourly','employer_provided',\n",
    "             'job_state','same_state','age','python_yn','spark','aws','excel']]"
   ]
  },
  {
   "cell_type": "code",
   "execution_count": 71,
   "metadata": {},
   "outputs": [
    {
     "data": {
      "text/html": [
       "<div>\n",
       "<style scoped>\n",
       "    .dataframe tbody tr th:only-of-type {\n",
       "        vertical-align: middle;\n",
       "    }\n",
       "\n",
       "    .dataframe tbody tr th {\n",
       "        vertical-align: top;\n",
       "    }\n",
       "\n",
       "    .dataframe thead th {\n",
       "        text-align: right;\n",
       "    }\n",
       "</style>\n",
       "<table border=\"1\" class=\"dataframe\">\n",
       "  <thead>\n",
       "    <tr style=\"text-align: right;\">\n",
       "      <th></th>\n",
       "      <th>Job Title</th>\n",
       "      <th>Salary Estimate</th>\n",
       "      <th>Job Description</th>\n",
       "      <th>Rating</th>\n",
       "      <th>Company Name</th>\n",
       "      <th>Location</th>\n",
       "      <th>Headquarters</th>\n",
       "      <th>Size</th>\n",
       "      <th>Founded</th>\n",
       "      <th>Type of ownership</th>\n",
       "      <th>...</th>\n",
       "      <th>avg_salary</th>\n",
       "      <th>company_txt</th>\n",
       "      <th>job_state</th>\n",
       "      <th>same_state</th>\n",
       "      <th>age</th>\n",
       "      <th>python_yn</th>\n",
       "      <th>R_yn</th>\n",
       "      <th>spark</th>\n",
       "      <th>aws</th>\n",
       "      <th>excel</th>\n",
       "    </tr>\n",
       "  </thead>\n",
       "  <tbody>\n",
       "    <tr>\n",
       "      <th>0</th>\n",
       "      <td>Data Scientist</td>\n",
       "      <td>$53K-$91K (Glassdoor est.)</td>\n",
       "      <td>Data Scientist\\nLocation: Albuquerque, NM\\nEdu...</td>\n",
       "      <td>3.8</td>\n",
       "      <td>Tecolote Research\\n3.8</td>\n",
       "      <td>Albuquerque, NM</td>\n",
       "      <td>Goleta, CA</td>\n",
       "      <td>501 to 1000 employees</td>\n",
       "      <td>1973</td>\n",
       "      <td>Company - Private</td>\n",
       "      <td>...</td>\n",
       "      <td>72.0</td>\n",
       "      <td>Tecolote Research\\n</td>\n",
       "      <td>NM</td>\n",
       "      <td>0</td>\n",
       "      <td>47</td>\n",
       "      <td>1</td>\n",
       "      <td>0</td>\n",
       "      <td>0</td>\n",
       "      <td>0</td>\n",
       "      <td>1</td>\n",
       "    </tr>\n",
       "    <tr>\n",
       "      <th>1</th>\n",
       "      <td>Healthcare Data Scientist</td>\n",
       "      <td>$63K-$112K (Glassdoor est.)</td>\n",
       "      <td>What You Will Do:\\n\\nI. General Summary\\n\\nThe...</td>\n",
       "      <td>3.4</td>\n",
       "      <td>University of Maryland Medical System\\n3.4</td>\n",
       "      <td>Linthicum, MD</td>\n",
       "      <td>Baltimore, MD</td>\n",
       "      <td>10000+ employees</td>\n",
       "      <td>1984</td>\n",
       "      <td>Other Organization</td>\n",
       "      <td>...</td>\n",
       "      <td>87.5</td>\n",
       "      <td>University of Maryland Medical System\\n</td>\n",
       "      <td>MD</td>\n",
       "      <td>0</td>\n",
       "      <td>36</td>\n",
       "      <td>1</td>\n",
       "      <td>0</td>\n",
       "      <td>0</td>\n",
       "      <td>0</td>\n",
       "      <td>0</td>\n",
       "    </tr>\n",
       "  </tbody>\n",
       "</table>\n",
       "<p>2 rows × 28 columns</p>\n",
       "</div>"
      ],
      "text/plain": [
       "                   Job Title              Salary Estimate  \\\n",
       "0             Data Scientist   $53K-$91K (Glassdoor est.)   \n",
       "1  Healthcare Data Scientist  $63K-$112K (Glassdoor est.)   \n",
       "\n",
       "                                     Job Description  Rating  \\\n",
       "0  Data Scientist\\nLocation: Albuquerque, NM\\nEdu...     3.8   \n",
       "1  What You Will Do:\\n\\nI. General Summary\\n\\nThe...     3.4   \n",
       "\n",
       "                                 Company Name         Location   Headquarters  \\\n",
       "0                      Tecolote Research\\n3.8  Albuquerque, NM     Goleta, CA   \n",
       "1  University of Maryland Medical System\\n3.4    Linthicum, MD  Baltimore, MD   \n",
       "\n",
       "                    Size  Founded   Type of ownership  ... avg_salary  \\\n",
       "0  501 to 1000 employees     1973   Company - Private  ...       72.0   \n",
       "1       10000+ employees     1984  Other Organization  ...       87.5   \n",
       "\n",
       "                               company_txt job_state same_state  age  \\\n",
       "0                      Tecolote Research\\n        NM          0   47   \n",
       "1  University of Maryland Medical System\\n        MD          0   36   \n",
       "\n",
       "   python_yn  R_yn  spark  aws excel  \n",
       "0          1     0      0    0     1  \n",
       "1          1     0      0    0     0  \n",
       "\n",
       "[2 rows x 28 columns]"
      ]
     },
     "execution_count": 71,
     "metadata": {},
     "output_type": "execute_result"
    }
   ],
   "source": [
    "df.head(2)"
   ]
  },
  {
   "cell_type": "code",
   "execution_count": 72,
   "metadata": {},
   "outputs": [],
   "source": [
    "df_dum = pd.get_dummies(df_model)"
   ]
  },
  {
   "cell_type": "code",
   "execution_count": 73,
   "metadata": {},
   "outputs": [
    {
     "data": {
      "text/html": [
       "<div>\n",
       "<style scoped>\n",
       "    .dataframe tbody tr th:only-of-type {\n",
       "        vertical-align: middle;\n",
       "    }\n",
       "\n",
       "    .dataframe tbody tr th {\n",
       "        vertical-align: top;\n",
       "    }\n",
       "\n",
       "    .dataframe thead th {\n",
       "        text-align: right;\n",
       "    }\n",
       "</style>\n",
       "<table border=\"1\" class=\"dataframe\">\n",
       "  <thead>\n",
       "    <tr style=\"text-align: right;\">\n",
       "      <th></th>\n",
       "      <th>avg_salary</th>\n",
       "      <th>Rating</th>\n",
       "      <th>hourly</th>\n",
       "      <th>employer_provided</th>\n",
       "      <th>same_state</th>\n",
       "      <th>age</th>\n",
       "      <th>python_yn</th>\n",
       "      <th>spark</th>\n",
       "      <th>aws</th>\n",
       "      <th>excel</th>\n",
       "      <th>...</th>\n",
       "      <th>job_state_ OR</th>\n",
       "      <th>job_state_ PA</th>\n",
       "      <th>job_state_ RI</th>\n",
       "      <th>job_state_ SC</th>\n",
       "      <th>job_state_ TN</th>\n",
       "      <th>job_state_ TX</th>\n",
       "      <th>job_state_ UT</th>\n",
       "      <th>job_state_ VA</th>\n",
       "      <th>job_state_ WA</th>\n",
       "      <th>job_state_ WI</th>\n",
       "    </tr>\n",
       "  </thead>\n",
       "  <tbody>\n",
       "    <tr>\n",
       "      <th>0</th>\n",
       "      <td>72.0</td>\n",
       "      <td>3.8</td>\n",
       "      <td>0</td>\n",
       "      <td>0</td>\n",
       "      <td>0</td>\n",
       "      <td>47</td>\n",
       "      <td>1</td>\n",
       "      <td>0</td>\n",
       "      <td>0</td>\n",
       "      <td>1</td>\n",
       "      <td>...</td>\n",
       "      <td>0</td>\n",
       "      <td>0</td>\n",
       "      <td>0</td>\n",
       "      <td>0</td>\n",
       "      <td>0</td>\n",
       "      <td>0</td>\n",
       "      <td>0</td>\n",
       "      <td>0</td>\n",
       "      <td>0</td>\n",
       "      <td>0</td>\n",
       "    </tr>\n",
       "    <tr>\n",
       "      <th>1</th>\n",
       "      <td>87.5</td>\n",
       "      <td>3.4</td>\n",
       "      <td>0</td>\n",
       "      <td>0</td>\n",
       "      <td>0</td>\n",
       "      <td>36</td>\n",
       "      <td>1</td>\n",
       "      <td>0</td>\n",
       "      <td>0</td>\n",
       "      <td>0</td>\n",
       "      <td>...</td>\n",
       "      <td>0</td>\n",
       "      <td>0</td>\n",
       "      <td>0</td>\n",
       "      <td>0</td>\n",
       "      <td>0</td>\n",
       "      <td>0</td>\n",
       "      <td>0</td>\n",
       "      <td>0</td>\n",
       "      <td>0</td>\n",
       "      <td>0</td>\n",
       "    </tr>\n",
       "  </tbody>\n",
       "</table>\n",
       "<p>2 rows × 167 columns</p>\n",
       "</div>"
      ],
      "text/plain": [
       "   avg_salary  Rating  hourly  employer_provided  same_state  age  python_yn  \\\n",
       "0        72.0     3.8       0                  0           0   47          1   \n",
       "1        87.5     3.4       0                  0           0   36          1   \n",
       "\n",
       "   spark  aws  excel  ...  job_state_ OR  job_state_ PA  job_state_ RI  \\\n",
       "0      0    0      1  ...              0              0              0   \n",
       "1      0    0      0  ...              0              0              0   \n",
       "\n",
       "   job_state_ SC  job_state_ TN  job_state_ TX  job_state_ UT  job_state_ VA  \\\n",
       "0              0              0              0              0              0   \n",
       "1              0              0              0              0              0   \n",
       "\n",
       "   job_state_ WA  job_state_ WI  \n",
       "0              0              0  \n",
       "1              0              0  \n",
       "\n",
       "[2 rows x 167 columns]"
      ]
     },
     "execution_count": 73,
     "metadata": {},
     "output_type": "execute_result"
    }
   ],
   "source": [
    "df_dum.head(2)"
   ]
  },
  {
   "cell_type": "code",
   "execution_count": 74,
   "metadata": {},
   "outputs": [],
   "source": [
    "from sklearn.model_selection import train_test_split\n",
    "\n",
    "X = df_dum.drop('avg_salary', axis =1)\n",
    "y = df_dum.avg_salary.values\n",
    "\n",
    "X_train, X_test, y_train, y_test = train_test_split(X, y, test_size=0.2, random_state=42)"
   ]
  },
  {
   "cell_type": "code",
   "execution_count": 75,
   "metadata": {},
   "outputs": [
    {
     "data": {
      "text/html": [
       "<table class=\"simpletable\">\n",
       "<caption>OLS Regression Results</caption>\n",
       "<tr>\n",
       "  <th>Dep. Variable:</th>            <td>y</td>        <th>  R-squared:         </th> <td>   0.547</td>\n",
       "</tr>\n",
       "<tr>\n",
       "  <th>Model:</th>                   <td>OLS</td>       <th>  Adj. R-squared:    </th> <td>   0.448</td>\n",
       "</tr>\n",
       "<tr>\n",
       "  <th>Method:</th>             <td>Least Squares</td>  <th>  F-statistic:       </th> <td>   5.530</td>\n",
       "</tr>\n",
       "<tr>\n",
       "  <th>Date:</th>             <td>Fri, 29 Apr 2022</td> <th>  Prob (F-statistic):</th> <td>9.59e-49</td>\n",
       "</tr>\n",
       "<tr>\n",
       "  <th>Time:</th>                 <td>14:37:41</td>     <th>  Log-Likelihood:    </th> <td> -3473.8</td>\n",
       "</tr>\n",
       "<tr>\n",
       "  <th>No. Observations:</th>      <td>   742</td>      <th>  AIC:               </th> <td>   7216.</td>\n",
       "</tr>\n",
       "<tr>\n",
       "  <th>Df Residuals:</th>          <td>   608</td>      <th>  BIC:               </th> <td>   7833.</td>\n",
       "</tr>\n",
       "<tr>\n",
       "  <th>Df Model:</th>              <td>   133</td>      <th>                     </th>     <td> </td>   \n",
       "</tr>\n",
       "<tr>\n",
       "  <th>Covariance Type:</th>      <td>nonrobust</td>    <th>                     </th>     <td> </td>   \n",
       "</tr>\n",
       "</table>\n",
       "<table class=\"simpletable\">\n",
       "<tr>\n",
       "                          <td></td>                             <th>coef</th>     <th>std err</th>      <th>t</th>      <th>P>|t|</th>  <th>[0.025</th>    <th>0.975]</th>  \n",
       "</tr>\n",
       "<tr>\n",
       "  <th>const</th>                                             <td>   36.8794</td> <td>    8.783</td> <td>    4.199</td> <td> 0.000</td> <td>   19.631</td> <td>   54.128</td>\n",
       "</tr>\n",
       "<tr>\n",
       "  <th>Rating</th>                                            <td>    7.7875</td> <td>    2.333</td> <td>    3.338</td> <td> 0.001</td> <td>    3.206</td> <td>   12.369</td>\n",
       "</tr>\n",
       "<tr>\n",
       "  <th>hourly</th>                                            <td>  -63.2583</td> <td>   10.975</td> <td>   -5.764</td> <td> 0.000</td> <td>  -84.813</td> <td>  -41.704</td>\n",
       "</tr>\n",
       "<tr>\n",
       "  <th>employer_provided</th>                                 <td>   54.7794</td> <td>   14.011</td> <td>    3.910</td> <td> 0.000</td> <td>   27.264</td> <td>   82.294</td>\n",
       "</tr>\n",
       "<tr>\n",
       "  <th>same_state</th>                                        <td>    0.9972</td> <td>    3.171</td> <td>    0.314</td> <td> 0.753</td> <td>   -5.231</td> <td>    7.226</td>\n",
       "</tr>\n",
       "<tr>\n",
       "  <th>age</th>                                               <td>   -0.0023</td> <td>    0.036</td> <td>   -0.062</td> <td> 0.951</td> <td>   -0.074</td> <td>    0.069</td>\n",
       "</tr>\n",
       "<tr>\n",
       "  <th>python_yn</th>                                         <td>   17.1639</td> <td>    2.922</td> <td>    5.874</td> <td> 0.000</td> <td>   11.425</td> <td>   22.903</td>\n",
       "</tr>\n",
       "<tr>\n",
       "  <th>spark</th>                                             <td>   -2.6801</td> <td>    3.400</td> <td>   -0.788</td> <td> 0.431</td> <td>   -9.358</td> <td>    3.998</td>\n",
       "</tr>\n",
       "<tr>\n",
       "  <th>aws</th>                                               <td>    7.0393</td> <td>    3.230</td> <td>    2.179</td> <td> 0.030</td> <td>    0.696</td> <td>   13.383</td>\n",
       "</tr>\n",
       "<tr>\n",
       "  <th>excel</th>                                             <td>   -7.1205</td> <td>    2.713</td> <td>   -2.624</td> <td> 0.009</td> <td>  -12.449</td> <td>   -1.792</td>\n",
       "</tr>\n",
       "<tr>\n",
       "  <th>Size_-1</th>                                           <td>    5.4339</td> <td>   10.661</td> <td>    0.510</td> <td> 0.610</td> <td>  -15.503</td> <td>   26.371</td>\n",
       "</tr>\n",
       "<tr>\n",
       "  <th>Size_1 to 50 employees</th>                            <td>   -1.4366</td> <td>    7.975</td> <td>   -0.180</td> <td> 0.857</td> <td>  -17.099</td> <td>   14.226</td>\n",
       "</tr>\n",
       "<tr>\n",
       "  <th>Size_10000+ employees</th>                             <td>   12.0627</td> <td>    6.901</td> <td>    1.748</td> <td> 0.081</td> <td>   -1.490</td> <td>   25.615</td>\n",
       "</tr>\n",
       "<tr>\n",
       "  <th>Size_1001 to 5000 employees</th>                       <td>   13.0154</td> <td>    4.605</td> <td>    2.826</td> <td> 0.005</td> <td>    3.971</td> <td>   22.060</td>\n",
       "</tr>\n",
       "<tr>\n",
       "  <th>Size_201 to 500 employees</th>                         <td>   -0.5307</td> <td>    4.722</td> <td>   -0.112</td> <td> 0.911</td> <td>   -9.804</td> <td>    8.743</td>\n",
       "</tr>\n",
       "<tr>\n",
       "  <th>Size_5001 to 10000 employees</th>                      <td>    2.8336</td> <td>    6.551</td> <td>    0.433</td> <td> 0.666</td> <td>  -10.032</td> <td>   15.699</td>\n",
       "</tr>\n",
       "<tr>\n",
       "  <th>Size_501 to 1000 employees</th>                        <td>   -1.2113</td> <td>    4.863</td> <td>   -0.249</td> <td> 0.803</td> <td>  -10.762</td> <td>    8.340</td>\n",
       "</tr>\n",
       "<tr>\n",
       "  <th>Size_51 to 200 employees</th>                          <td>    0.9779</td> <td>    5.294</td> <td>    0.185</td> <td> 0.854</td> <td>   -9.419</td> <td>   11.375</td>\n",
       "</tr>\n",
       "<tr>\n",
       "  <th>Size_Unknown</th>                                      <td>    5.7346</td> <td>   17.205</td> <td>    0.333</td> <td> 0.739</td> <td>  -28.054</td> <td>   39.523</td>\n",
       "</tr>\n",
       "<tr>\n",
       "  <th>Type of ownership_-1</th>                              <td>    5.4339</td> <td>   10.661</td> <td>    0.510</td> <td> 0.610</td> <td>  -15.503</td> <td>   26.371</td>\n",
       "</tr>\n",
       "<tr>\n",
       "  <th>Type of ownership_College / University</th>            <td>   22.7728</td> <td>   21.003</td> <td>    1.084</td> <td> 0.279</td> <td>  -18.474</td> <td>   64.020</td>\n",
       "</tr>\n",
       "<tr>\n",
       "  <th>Type of ownership_Company - Private</th>               <td>    4.5340</td> <td>    6.331</td> <td>    0.716</td> <td> 0.474</td> <td>   -7.899</td> <td>   16.967</td>\n",
       "</tr>\n",
       "<tr>\n",
       "  <th>Type of ownership_Company - Public</th>                <td>   10.5268</td> <td>    6.909</td> <td>    1.524</td> <td> 0.128</td> <td>   -3.041</td> <td>   24.095</td>\n",
       "</tr>\n",
       "<tr>\n",
       "  <th>Type of ownership_Government</th>                      <td>    4.9393</td> <td>   18.173</td> <td>    0.272</td> <td> 0.786</td> <td>  -30.751</td> <td>   40.630</td>\n",
       "</tr>\n",
       "<tr>\n",
       "  <th>Type of ownership_Hospital</th>                        <td>   -5.1605</td> <td>   11.920</td> <td>   -0.433</td> <td> 0.665</td> <td>  -28.569</td> <td>   18.248</td>\n",
       "</tr>\n",
       "<tr>\n",
       "  <th>Type of ownership_Nonprofit Organization</th>          <td>  -15.4312</td> <td>    8.158</td> <td>   -1.892</td> <td> 0.059</td> <td>  -31.452</td> <td>    0.589</td>\n",
       "</tr>\n",
       "<tr>\n",
       "  <th>Type of ownership_Other Organization</th>              <td>  -13.7139</td> <td>   17.373</td> <td>   -0.789</td> <td> 0.430</td> <td>  -47.833</td> <td>   20.405</td>\n",
       "</tr>\n",
       "<tr>\n",
       "  <th>Type of ownership_School / School District</th>        <td>  -42.9880</td> <td>   28.743</td> <td>   -1.496</td> <td> 0.135</td> <td>  -99.435</td> <td>   13.459</td>\n",
       "</tr>\n",
       "<tr>\n",
       "  <th>Type of ownership_Subsidiary or Business Segment</th>  <td>    9.7420</td> <td>    8.370</td> <td>    1.164</td> <td> 0.245</td> <td>   -6.695</td> <td>   26.179</td>\n",
       "</tr>\n",
       "<tr>\n",
       "  <th>Type of ownership_Unknown</th>                         <td>   56.2243</td> <td>   35.255</td> <td>    1.595</td> <td> 0.111</td> <td>  -13.012</td> <td>  125.460</td>\n",
       "</tr>\n",
       "<tr>\n",
       "  <th>Industry_-1</th>                                       <td>   11.7983</td> <td>    9.661</td> <td>    1.221</td> <td> 0.222</td> <td>   -7.175</td> <td>   30.771</td>\n",
       "</tr>\n",
       "<tr>\n",
       "  <th>Industry_Accounting</th>                               <td>    1.5752</td> <td>   16.622</td> <td>    0.095</td> <td> 0.925</td> <td>  -31.068</td> <td>   34.218</td>\n",
       "</tr>\n",
       "<tr>\n",
       "  <th>Industry_Advertising & Marketing</th>                  <td>   19.1447</td> <td>    7.145</td> <td>    2.679</td> <td> 0.008</td> <td>    5.113</td> <td>   33.176</td>\n",
       "</tr>\n",
       "<tr>\n",
       "  <th>Industry_Aerospace & Defense</th>                      <td>    3.5765</td> <td>    3.758</td> <td>    0.952</td> <td> 0.342</td> <td>   -3.805</td> <td>   10.958</td>\n",
       "</tr>\n",
       "<tr>\n",
       "  <th>Industry_Architectural & Engineering Services</th>     <td>  -43.4042</td> <td>   19.381</td> <td>   -2.240</td> <td> 0.025</td> <td>  -81.465</td> <td>   -5.343</td>\n",
       "</tr>\n",
       "<tr>\n",
       "  <th>Industry_Auctions & Galleries</th>                     <td>   19.9271</td> <td>   28.108</td> <td>    0.709</td> <td> 0.479</td> <td>  -35.274</td> <td>   75.128</td>\n",
       "</tr>\n",
       "<tr>\n",
       "  <th>Industry_Banks & Credit Unions</th>                    <td>  -32.1446</td> <td>    9.812</td> <td>   -3.276</td> <td> 0.001</td> <td>  -51.414</td> <td>  -12.875</td>\n",
       "</tr>\n",
       "<tr>\n",
       "  <th>Industry_Beauty & Personal Accessories Stores</th>     <td>   -6.9046</td> <td>   26.397</td> <td>   -0.262</td> <td> 0.794</td> <td>  -58.746</td> <td>   44.937</td>\n",
       "</tr>\n",
       "<tr>\n",
       "  <th>Industry_Biotech & Pharmaceuticals</th>                <td>    9.2883</td> <td>    2.336</td> <td>    3.976</td> <td> 0.000</td> <td>    4.700</td> <td>   13.877</td>\n",
       "</tr>\n",
       "<tr>\n",
       "  <th>Industry_Brokerage Services</th>                       <td>   17.7995</td> <td>   19.142</td> <td>    0.930</td> <td> 0.353</td> <td>  -19.793</td> <td>   55.392</td>\n",
       "</tr>\n",
       "<tr>\n",
       "  <th>Industry_Colleges & Universities</th>                  <td>    4.6518</td> <td>   15.744</td> <td>    0.295</td> <td> 0.768</td> <td>  -26.267</td> <td>   35.571</td>\n",
       "</tr>\n",
       "<tr>\n",
       "  <th>Industry_Computer Hardware & Software</th>             <td>   -2.5294</td> <td>    3.966</td> <td>   -0.638</td> <td> 0.524</td> <td>  -10.318</td> <td>    5.260</td>\n",
       "</tr>\n",
       "<tr>\n",
       "  <th>Industry_Construction</th>                             <td>  -15.2413</td> <td>   12.966</td> <td>   -1.175</td> <td> 0.240</td> <td>  -40.705</td> <td>   10.222</td>\n",
       "</tr>\n",
       "<tr>\n",
       "  <th>Industry_Consulting</th>                               <td>   14.6800</td> <td>    7.135</td> <td>    2.057</td> <td> 0.040</td> <td>    0.667</td> <td>   28.693</td>\n",
       "</tr>\n",
       "<tr>\n",
       "  <th>Industry_Consumer Product Rental</th>                  <td>   10.1932</td> <td>   15.973</td> <td>    0.638</td> <td> 0.524</td> <td>  -21.175</td> <td>   41.562</td>\n",
       "</tr>\n",
       "<tr>\n",
       "  <th>Industry_Consumer Products Manufacturing</th>          <td>   10.7278</td> <td>   12.100</td> <td>    0.887</td> <td> 0.376</td> <td>  -13.036</td> <td>   34.491</td>\n",
       "</tr>\n",
       "<tr>\n",
       "  <th>Industry_Department, Clothing, & Shoe Stores</th>      <td>   -2.0261</td> <td>   14.168</td> <td>   -0.143</td> <td> 0.886</td> <td>  -29.850</td> <td>   25.798</td>\n",
       "</tr>\n",
       "<tr>\n",
       "  <th>Industry_Education Training Services</th>              <td>  -32.5382</td> <td>   15.248</td> <td>   -2.134</td> <td> 0.033</td> <td>  -62.484</td> <td>   -2.592</td>\n",
       "</tr>\n",
       "<tr>\n",
       "  <th>Industry_Energy</th>                                   <td>   -4.7436</td> <td>    9.314</td> <td>   -0.509</td> <td> 0.611</td> <td>  -23.034</td> <td>   13.547</td>\n",
       "</tr>\n",
       "<tr>\n",
       "  <th>Industry_Enterprise Software & Network Solutions</th>  <td>    7.8229</td> <td>    4.313</td> <td>    1.814</td> <td> 0.070</td> <td>   -0.646</td> <td>   16.292</td>\n",
       "</tr>\n",
       "<tr>\n",
       "  <th>Industry_Farm Support Services</th>                    <td>    8.3658</td> <td>   15.489</td> <td>    0.540</td> <td> 0.589</td> <td>  -22.053</td> <td>   38.784</td>\n",
       "</tr>\n",
       "<tr>\n",
       "  <th>Industry_Federal Agencies</th>                         <td>   11.0518</td> <td>    6.322</td> <td>    1.748</td> <td> 0.081</td> <td>   -1.365</td> <td>   23.468</td>\n",
       "</tr>\n",
       "<tr>\n",
       "  <th>Industry_Financial Analytics & Research</th>           <td>   14.8441</td> <td>   11.246</td> <td>    1.320</td> <td> 0.187</td> <td>   -7.242</td> <td>   36.930</td>\n",
       "</tr>\n",
       "<tr>\n",
       "  <th>Industry_Financial Transaction Processing</th>         <td>    9.3237</td> <td>   15.629</td> <td>    0.597</td> <td> 0.551</td> <td>  -21.370</td> <td>   40.018</td>\n",
       "</tr>\n",
       "<tr>\n",
       "  <th>Industry_Food & Beverage Manufacturing</th>            <td>  -10.6865</td> <td>   13.984</td> <td>   -0.764</td> <td> 0.445</td> <td>  -38.148</td> <td>   16.775</td>\n",
       "</tr>\n",
       "<tr>\n",
       "  <th>Industry_Gambling</th>                                 <td>  -26.4781</td> <td>    7.840</td> <td>   -3.377</td> <td> 0.001</td> <td>  -41.875</td> <td>  -11.081</td>\n",
       "</tr>\n",
       "<tr>\n",
       "  <th>Industry_Gas Stations</th>                             <td>  -14.1323</td> <td>   18.743</td> <td>   -0.754</td> <td> 0.451</td> <td>  -50.942</td> <td>   22.677</td>\n",
       "</tr>\n",
       "<tr>\n",
       "  <th>Industry_Health Care Products Manufacturing</th>       <td>   -3.5394</td> <td>   27.018</td> <td>   -0.131</td> <td> 0.896</td> <td>  -56.600</td> <td>   49.521</td>\n",
       "</tr>\n",
       "<tr>\n",
       "  <th>Industry_Health Care Services & Hospitals</th>         <td>    4.9063</td> <td>    3.476</td> <td>    1.412</td> <td> 0.159</td> <td>   -1.920</td> <td>   11.733</td>\n",
       "</tr>\n",
       "<tr>\n",
       "  <th>Industry_Health, Beauty, & Fitness</th>                <td>  -15.6875</td> <td>   21.442</td> <td>   -0.732</td> <td> 0.465</td> <td>  -57.796</td> <td>   26.421</td>\n",
       "</tr>\n",
       "<tr>\n",
       "  <th>Industry_IT Services</th>                              <td>   -1.9987</td> <td>    4.371</td> <td>   -0.457</td> <td> 0.648</td> <td>  -10.583</td> <td>    6.585</td>\n",
       "</tr>\n",
       "<tr>\n",
       "  <th>Industry_Industrial Manufacturing</th>                 <td>  -22.5161</td> <td>   17.386</td> <td>   -1.295</td> <td> 0.196</td> <td>  -56.660</td> <td>   11.628</td>\n",
       "</tr>\n",
       "<tr>\n",
       "  <th>Industry_Insurance Agencies & Brokerages</th>          <td>    2.7655</td> <td>    8.532</td> <td>    0.324</td> <td> 0.746</td> <td>  -13.991</td> <td>   19.522</td>\n",
       "</tr>\n",
       "<tr>\n",
       "  <th>Industry_Insurance Carriers</th>                       <td>    8.8750</td> <td>    5.428</td> <td>    1.635</td> <td> 0.103</td> <td>   -1.786</td> <td>   19.536</td>\n",
       "</tr>\n",
       "<tr>\n",
       "  <th>Industry_Internet</th>                                 <td>    5.9805</td> <td>    5.342</td> <td>    1.120</td> <td> 0.263</td> <td>   -4.510</td> <td>   16.471</td>\n",
       "</tr>\n",
       "<tr>\n",
       "  <th>Industry_Investment Banking & Asset Management</th>    <td>   27.8092</td> <td>   14.769</td> <td>    1.883</td> <td> 0.060</td> <td>   -1.195</td> <td>   56.813</td>\n",
       "</tr>\n",
       "<tr>\n",
       "  <th>Industry_K-12 Education</th>                           <td>   26.2215</td> <td>   17.919</td> <td>    1.463</td> <td> 0.144</td> <td>   -8.970</td> <td>   61.413</td>\n",
       "</tr>\n",
       "<tr>\n",
       "  <th>Industry_Lending</th>                                  <td>  -17.4612</td> <td>   11.920</td> <td>   -1.465</td> <td> 0.143</td> <td>  -40.870</td> <td>    5.947</td>\n",
       "</tr>\n",
       "<tr>\n",
       "  <th>Industry_Logistics & Supply Chain</th>                 <td>    0.6835</td> <td>   16.181</td> <td>    0.042</td> <td> 0.966</td> <td>  -31.094</td> <td>   32.461</td>\n",
       "</tr>\n",
       "<tr>\n",
       "  <th>Industry_Metals Brokers</th>                           <td>    4.8258</td> <td>   19.147</td> <td>    0.252</td> <td> 0.801</td> <td>  -32.777</td> <td>   42.429</td>\n",
       "</tr>\n",
       "<tr>\n",
       "  <th>Industry_Mining</th>                                   <td>   -8.8250</td> <td>   22.042</td> <td>   -0.400</td> <td> 0.689</td> <td>  -52.113</td> <td>   34.463</td>\n",
       "</tr>\n",
       "<tr>\n",
       "  <th>Industry_Motion Picture Production & Distribution</th> <td>   43.8264</td> <td>   24.029</td> <td>    1.824</td> <td> 0.069</td> <td>   -3.363</td> <td>   91.016</td>\n",
       "</tr>\n",
       "<tr>\n",
       "  <th>Industry_Other Retail Stores</th>                      <td>   40.2822</td> <td>   26.732</td> <td>    1.507</td> <td> 0.132</td> <td>  -12.216</td> <td>   92.781</td>\n",
       "</tr>\n",
       "<tr>\n",
       "  <th>Industry_Real Estate</th>                              <td>    1.3370</td> <td>    6.039</td> <td>    0.221</td> <td> 0.825</td> <td>  -10.524</td> <td>   13.198</td>\n",
       "</tr>\n",
       "<tr>\n",
       "  <th>Industry_Religious Organizations</th>                  <td>   12.8502</td> <td>   16.774</td> <td>    0.766</td> <td> 0.444</td> <td>  -20.092</td> <td>   45.793</td>\n",
       "</tr>\n",
       "<tr>\n",
       "  <th>Industry_Research & Development</th>                   <td>   -2.4538</td> <td>    7.993</td> <td>   -0.307</td> <td> 0.759</td> <td>  -18.151</td> <td>   13.243</td>\n",
       "</tr>\n",
       "<tr>\n",
       "  <th>Industry_Security Services</th>                        <td>   20.3539</td> <td>   11.972</td> <td>    1.700</td> <td> 0.090</td> <td>   -3.158</td> <td>   43.865</td>\n",
       "</tr>\n",
       "<tr>\n",
       "  <th>Industry_Social Assistance</th>                        <td>  -13.6842</td> <td>   14.384</td> <td>   -0.951</td> <td> 0.342</td> <td>  -41.933</td> <td>   14.565</td>\n",
       "</tr>\n",
       "<tr>\n",
       "  <th>Industry_Sporting Goods Stores</th>                    <td>  -29.9815</td> <td>   21.736</td> <td>   -1.379</td> <td> 0.168</td> <td>  -72.667</td> <td>   12.704</td>\n",
       "</tr>\n",
       "<tr>\n",
       "  <th>Industry_Staffing & Outsourcing</th>                   <td>  -20.5801</td> <td>   12.990</td> <td>   -1.584</td> <td> 0.114</td> <td>  -46.090</td> <td>    4.930</td>\n",
       "</tr>\n",
       "<tr>\n",
       "  <th>Industry_Stock Exchanges</th>                          <td>   -2.7402</td> <td>    8.962</td> <td>   -0.306</td> <td> 0.760</td> <td>  -20.340</td> <td>   14.860</td>\n",
       "</tr>\n",
       "<tr>\n",
       "  <th>Industry_TV Broadcast & Cable Networks</th>            <td>   11.6522</td> <td>   18.815</td> <td>    0.619</td> <td> 0.536</td> <td>  -25.299</td> <td>   48.603</td>\n",
       "</tr>\n",
       "<tr>\n",
       "  <th>Industry_Telecommunications Manufacturing</th>         <td>  -15.8161</td> <td>   16.707</td> <td>   -0.947</td> <td> 0.344</td> <td>  -48.626</td> <td>   16.994</td>\n",
       "</tr>\n",
       "<tr>\n",
       "  <th>Industry_Telecommunications Services</th>              <td>   18.9597</td> <td>   13.719</td> <td>    1.382</td> <td> 0.167</td> <td>   -7.984</td> <td>   45.903</td>\n",
       "</tr>\n",
       "<tr>\n",
       "  <th>Industry_Transportation Equipment Manufacturing</th>   <td>   21.9699</td> <td>   29.112</td> <td>    0.755</td> <td> 0.451</td> <td>  -35.203</td> <td>   79.142</td>\n",
       "</tr>\n",
       "<tr>\n",
       "  <th>Industry_Transportation Management</th>                <td>   10.1817</td> <td>   16.857</td> <td>    0.604</td> <td> 0.546</td> <td>  -22.923</td> <td>   43.286</td>\n",
       "</tr>\n",
       "<tr>\n",
       "  <th>Industry_Travel Agencies</th>                          <td>   -8.2649</td> <td>    6.414</td> <td>   -1.289</td> <td> 0.198</td> <td>  -20.861</td> <td>    4.331</td>\n",
       "</tr>\n",
       "<tr>\n",
       "  <th>Industry_Trucking</th>                                 <td>  -10.8059</td> <td>   24.186</td> <td>   -0.447</td> <td> 0.655</td> <td>  -58.304</td> <td>   36.692</td>\n",
       "</tr>\n",
       "<tr>\n",
       "  <th>Industry_Video Games</th>                              <td>  -43.1873</td> <td>   17.480</td> <td>   -2.471</td> <td> 0.014</td> <td>  -77.515</td> <td>   -8.860</td>\n",
       "</tr>\n",
       "<tr>\n",
       "  <th>Industry_Wholesale</th>                                <td>    6.9992</td> <td>   15.823</td> <td>    0.442</td> <td> 0.658</td> <td>  -24.076</td> <td>   38.074</td>\n",
       "</tr>\n",
       "<tr>\n",
       "  <th>Sector_-1</th>                                         <td>   11.7983</td> <td>    9.661</td> <td>    1.221</td> <td> 0.222</td> <td>   -7.175</td> <td>   30.771</td>\n",
       "</tr>\n",
       "<tr>\n",
       "  <th>Sector_Accounting & Legal</th>                         <td>    1.5752</td> <td>   16.622</td> <td>    0.095</td> <td> 0.925</td> <td>  -31.068</td> <td>   34.218</td>\n",
       "</tr>\n",
       "<tr>\n",
       "  <th>Sector_Aerospace & Defense</th>                        <td>    3.5765</td> <td>    3.758</td> <td>    0.952</td> <td> 0.342</td> <td>   -3.805</td> <td>   10.958</td>\n",
       "</tr>\n",
       "<tr>\n",
       "  <th>Sector_Agriculture & Forestry</th>                     <td>    8.3658</td> <td>   15.489</td> <td>    0.540</td> <td> 0.589</td> <td>  -22.053</td> <td>   38.784</td>\n",
       "</tr>\n",
       "<tr>\n",
       "  <th>Sector_Arts, Entertainment & Recreation</th>           <td>  -26.4781</td> <td>    7.840</td> <td>   -3.377</td> <td> 0.001</td> <td>  -41.875</td> <td>  -11.081</td>\n",
       "</tr>\n",
       "<tr>\n",
       "  <th>Sector_Biotech & Pharmaceuticals</th>                  <td>    9.2883</td> <td>    2.336</td> <td>    3.976</td> <td> 0.000</td> <td>    4.700</td> <td>   13.877</td>\n",
       "</tr>\n",
       "<tr>\n",
       "  <th>Sector_Business Services</th>                          <td>   -5.2603</td> <td>    5.097</td> <td>   -1.032</td> <td> 0.302</td> <td>  -15.271</td> <td>    4.750</td>\n",
       "</tr>\n",
       "<tr>\n",
       "  <th>Sector_Construction, Repair & Maintenance</th>         <td>  -15.2413</td> <td>   12.966</td> <td>   -1.175</td> <td> 0.240</td> <td>  -40.705</td> <td>   10.222</td>\n",
       "</tr>\n",
       "<tr>\n",
       "  <th>Sector_Consumer Services</th>                          <td>   -5.4943</td> <td>   11.626</td> <td>   -0.473</td> <td> 0.637</td> <td>  -28.326</td> <td>   17.337</td>\n",
       "</tr>\n",
       "<tr>\n",
       "  <th>Sector_Education</th>                                  <td>   -1.6649</td> <td>    8.281</td> <td>   -0.201</td> <td> 0.841</td> <td>  -17.928</td> <td>   14.598</td>\n",
       "</tr>\n",
       "<tr>\n",
       "  <th>Sector_Finance</th>                                    <td>   17.4303</td> <td>    5.498</td> <td>    3.170</td> <td> 0.002</td> <td>    6.633</td> <td>   28.228</td>\n",
       "</tr>\n",
       "<tr>\n",
       "  <th>Sector_Government</th>                                 <td>   11.0518</td> <td>    6.322</td> <td>    1.748</td> <td> 0.081</td> <td>   -1.365</td> <td>   23.468</td>\n",
       "</tr>\n",
       "<tr>\n",
       "  <th>Sector_Health Care</th>                                <td>    4.9063</td> <td>    3.476</td> <td>    1.412</td> <td> 0.159</td> <td>   -1.920</td> <td>   11.733</td>\n",
       "</tr>\n",
       "<tr>\n",
       "  <th>Sector_Information Technology</th>                     <td>    9.2753</td> <td>    3.341</td> <td>    2.776</td> <td> 0.006</td> <td>    2.714</td> <td>   15.837</td>\n",
       "</tr>\n",
       "<tr>\n",
       "  <th>Sector_Insurance</th>                                  <td>   11.6404</td> <td>    4.773</td> <td>    2.439</td> <td> 0.015</td> <td>    2.267</td> <td>   21.014</td>\n",
       "</tr>\n",
       "<tr>\n",
       "  <th>Sector_Manufacturing</th>                              <td>   -4.0443</td> <td>    8.551</td> <td>   -0.473</td> <td> 0.636</td> <td>  -20.838</td> <td>   12.749</td>\n",
       "</tr>\n",
       "<tr>\n",
       "  <th>Sector_Media</th>                                      <td>   12.2913</td> <td>   10.588</td> <td>    1.161</td> <td> 0.246</td> <td>   -8.502</td> <td>   33.085</td>\n",
       "</tr>\n",
       "<tr>\n",
       "  <th>Sector_Mining & Metals</th>                            <td>   -3.9992</td> <td>   13.115</td> <td>   -0.305</td> <td> 0.761</td> <td>  -29.756</td> <td>   21.758</td>\n",
       "</tr>\n",
       "<tr>\n",
       "  <th>Sector_Non-Profit</th>                                 <td>   -0.8340</td> <td>   10.809</td> <td>   -0.077</td> <td> 0.939</td> <td>  -22.061</td> <td>   20.393</td>\n",
       "</tr>\n",
       "<tr>\n",
       "  <th>Sector_Oil, Gas, Energy & Utilities</th>               <td>   -4.7436</td> <td>    9.314</td> <td>   -0.509</td> <td> 0.611</td> <td>  -23.034</td> <td>   13.547</td>\n",
       "</tr>\n",
       "<tr>\n",
       "  <th>Sector_Real Estate</th>                                <td>    1.3370</td> <td>    6.039</td> <td>    0.221</td> <td> 0.825</td> <td>  -10.524</td> <td>   13.198</td>\n",
       "</tr>\n",
       "<tr>\n",
       "  <th>Sector_Retail</th>                                     <td>    7.1648</td> <td>    8.826</td> <td>    0.812</td> <td> 0.417</td> <td>  -10.168</td> <td>   24.498</td>\n",
       "</tr>\n",
       "<tr>\n",
       "  <th>Sector_Telecommunications</th>                         <td>    3.1436</td> <td>    9.499</td> <td>    0.331</td> <td> 0.741</td> <td>  -15.511</td> <td>   21.798</td>\n",
       "</tr>\n",
       "<tr>\n",
       "  <th>Sector_Transportation & Logistics</th>                 <td>    0.0593</td> <td>    9.876</td> <td>    0.006</td> <td> 0.995</td> <td>  -19.335</td> <td>   19.454</td>\n",
       "</tr>\n",
       "<tr>\n",
       "  <th>Sector_Travel & Tourism</th>                           <td>   -8.2649</td> <td>    6.414</td> <td>   -1.289</td> <td> 0.198</td> <td>  -20.861</td> <td>    4.331</td>\n",
       "</tr>\n",
       "<tr>\n",
       "  <th>Revenue_$1 to $2 billion (USD)</th>                    <td>    2.5417</td> <td>    5.852</td> <td>    0.434</td> <td> 0.664</td> <td>   -8.952</td> <td>   14.035</td>\n",
       "</tr>\n",
       "<tr>\n",
       "  <th>Revenue_$1 to $5 million (USD)</th>                    <td>    8.1766</td> <td>   13.348</td> <td>    0.613</td> <td> 0.540</td> <td>  -18.037</td> <td>   34.390</td>\n",
       "</tr>\n",
       "<tr>\n",
       "  <th>Revenue_$10 to $25 million (USD)</th>                  <td>   -1.0083</td> <td>    6.381</td> <td>   -0.158</td> <td> 0.875</td> <td>  -13.540</td> <td>   11.524</td>\n",
       "</tr>\n",
       "<tr>\n",
       "  <th>Revenue_$10+ billion (USD)</th>                        <td>   10.6928</td> <td>    7.620</td> <td>    1.403</td> <td> 0.161</td> <td>   -4.272</td> <td>   25.658</td>\n",
       "</tr>\n",
       "<tr>\n",
       "  <th>Revenue_$100 to $500 million (USD)</th>                <td>   -3.7168</td> <td>    4.972</td> <td>   -0.747</td> <td> 0.455</td> <td>  -13.482</td> <td>    6.048</td>\n",
       "</tr>\n",
       "<tr>\n",
       "  <th>Revenue_$2 to $5 billion (USD)</th>                    <td>  -10.6722</td> <td>    7.477</td> <td>   -1.427</td> <td> 0.154</td> <td>  -25.356</td> <td>    4.011</td>\n",
       "</tr>\n",
       "<tr>\n",
       "  <th>Revenue_$25 to $50 million (USD)</th>                  <td>   -2.7098</td> <td>    6.476</td> <td>   -0.418</td> <td> 0.676</td> <td>  -15.428</td> <td>   10.008</td>\n",
       "</tr>\n",
       "<tr>\n",
       "  <th>Revenue_$5 to $10 billion (USD)</th>                   <td>  -12.1534</td> <td>    9.315</td> <td>   -1.305</td> <td> 0.192</td> <td>  -30.446</td> <td>    6.140</td>\n",
       "</tr>\n",
       "<tr>\n",
       "  <th>Revenue_$5 to $10 million (USD)</th>                   <td>   44.9587</td> <td>    9.959</td> <td>    4.515</td> <td> 0.000</td> <td>   25.401</td> <td>   64.516</td>\n",
       "</tr>\n",
       "<tr>\n",
       "  <th>Revenue_$50 to $100 million (USD)</th>                 <td>    4.2446</td> <td>    5.997</td> <td>    0.708</td> <td> 0.479</td> <td>   -7.533</td> <td>   16.022</td>\n",
       "</tr>\n",
       "<tr>\n",
       "  <th>Revenue_$500 million to $1 billion (USD)</th>          <td>   -9.8957</td> <td>    6.473</td> <td>   -1.529</td> <td> 0.127</td> <td>  -22.607</td> <td>    2.816</td>\n",
       "</tr>\n",
       "<tr>\n",
       "  <th>Revenue_-1</th>                                        <td>    5.4339</td> <td>   10.661</td> <td>    0.510</td> <td> 0.610</td> <td>  -15.503</td> <td>   26.371</td>\n",
       "</tr>\n",
       "<tr>\n",
       "  <th>Revenue_Less than $1 million (USD)</th>                <td>   -4.1727</td> <td>   18.717</td> <td>   -0.223</td> <td> 0.824</td> <td>  -40.930</td> <td>   32.585</td>\n",
       "</tr>\n",
       "<tr>\n",
       "  <th>Revenue_Unknown / Non-Applicable</th>                  <td>    5.1599</td> <td>    3.717</td> <td>    1.388</td> <td> 0.166</td> <td>   -2.139</td> <td>   12.459</td>\n",
       "</tr>\n",
       "<tr>\n",
       "  <th>job_state_ AL</th>                                     <td>  -34.3121</td> <td>   12.637</td> <td>   -2.715</td> <td> 0.007</td> <td>  -59.129</td> <td>   -9.495</td>\n",
       "</tr>\n",
       "<tr>\n",
       "  <th>job_state_ AZ</th>                                     <td>   -7.1492</td> <td>   10.560</td> <td>   -0.677</td> <td> 0.499</td> <td>  -27.888</td> <td>   13.590</td>\n",
       "</tr>\n",
       "<tr>\n",
       "  <th>job_state_ CA</th>                                     <td>   28.9093</td> <td>    3.900</td> <td>    7.412</td> <td> 0.000</td> <td>   21.249</td> <td>   36.569</td>\n",
       "</tr>\n",
       "<tr>\n",
       "  <th>job_state_ CO</th>                                     <td>   13.7390</td> <td>   10.166</td> <td>    1.351</td> <td> 0.177</td> <td>   -6.226</td> <td>   33.704</td>\n",
       "</tr>\n",
       "<tr>\n",
       "  <th>job_state_ CT</th>                                     <td>  -32.8235</td> <td>   13.871</td> <td>   -2.366</td> <td> 0.018</td> <td>  -60.065</td> <td>   -5.582</td>\n",
       "</tr>\n",
       "<tr>\n",
       "  <th>job_state_ DC</th>                                     <td>    7.8480</td> <td>    9.749</td> <td>    0.805</td> <td> 0.421</td> <td>  -11.299</td> <td>   26.995</td>\n",
       "</tr>\n",
       "<tr>\n",
       "  <th>job_state_ DE</th>                                     <td>   22.0234</td> <td>   16.898</td> <td>    1.303</td> <td> 0.193</td> <td>  -11.163</td> <td>   55.210</td>\n",
       "</tr>\n",
       "<tr>\n",
       "  <th>job_state_ FL</th>                                     <td>  -21.8568</td> <td>    9.384</td> <td>   -2.329</td> <td> 0.020</td> <td>  -40.286</td> <td>   -3.428</td>\n",
       "</tr>\n",
       "<tr>\n",
       "  <th>job_state_ GA</th>                                     <td>  -19.1178</td> <td>   12.441</td> <td>   -1.537</td> <td> 0.125</td> <td>  -43.551</td> <td>    5.315</td>\n",
       "</tr>\n",
       "<tr>\n",
       "  <th>job_state_ IA</th>                                     <td>    0.4664</td> <td>   15.059</td> <td>    0.031</td> <td> 0.975</td> <td>  -29.107</td> <td>   30.040</td>\n",
       "</tr>\n",
       "<tr>\n",
       "  <th>job_state_ ID</th>                                     <td>  -48.3598</td> <td>   22.325</td> <td>   -2.166</td> <td> 0.031</td> <td>  -92.203</td> <td>   -4.517</td>\n",
       "</tr>\n",
       "<tr>\n",
       "  <th>job_state_ IL</th>                                     <td>   20.0687</td> <td>    5.960</td> <td>    3.367</td> <td> 0.001</td> <td>    8.365</td> <td>   31.773</td>\n",
       "</tr>\n",
       "<tr>\n",
       "  <th>job_state_ IN</th>                                     <td>  -17.3105</td> <td>   10.681</td> <td>   -1.621</td> <td> 0.106</td> <td>  -38.287</td> <td>    3.666</td>\n",
       "</tr>\n",
       "<tr>\n",
       "  <th>job_state_ KS</th>                                     <td>   -2.7402</td> <td>    8.962</td> <td>   -0.306</td> <td> 0.760</td> <td>  -20.340</td> <td>   14.860</td>\n",
       "</tr>\n",
       "<tr>\n",
       "  <th>job_state_ KY</th>                                     <td>   18.2094</td> <td>   15.233</td> <td>    1.195</td> <td> 0.232</td> <td>  -11.707</td> <td>   48.126</td>\n",
       "</tr>\n",
       "<tr>\n",
       "  <th>job_state_ LA</th>                                     <td>  -17.1256</td> <td>   15.960</td> <td>   -1.073</td> <td> 0.284</td> <td>  -48.470</td> <td>   14.218</td>\n",
       "</tr>\n",
       "<tr>\n",
       "  <th>job_state_ Los Angeles</th>                            <td>   62.5559</td> <td>   33.685</td> <td>    1.857</td> <td> 0.064</td> <td>   -3.597</td> <td>  128.709</td>\n",
       "</tr>\n",
       "<tr>\n",
       "  <th>job_state_ MA</th>                                     <td>    0.8487</td> <td>    4.783</td> <td>    0.177</td> <td> 0.859</td> <td>   -8.545</td> <td>   10.242</td>\n",
       "</tr>\n",
       "<tr>\n",
       "  <th>job_state_ MD</th>                                     <td>    6.2853</td> <td>    6.030</td> <td>    1.042</td> <td> 0.298</td> <td>   -5.556</td> <td>   18.127</td>\n",
       "</tr>\n",
       "<tr>\n",
       "  <th>job_state_ MI</th>                                     <td>   -0.7838</td> <td>   14.788</td> <td>   -0.053</td> <td> 0.958</td> <td>  -29.825</td> <td>   28.258</td>\n",
       "</tr>\n",
       "<tr>\n",
       "  <th>job_state_ MN</th>                                     <td>   -9.0772</td> <td>   21.095</td> <td>   -0.430</td> <td> 0.667</td> <td>  -50.505</td> <td>   32.350</td>\n",
       "</tr>\n",
       "<tr>\n",
       "  <th>job_state_ MO</th>                                     <td>    5.6848</td> <td>   11.974</td> <td>    0.475</td> <td> 0.635</td> <td>  -17.831</td> <td>   29.200</td>\n",
       "</tr>\n",
       "<tr>\n",
       "  <th>job_state_ NC</th>                                     <td>    9.8414</td> <td>    8.176</td> <td>    1.204</td> <td> 0.229</td> <td>   -6.216</td> <td>   25.898</td>\n",
       "</tr>\n",
       "<tr>\n",
       "  <th>job_state_ NE</th>                                     <td>    2.0850</td> <td>   16.334</td> <td>    0.128</td> <td> 0.898</td> <td>  -29.992</td> <td>   34.162</td>\n",
       "</tr>\n",
       "<tr>\n",
       "  <th>job_state_ NJ</th>                                     <td>    3.2303</td> <td>    8.309</td> <td>    0.389</td> <td> 0.698</td> <td>  -13.087</td> <td>   19.548</td>\n",
       "</tr>\n",
       "<tr>\n",
       "  <th>job_state_ NM</th>                                     <td>  -28.2555</td> <td>   17.767</td> <td>   -1.590</td> <td> 0.112</td> <td>  -63.148</td> <td>    6.637</td>\n",
       "</tr>\n",
       "<tr>\n",
       "  <th>job_state_ NY</th>                                     <td>    4.8101</td> <td>    4.949</td> <td>    0.972</td> <td> 0.331</td> <td>   -4.909</td> <td>   14.530</td>\n",
       "</tr>\n",
       "<tr>\n",
       "  <th>job_state_ OH</th>                                     <td>   -4.2375</td> <td>   10.061</td> <td>   -0.421</td> <td> 0.674</td> <td>  -23.996</td> <td>   15.521</td>\n",
       "</tr>\n",
       "<tr>\n",
       "  <th>job_state_ OR</th>                                     <td>    0.0999</td> <td>   15.574</td> <td>    0.006</td> <td> 0.995</td> <td>  -30.485</td> <td>   30.685</td>\n",
       "</tr>\n",
       "<tr>\n",
       "  <th>job_state_ PA</th>                                     <td>   12.9103</td> <td>    8.641</td> <td>    1.494</td> <td> 0.136</td> <td>   -4.059</td> <td>   29.880</td>\n",
       "</tr>\n",
       "<tr>\n",
       "  <th>job_state_ RI</th>                                     <td>   19.7568</td> <td>   30.105</td> <td>    0.656</td> <td> 0.512</td> <td>  -39.365</td> <td>   78.879</td>\n",
       "</tr>\n",
       "<tr>\n",
       "  <th>job_state_ SC</th>                                     <td>   36.9324</td> <td>   35.957</td> <td>    1.027</td> <td> 0.305</td> <td>  -33.682</td> <td>  107.546</td>\n",
       "</tr>\n",
       "<tr>\n",
       "  <th>job_state_ TN</th>                                     <td>   -0.5848</td> <td>   11.338</td> <td>   -0.052</td> <td> 0.959</td> <td>  -22.851</td> <td>   21.682</td>\n",
       "</tr>\n",
       "<tr>\n",
       "  <th>job_state_ TX</th>                                     <td>    5.1713</td> <td>    6.829</td> <td>    0.757</td> <td> 0.449</td> <td>   -8.240</td> <td>   18.582</td>\n",
       "</tr>\n",
       "<tr>\n",
       "  <th>job_state_ UT</th>                                     <td>   -2.6481</td> <td>   18.028</td> <td>   -0.147</td> <td> 0.883</td> <td>  -38.052</td> <td>   32.756</td>\n",
       "</tr>\n",
       "<tr>\n",
       "  <th>job_state_ VA</th>                                     <td>    2.7978</td> <td>    6.198</td> <td>    0.451</td> <td> 0.652</td> <td>   -9.375</td> <td>   14.970</td>\n",
       "</tr>\n",
       "<tr>\n",
       "  <th>job_state_ WA</th>                                     <td>   10.2040</td> <td>   10.009</td> <td>    1.019</td> <td> 0.308</td> <td>   -9.453</td> <td>   29.861</td>\n",
       "</tr>\n",
       "<tr>\n",
       "  <th>job_state_ WI</th>                                     <td>  -11.2162</td> <td>   12.431</td> <td>   -0.902</td> <td> 0.367</td> <td>  -35.628</td> <td>   13.196</td>\n",
       "</tr>\n",
       "</table>\n",
       "<table class=\"simpletable\">\n",
       "<tr>\n",
       "  <th>Omnibus:</th>       <td>50.702</td> <th>  Durbin-Watson:     </th> <td>   2.091</td>\n",
       "</tr>\n",
       "<tr>\n",
       "  <th>Prob(Omnibus):</th> <td> 0.000</td> <th>  Jarque-Bera (JB):  </th> <td>  93.772</td>\n",
       "</tr>\n",
       "<tr>\n",
       "  <th>Skew:</th>          <td> 0.457</td> <th>  Prob(JB):          </th> <td>4.34e-21</td>\n",
       "</tr>\n",
       "<tr>\n",
       "  <th>Kurtosis:</th>      <td> 4.482</td> <th>  Cond. No.          </th> <td>8.14e+17</td>\n",
       "</tr>\n",
       "</table><br/><br/>Notes:<br/>[1] Standard Errors assume that the covariance matrix of the errors is correctly specified.<br/>[2] The smallest eigenvalue is 5.67e-30. This might indicate that there are<br/>strong multicollinearity problems or that the design matrix is singular."
      ],
      "text/plain": [
       "<class 'statsmodels.iolib.summary.Summary'>\n",
       "\"\"\"\n",
       "                            OLS Regression Results                            \n",
       "==============================================================================\n",
       "Dep. Variable:                      y   R-squared:                       0.547\n",
       "Model:                            OLS   Adj. R-squared:                  0.448\n",
       "Method:                 Least Squares   F-statistic:                     5.530\n",
       "Date:                Fri, 29 Apr 2022   Prob (F-statistic):           9.59e-49\n",
       "Time:                        14:37:41   Log-Likelihood:                -3473.8\n",
       "No. Observations:                 742   AIC:                             7216.\n",
       "Df Residuals:                     608   BIC:                             7833.\n",
       "Df Model:                         133                                         \n",
       "Covariance Type:            nonrobust                                         \n",
       "=====================================================================================================================\n",
       "                                                        coef    std err          t      P>|t|      [0.025      0.975]\n",
       "---------------------------------------------------------------------------------------------------------------------\n",
       "const                                                36.8794      8.783      4.199      0.000      19.631      54.128\n",
       "Rating                                                7.7875      2.333      3.338      0.001       3.206      12.369\n",
       "hourly                                              -63.2583     10.975     -5.764      0.000     -84.813     -41.704\n",
       "employer_provided                                    54.7794     14.011      3.910      0.000      27.264      82.294\n",
       "same_state                                            0.9972      3.171      0.314      0.753      -5.231       7.226\n",
       "age                                                  -0.0023      0.036     -0.062      0.951      -0.074       0.069\n",
       "python_yn                                            17.1639      2.922      5.874      0.000      11.425      22.903\n",
       "spark                                                -2.6801      3.400     -0.788      0.431      -9.358       3.998\n",
       "aws                                                   7.0393      3.230      2.179      0.030       0.696      13.383\n",
       "excel                                                -7.1205      2.713     -2.624      0.009     -12.449      -1.792\n",
       "Size_-1                                               5.4339     10.661      0.510      0.610     -15.503      26.371\n",
       "Size_1 to 50 employees                               -1.4366      7.975     -0.180      0.857     -17.099      14.226\n",
       "Size_10000+ employees                                12.0627      6.901      1.748      0.081      -1.490      25.615\n",
       "Size_1001 to 5000 employees                          13.0154      4.605      2.826      0.005       3.971      22.060\n",
       "Size_201 to 500 employees                            -0.5307      4.722     -0.112      0.911      -9.804       8.743\n",
       "Size_5001 to 10000 employees                          2.8336      6.551      0.433      0.666     -10.032      15.699\n",
       "Size_501 to 1000 employees                           -1.2113      4.863     -0.249      0.803     -10.762       8.340\n",
       "Size_51 to 200 employees                              0.9779      5.294      0.185      0.854      -9.419      11.375\n",
       "Size_Unknown                                          5.7346     17.205      0.333      0.739     -28.054      39.523\n",
       "Type of ownership_-1                                  5.4339     10.661      0.510      0.610     -15.503      26.371\n",
       "Type of ownership_College / University               22.7728     21.003      1.084      0.279     -18.474      64.020\n",
       "Type of ownership_Company - Private                   4.5340      6.331      0.716      0.474      -7.899      16.967\n",
       "Type of ownership_Company - Public                   10.5268      6.909      1.524      0.128      -3.041      24.095\n",
       "Type of ownership_Government                          4.9393     18.173      0.272      0.786     -30.751      40.630\n",
       "Type of ownership_Hospital                           -5.1605     11.920     -0.433      0.665     -28.569      18.248\n",
       "Type of ownership_Nonprofit Organization            -15.4312      8.158     -1.892      0.059     -31.452       0.589\n",
       "Type of ownership_Other Organization                -13.7139     17.373     -0.789      0.430     -47.833      20.405\n",
       "Type of ownership_School / School District          -42.9880     28.743     -1.496      0.135     -99.435      13.459\n",
       "Type of ownership_Subsidiary or Business Segment      9.7420      8.370      1.164      0.245      -6.695      26.179\n",
       "Type of ownership_Unknown                            56.2243     35.255      1.595      0.111     -13.012     125.460\n",
       "Industry_-1                                          11.7983      9.661      1.221      0.222      -7.175      30.771\n",
       "Industry_Accounting                                   1.5752     16.622      0.095      0.925     -31.068      34.218\n",
       "Industry_Advertising & Marketing                     19.1447      7.145      2.679      0.008       5.113      33.176\n",
       "Industry_Aerospace & Defense                          3.5765      3.758      0.952      0.342      -3.805      10.958\n",
       "Industry_Architectural & Engineering Services       -43.4042     19.381     -2.240      0.025     -81.465      -5.343\n",
       "Industry_Auctions & Galleries                        19.9271     28.108      0.709      0.479     -35.274      75.128\n",
       "Industry_Banks & Credit Unions                      -32.1446      9.812     -3.276      0.001     -51.414     -12.875\n",
       "Industry_Beauty & Personal Accessories Stores        -6.9046     26.397     -0.262      0.794     -58.746      44.937\n",
       "Industry_Biotech & Pharmaceuticals                    9.2883      2.336      3.976      0.000       4.700      13.877\n",
       "Industry_Brokerage Services                          17.7995     19.142      0.930      0.353     -19.793      55.392\n",
       "Industry_Colleges & Universities                      4.6518     15.744      0.295      0.768     -26.267      35.571\n",
       "Industry_Computer Hardware & Software                -2.5294      3.966     -0.638      0.524     -10.318       5.260\n",
       "Industry_Construction                               -15.2413     12.966     -1.175      0.240     -40.705      10.222\n",
       "Industry_Consulting                                  14.6800      7.135      2.057      0.040       0.667      28.693\n",
       "Industry_Consumer Product Rental                     10.1932     15.973      0.638      0.524     -21.175      41.562\n",
       "Industry_Consumer Products Manufacturing             10.7278     12.100      0.887      0.376     -13.036      34.491\n",
       "Industry_Department, Clothing, & Shoe Stores         -2.0261     14.168     -0.143      0.886     -29.850      25.798\n",
       "Industry_Education Training Services                -32.5382     15.248     -2.134      0.033     -62.484      -2.592\n",
       "Industry_Energy                                      -4.7436      9.314     -0.509      0.611     -23.034      13.547\n",
       "Industry_Enterprise Software & Network Solutions      7.8229      4.313      1.814      0.070      -0.646      16.292\n",
       "Industry_Farm Support Services                        8.3658     15.489      0.540      0.589     -22.053      38.784\n",
       "Industry_Federal Agencies                            11.0518      6.322      1.748      0.081      -1.365      23.468\n",
       "Industry_Financial Analytics & Research              14.8441     11.246      1.320      0.187      -7.242      36.930\n",
       "Industry_Financial Transaction Processing             9.3237     15.629      0.597      0.551     -21.370      40.018\n",
       "Industry_Food & Beverage Manufacturing              -10.6865     13.984     -0.764      0.445     -38.148      16.775\n",
       "Industry_Gambling                                   -26.4781      7.840     -3.377      0.001     -41.875     -11.081\n",
       "Industry_Gas Stations                               -14.1323     18.743     -0.754      0.451     -50.942      22.677\n",
       "Industry_Health Care Products Manufacturing          -3.5394     27.018     -0.131      0.896     -56.600      49.521\n",
       "Industry_Health Care Services & Hospitals             4.9063      3.476      1.412      0.159      -1.920      11.733\n",
       "Industry_Health, Beauty, & Fitness                  -15.6875     21.442     -0.732      0.465     -57.796      26.421\n",
       "Industry_IT Services                                 -1.9987      4.371     -0.457      0.648     -10.583       6.585\n",
       "Industry_Industrial Manufacturing                   -22.5161     17.386     -1.295      0.196     -56.660      11.628\n",
       "Industry_Insurance Agencies & Brokerages              2.7655      8.532      0.324      0.746     -13.991      19.522\n",
       "Industry_Insurance Carriers                           8.8750      5.428      1.635      0.103      -1.786      19.536\n",
       "Industry_Internet                                     5.9805      5.342      1.120      0.263      -4.510      16.471\n",
       "Industry_Investment Banking & Asset Management       27.8092     14.769      1.883      0.060      -1.195      56.813\n",
       "Industry_K-12 Education                              26.2215     17.919      1.463      0.144      -8.970      61.413\n",
       "Industry_Lending                                    -17.4612     11.920     -1.465      0.143     -40.870       5.947\n",
       "Industry_Logistics & Supply Chain                     0.6835     16.181      0.042      0.966     -31.094      32.461\n",
       "Industry_Metals Brokers                               4.8258     19.147      0.252      0.801     -32.777      42.429\n",
       "Industry_Mining                                      -8.8250     22.042     -0.400      0.689     -52.113      34.463\n",
       "Industry_Motion Picture Production & Distribution    43.8264     24.029      1.824      0.069      -3.363      91.016\n",
       "Industry_Other Retail Stores                         40.2822     26.732      1.507      0.132     -12.216      92.781\n",
       "Industry_Real Estate                                  1.3370      6.039      0.221      0.825     -10.524      13.198\n",
       "Industry_Religious Organizations                     12.8502     16.774      0.766      0.444     -20.092      45.793\n",
       "Industry_Research & Development                      -2.4538      7.993     -0.307      0.759     -18.151      13.243\n",
       "Industry_Security Services                           20.3539     11.972      1.700      0.090      -3.158      43.865\n",
       "Industry_Social Assistance                          -13.6842     14.384     -0.951      0.342     -41.933      14.565\n",
       "Industry_Sporting Goods Stores                      -29.9815     21.736     -1.379      0.168     -72.667      12.704\n",
       "Industry_Staffing & Outsourcing                     -20.5801     12.990     -1.584      0.114     -46.090       4.930\n",
       "Industry_Stock Exchanges                             -2.7402      8.962     -0.306      0.760     -20.340      14.860\n",
       "Industry_TV Broadcast & Cable Networks               11.6522     18.815      0.619      0.536     -25.299      48.603\n",
       "Industry_Telecommunications Manufacturing           -15.8161     16.707     -0.947      0.344     -48.626      16.994\n",
       "Industry_Telecommunications Services                 18.9597     13.719      1.382      0.167      -7.984      45.903\n",
       "Industry_Transportation Equipment Manufacturing      21.9699     29.112      0.755      0.451     -35.203      79.142\n",
       "Industry_Transportation Management                   10.1817     16.857      0.604      0.546     -22.923      43.286\n",
       "Industry_Travel Agencies                             -8.2649      6.414     -1.289      0.198     -20.861       4.331\n",
       "Industry_Trucking                                   -10.8059     24.186     -0.447      0.655     -58.304      36.692\n",
       "Industry_Video Games                                -43.1873     17.480     -2.471      0.014     -77.515      -8.860\n",
       "Industry_Wholesale                                    6.9992     15.823      0.442      0.658     -24.076      38.074\n",
       "Sector_-1                                            11.7983      9.661      1.221      0.222      -7.175      30.771\n",
       "Sector_Accounting & Legal                             1.5752     16.622      0.095      0.925     -31.068      34.218\n",
       "Sector_Aerospace & Defense                            3.5765      3.758      0.952      0.342      -3.805      10.958\n",
       "Sector_Agriculture & Forestry                         8.3658     15.489      0.540      0.589     -22.053      38.784\n",
       "Sector_Arts, Entertainment & Recreation             -26.4781      7.840     -3.377      0.001     -41.875     -11.081\n",
       "Sector_Biotech & Pharmaceuticals                      9.2883      2.336      3.976      0.000       4.700      13.877\n",
       "Sector_Business Services                             -5.2603      5.097     -1.032      0.302     -15.271       4.750\n",
       "Sector_Construction, Repair & Maintenance           -15.2413     12.966     -1.175      0.240     -40.705      10.222\n",
       "Sector_Consumer Services                             -5.4943     11.626     -0.473      0.637     -28.326      17.337\n",
       "Sector_Education                                     -1.6649      8.281     -0.201      0.841     -17.928      14.598\n",
       "Sector_Finance                                       17.4303      5.498      3.170      0.002       6.633      28.228\n",
       "Sector_Government                                    11.0518      6.322      1.748      0.081      -1.365      23.468\n",
       "Sector_Health Care                                    4.9063      3.476      1.412      0.159      -1.920      11.733\n",
       "Sector_Information Technology                         9.2753      3.341      2.776      0.006       2.714      15.837\n",
       "Sector_Insurance                                     11.6404      4.773      2.439      0.015       2.267      21.014\n",
       "Sector_Manufacturing                                 -4.0443      8.551     -0.473      0.636     -20.838      12.749\n",
       "Sector_Media                                         12.2913     10.588      1.161      0.246      -8.502      33.085\n",
       "Sector_Mining & Metals                               -3.9992     13.115     -0.305      0.761     -29.756      21.758\n",
       "Sector_Non-Profit                                    -0.8340     10.809     -0.077      0.939     -22.061      20.393\n",
       "Sector_Oil, Gas, Energy & Utilities                  -4.7436      9.314     -0.509      0.611     -23.034      13.547\n",
       "Sector_Real Estate                                    1.3370      6.039      0.221      0.825     -10.524      13.198\n",
       "Sector_Retail                                         7.1648      8.826      0.812      0.417     -10.168      24.498\n",
       "Sector_Telecommunications                             3.1436      9.499      0.331      0.741     -15.511      21.798\n",
       "Sector_Transportation & Logistics                     0.0593      9.876      0.006      0.995     -19.335      19.454\n",
       "Sector_Travel & Tourism                              -8.2649      6.414     -1.289      0.198     -20.861       4.331\n",
       "Revenue_$1 to $2 billion (USD)                        2.5417      5.852      0.434      0.664      -8.952      14.035\n",
       "Revenue_$1 to $5 million (USD)                        8.1766     13.348      0.613      0.540     -18.037      34.390\n",
       "Revenue_$10 to $25 million (USD)                     -1.0083      6.381     -0.158      0.875     -13.540      11.524\n",
       "Revenue_$10+ billion (USD)                           10.6928      7.620      1.403      0.161      -4.272      25.658\n",
       "Revenue_$100 to $500 million (USD)                   -3.7168      4.972     -0.747      0.455     -13.482       6.048\n",
       "Revenue_$2 to $5 billion (USD)                      -10.6722      7.477     -1.427      0.154     -25.356       4.011\n",
       "Revenue_$25 to $50 million (USD)                     -2.7098      6.476     -0.418      0.676     -15.428      10.008\n",
       "Revenue_$5 to $10 billion (USD)                     -12.1534      9.315     -1.305      0.192     -30.446       6.140\n",
       "Revenue_$5 to $10 million (USD)                      44.9587      9.959      4.515      0.000      25.401      64.516\n",
       "Revenue_$50 to $100 million (USD)                     4.2446      5.997      0.708      0.479      -7.533      16.022\n",
       "Revenue_$500 million to $1 billion (USD)             -9.8957      6.473     -1.529      0.127     -22.607       2.816\n",
       "Revenue_-1                                            5.4339     10.661      0.510      0.610     -15.503      26.371\n",
       "Revenue_Less than $1 million (USD)                   -4.1727     18.717     -0.223      0.824     -40.930      32.585\n",
       "Revenue_Unknown / Non-Applicable                      5.1599      3.717      1.388      0.166      -2.139      12.459\n",
       "job_state_ AL                                       -34.3121     12.637     -2.715      0.007     -59.129      -9.495\n",
       "job_state_ AZ                                        -7.1492     10.560     -0.677      0.499     -27.888      13.590\n",
       "job_state_ CA                                        28.9093      3.900      7.412      0.000      21.249      36.569\n",
       "job_state_ CO                                        13.7390     10.166      1.351      0.177      -6.226      33.704\n",
       "job_state_ CT                                       -32.8235     13.871     -2.366      0.018     -60.065      -5.582\n",
       "job_state_ DC                                         7.8480      9.749      0.805      0.421     -11.299      26.995\n",
       "job_state_ DE                                        22.0234     16.898      1.303      0.193     -11.163      55.210\n",
       "job_state_ FL                                       -21.8568      9.384     -2.329      0.020     -40.286      -3.428\n",
       "job_state_ GA                                       -19.1178     12.441     -1.537      0.125     -43.551       5.315\n",
       "job_state_ IA                                         0.4664     15.059      0.031      0.975     -29.107      30.040\n",
       "job_state_ ID                                       -48.3598     22.325     -2.166      0.031     -92.203      -4.517\n",
       "job_state_ IL                                        20.0687      5.960      3.367      0.001       8.365      31.773\n",
       "job_state_ IN                                       -17.3105     10.681     -1.621      0.106     -38.287       3.666\n",
       "job_state_ KS                                        -2.7402      8.962     -0.306      0.760     -20.340      14.860\n",
       "job_state_ KY                                        18.2094     15.233      1.195      0.232     -11.707      48.126\n",
       "job_state_ LA                                       -17.1256     15.960     -1.073      0.284     -48.470      14.218\n",
       "job_state_ Los Angeles                               62.5559     33.685      1.857      0.064      -3.597     128.709\n",
       "job_state_ MA                                         0.8487      4.783      0.177      0.859      -8.545      10.242\n",
       "job_state_ MD                                         6.2853      6.030      1.042      0.298      -5.556      18.127\n",
       "job_state_ MI                                        -0.7838     14.788     -0.053      0.958     -29.825      28.258\n",
       "job_state_ MN                                        -9.0772     21.095     -0.430      0.667     -50.505      32.350\n",
       "job_state_ MO                                         5.6848     11.974      0.475      0.635     -17.831      29.200\n",
       "job_state_ NC                                         9.8414      8.176      1.204      0.229      -6.216      25.898\n",
       "job_state_ NE                                         2.0850     16.334      0.128      0.898     -29.992      34.162\n",
       "job_state_ NJ                                         3.2303      8.309      0.389      0.698     -13.087      19.548\n",
       "job_state_ NM                                       -28.2555     17.767     -1.590      0.112     -63.148       6.637\n",
       "job_state_ NY                                         4.8101      4.949      0.972      0.331      -4.909      14.530\n",
       "job_state_ OH                                        -4.2375     10.061     -0.421      0.674     -23.996      15.521\n",
       "job_state_ OR                                         0.0999     15.574      0.006      0.995     -30.485      30.685\n",
       "job_state_ PA                                        12.9103      8.641      1.494      0.136      -4.059      29.880\n",
       "job_state_ RI                                        19.7568     30.105      0.656      0.512     -39.365      78.879\n",
       "job_state_ SC                                        36.9324     35.957      1.027      0.305     -33.682     107.546\n",
       "job_state_ TN                                        -0.5848     11.338     -0.052      0.959     -22.851      21.682\n",
       "job_state_ TX                                         5.1713      6.829      0.757      0.449      -8.240      18.582\n",
       "job_state_ UT                                        -2.6481     18.028     -0.147      0.883     -38.052      32.756\n",
       "job_state_ VA                                         2.7978      6.198      0.451      0.652      -9.375      14.970\n",
       "job_state_ WA                                        10.2040     10.009      1.019      0.308      -9.453      29.861\n",
       "job_state_ WI                                       -11.2162     12.431     -0.902      0.367     -35.628      13.196\n",
       "==============================================================================\n",
       "Omnibus:                       50.702   Durbin-Watson:                   2.091\n",
       "Prob(Omnibus):                  0.000   Jarque-Bera (JB):               93.772\n",
       "Skew:                           0.457   Prob(JB):                     4.34e-21\n",
       "Kurtosis:                       4.482   Cond. No.                     8.14e+17\n",
       "==============================================================================\n",
       "\n",
       "Notes:\n",
       "[1] Standard Errors assume that the covariance matrix of the errors is correctly specified.\n",
       "[2] The smallest eigenvalue is 5.67e-30. This might indicate that there are\n",
       "strong multicollinearity problems or that the design matrix is singular.\n",
       "\"\"\""
      ]
     },
     "execution_count": 75,
     "metadata": {},
     "output_type": "execute_result"
    }
   ],
   "source": [
    "import statsmodels.api as sm\n",
    "\n",
    "X_sm = X = sm.add_constant(X)\n",
    "model = sm.OLS(y,X_sm)\n",
    "model.fit().summary()"
   ]
  },
  {
   "cell_type": "code",
   "execution_count": 76,
   "metadata": {},
   "outputs": [
    {
     "data": {
      "text/plain": [
       "-13052200600.842497"
      ]
     },
     "execution_count": 76,
     "metadata": {},
     "output_type": "execute_result"
    }
   ],
   "source": [
    "\n",
    "from sklearn.linear_model import LinearRegression, Lasso\n",
    "from sklearn.model_selection import cross_val_score\n",
    "\n",
    "lm = LinearRegression()\n",
    "lm.fit(X_train, y_train)\n",
    "\n",
    "np.mean(cross_val_score(lm,X_train,y_train, scoring = 'neg_mean_absolute_error', cv= 3))"
   ]
  },
  {
   "cell_type": "code",
   "execution_count": 77,
   "metadata": {},
   "outputs": [
    {
     "data": {
      "text/html": [
       "<div>\n",
       "<style scoped>\n",
       "    .dataframe tbody tr th:only-of-type {\n",
       "        vertical-align: middle;\n",
       "    }\n",
       "\n",
       "    .dataframe tbody tr th {\n",
       "        vertical-align: top;\n",
       "    }\n",
       "\n",
       "    .dataframe thead th {\n",
       "        text-align: right;\n",
       "    }\n",
       "</style>\n",
       "<table border=\"1\" class=\"dataframe\">\n",
       "  <thead>\n",
       "    <tr style=\"text-align: right;\">\n",
       "      <th></th>\n",
       "      <th>alpha</th>\n",
       "      <th>error</th>\n",
       "    </tr>\n",
       "  </thead>\n",
       "  <tbody>\n",
       "    <tr>\n",
       "      <th>19</th>\n",
       "      <td>0.2</td>\n",
       "      <td>-24.044612</td>\n",
       "    </tr>\n",
       "  </tbody>\n",
       "</table>\n",
       "</div>"
      ],
      "text/plain": [
       "    alpha      error\n",
       "19    0.2 -24.044612"
      ]
     },
     "execution_count": 77,
     "metadata": {},
     "output_type": "execute_result"
    },
    {
     "data": {
      "image/png": "[encoded data removed]",
      "text/plain": [
       "<Figure size 432x288 with 1 Axes>"
      ]
     },
     "metadata": {
      "needs_background": "light"
     },
     "output_type": "display_data"
    }
   ],
   "source": [
    "# lasso regression \n",
    "lm_l = Lasso(alpha=.13)\n",
    "lm_l.fit(X_train,y_train)\n",
    "np.mean(cross_val_score(lm_l,X_train,y_train, scoring = 'neg_mean_absolute_error', cv= 3))\n",
    "\n",
    "alpha = []\n",
    "error = []\n",
    "\n",
    "for i in range(1,100):\n",
    "    alpha.append(i/100)\n",
    "    lml = Lasso(alpha=(i/100))\n",
    "    error.append(np.mean(cross_val_score(lml,X_train,y_train, scoring = 'neg_mean_absolute_error', cv= 3)))\n",
    "    \n",
    "plt.plot(alpha,error)\n",
    "\n",
    "err = tuple(zip(alpha,error))\n",
    "df_err = pd.DataFrame(err, columns = ['alpha','error'])\n",
    "df_err[df_err.error == max(df_err.error)]\n"
   ]
  },
  {
   "cell_type": "code",
   "execution_count": 78,
   "metadata": {},
   "outputs": [
    {
     "data": {
      "text/plain": [
       "-18.484433463379887"
      ]
     },
     "execution_count": 78,
     "metadata": {},
     "output_type": "execute_result"
    }
   ],
   "source": [
    "\n",
    "# random forest \n",
    "from sklearn.ensemble import RandomForestRegressor\n",
    "rf = RandomForestRegressor()\n",
    "\n",
    "np.mean(cross_val_score(rf,X_train,y_train,scoring = 'neg_mean_absolute_error', cv= 3))"
   ]
  },
  {
   "cell_type": "code",
   "execution_count": 79,
   "metadata": {},
   "outputs": [
    {
     "data": {
      "text/plain": [
       "RandomForestRegressor(criterion='mae', n_estimators=290)"
      ]
     },
     "execution_count": 79,
     "metadata": {},
     "output_type": "execute_result"
    }
   ],
   "source": [
    "# tune models GridsearchCV \n",
    "from sklearn.model_selection import GridSearchCV\n",
    "parameters = {'n_estimators':range(10,300,10), 'criterion':('mse','mae'), 'max_features':('auto','sqrt','log2')}\n",
    "\n",
    "gs = GridSearchCV(rf,parameters,scoring='neg_mean_absolute_error',cv=3)\n",
    "gs.fit(X_train,y_train)\n",
    "\n",
    "gs.best_score_\n",
    "gs.best_estimator_"
   ]
  },
  {
   "cell_type": "code",
   "execution_count": 82,
   "metadata": {},
   "outputs": [
    {
     "data": {
      "text/plain": [
       "[3.6,\n",
       " 0.0,\n",
       " 0.0,\n",
       " 1.0,\n",
       " 34.0,\n",
       " 0.0,\n",
       " 0.0,\n",
       " 0.0,\n",
       " 1.0,\n",
       " 0.0,\n",
       " 0.0,\n",
       " 0.0,\n",
       " 1.0,\n",
       " 0.0,\n",
       " 0.0,\n",
       " 0.0,\n",
       " 0.0,\n",
       " 0.0,\n",
       " 0.0,\n",
       " 0.0,\n",
       " 1.0,\n",
       " 0.0,\n",
       " 0.0,\n",
       " 0.0,\n",
       " 0.0,\n",
       " 0.0,\n",
       " 0.0,\n",
       " 0.0,\n",
       " 0.0,\n",
       " 0.0,\n",
       " 0.0,\n",
       " 0.0,\n",
       " 0.0,\n",
       " 0.0,\n",
       " 0.0,\n",
       " 0.0,\n",
       " 0.0,\n",
       " 0.0,\n",
       " 0.0,\n",
       " 0.0,\n",
       " 0.0,\n",
       " 0.0,\n",
       " 0.0,\n",
       " 0.0,\n",
       " 0.0,\n",
       " 0.0,\n",
       " 0.0,\n",
       " 0.0,\n",
       " 0.0,\n",
       " 0.0,\n",
       " 0.0,\n",
       " 0.0,\n",
       " 0.0,\n",
       " 0.0,\n",
       " 1.0,\n",
       " 0.0,\n",
       " 0.0,\n",
       " 0.0,\n",
       " 0.0,\n",
       " 0.0,\n",
       " 0.0,\n",
       " 0.0,\n",
       " 0.0,\n",
       " 0.0,\n",
       " 0.0,\n",
       " 0.0,\n",
       " 0.0,\n",
       " 0.0,\n",
       " 0.0,\n",
       " 0.0,\n",
       " 0.0,\n",
       " 0.0,\n",
       " 0.0,\n",
       " 0.0,\n",
       " 0.0,\n",
       " 0.0,\n",
       " 0.0,\n",
       " 0.0,\n",
       " 0.0,\n",
       " 0.0,\n",
       " 0.0,\n",
       " 0.0,\n",
       " 0.0,\n",
       " 0.0,\n",
       " 0.0,\n",
       " 0.0,\n",
       " 0.0,\n",
       " 0.0,\n",
       " 0.0,\n",
       " 0.0,\n",
       " 0.0,\n",
       " 0.0,\n",
       " 0.0,\n",
       " 1.0,\n",
       " 0.0,\n",
       " 0.0,\n",
       " 0.0,\n",
       " 0.0,\n",
       " 0.0,\n",
       " 0.0,\n",
       " 0.0,\n",
       " 0.0,\n",
       " 0.0,\n",
       " 0.0,\n",
       " 0.0,\n",
       " 0.0,\n",
       " 0.0,\n",
       " 0.0,\n",
       " 0.0,\n",
       " 0.0,\n",
       " 0.0,\n",
       " 0.0,\n",
       " 0.0,\n",
       " 0.0,\n",
       " 0.0,\n",
       " 0.0,\n",
       " 0.0,\n",
       " 0.0,\n",
       " 1.0,\n",
       " 0.0,\n",
       " 0.0,\n",
       " 0.0,\n",
       " 0.0,\n",
       " 0.0,\n",
       " 0.0,\n",
       " 0.0,\n",
       " 0.0,\n",
       " 0.0,\n",
       " 0.0,\n",
       " 0.0,\n",
       " 1.0,\n",
       " 0.0,\n",
       " 0.0,\n",
       " 0.0,\n",
       " 0.0,\n",
       " 0.0,\n",
       " 0.0,\n",
       " 0.0,\n",
       " 0.0,\n",
       " 0.0,\n",
       " 0.0,\n",
       " 0.0,\n",
       " 0.0,\n",
       " 0.0,\n",
       " 0.0,\n",
       " 0.0,\n",
       " 0.0,\n",
       " 0.0,\n",
       " 0.0,\n",
       " 0.0,\n",
       " 0.0,\n",
       " 0.0,\n",
       " 0.0,\n",
       " 0.0,\n",
       " 0.0,\n",
       " 0.0,\n",
       " 0.0,\n",
       " 0.0,\n",
       " 0.0,\n",
       " 0.0,\n",
       " 0.0,\n",
       " 0.0,\n",
       " 0.0,\n",
       " 0.0,\n",
       " 0.0,\n",
       " 0.0]"
      ]
     },
     "execution_count": 82,
     "metadata": {},
     "output_type": "execute_result"
    }
   ],
   "source": [
    "# test ensembles \n",
    "tpred_lm = lm.predict(X_test)\n",
    "tpred_lml = lm_l.predict(X_test)\n",
    "tpred_rf = gs.best_estimator_.predict(X_test)\n",
    "\n",
    "from sklearn.metrics import mean_absolute_error\n",
    "mean_absolute_error(y_test,tpred_lm)\n",
    "mean_absolute_error(y_test,tpred_lml)\n",
    "mean_absolute_error(y_test,tpred_rf)\n",
    "\n",
    "mean_absolute_error(y_test,(tpred_lm+tpred_rf)/2)\n",
    "\n",
    "import pickle\n",
    "pickl = {'model': gs.best_estimator_}\n",
    "pickle.dump( pickl, open( 'model_file' + \".pkl\", \"wb\" ) )\n",
    "\n",
    "file_name = \"model_file.pkl\"\n",
    "with open(file_name, 'rb') as pickled:\n",
    "    data = pickle.load(pickled)\n",
    "    model = data['model']\n",
    "\n",
    "model.predict(np.array(list(X_test.iloc[1,:])).reshape(1,-1))[0]\n",
    "\n",
    "list(X_test.iloc[1,:])"
   ]
  },
  {
   "cell_type": "code",
   "execution_count": null,
   "metadata": {},
   "outputs": [],
   "source": []
  }
 ],
 "metadata": {
  "colab": {
   "collapsed_sections": [],
   "name": "project-checkpoint.ipynb",
   "provenance": []
  },
  "kernelspec": {
   "display_name": "Python 3 (ipykernel)",
   "language": "python",
   "name": "python3"
  },
  "language_info": {
   "codemirror_mode": {
    "name": "ipython",
    "version": 3
   },
   "file_extension": ".py",
   "mimetype": "text/x-python",
   "name": "python",
   "nbconvert_exporter": "python",
   "pygments_lexer": "ipython3",
   "version": "3.9.7"
  }
 },
 "nbformat": 4,
 "nbformat_minor": 1
}
